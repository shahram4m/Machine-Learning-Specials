{
 "cells": [
  {
   "cell_type": "code",
   "execution_count": 1,
   "id": "ecad5099-5be2-462d-b544-0f748ec7e6a5",
   "metadata": {},
   "outputs": [
    {
     "name": "stdout",
     "output_type": "stream",
     "text": [
      "Module(body=[Assign(targets=[Name(id='a', ctx=Store())], value=BinOp(left=Constant(value=5), op=Add(), right=Constant(value=5)))], type_ignores=[])\n"
     ]
    }
   ],
   "source": [
    "import ast\n",
    "\n",
    "srcCode = 'a = 5+5'\n",
    "parsCode = ast.parse(srcCode)\n",
    "print(ast.dump(parsCode))"
   ]
  },
  {
   "cell_type": "code",
   "execution_count": 1,
   "id": "18fdae07-9b00-4e36-b930-93832f4991a3",
   "metadata": {},
   "outputs": [
    {
     "name": "stdout",
     "output_type": "stream",
     "text": [
      "[1, 2, 3, 4, 5, 6]\n"
     ]
    }
   ],
   "source": [
    "def chain(*itrables):\n",
    "    for iter in itrables:\n",
    "        yield from iter\n",
    "\n",
    "mylist = list[[1,2],[3,4], [5,6]]\n",
    "\n",
    "result  = list(chain([1,2],[3,4], [5,6]))\n",
    "print(result)\n"
   ]
  },
  {
   "cell_type": "code",
   "execution_count": 1,
   "id": "673c539b-f495-471b-9167-c8a0f3deb411",
   "metadata": {},
   "outputs": [
    {
     "name": "stdout",
     "output_type": "stream",
     "text": [
      "[9]\n"
     ]
    }
   ],
   "source": [
    "# heapq Module\n",
    "import heapq\n",
    "from heapq import heapify, heappop, heappush\n",
    "data = [1, 3, 5, 7, 9, 2, 4, 6, 8, 0]\n",
    "heapify(data)\n",
    "heappush(data, -5)\n",
    "[heappop(data) for i in range(3)]\n",
    "\n",
    "#print(heappop(data))\n",
    "print(heapq.nlargest(1, data))\n"
   ]
  },
  {
   "cell_type": "code",
   "execution_count": null,
   "id": "db3120fc-2697-48cf-97a9-6e7720930ba8",
   "metadata": {},
   "outputs": [],
   "source": [
    "#Named Expressions with _\n",
    "print(5+2)\n",
    "#print( _ +3)"
   ]
  },
  {
   "cell_type": "code",
   "execution_count": 1,
   "id": "95259970-6ae1-4a7b-81e8-f04d2a123108",
   "metadata": {},
   "outputs": [
    {
     "name": "stdout",
     "output_type": "stream",
     "text": [
      "0\n",
      "1\n",
      "2\n",
      "3\n",
      "4\n",
      "5\n",
      "6\n",
      "7\n",
      "8\n",
      "9\n"
     ]
    }
   ],
   "source": [
    "import threading \n",
    "\n",
    "def print_num():\n",
    "    for i in range(10):\n",
    "        print(i)\n",
    "\n",
    "thread = threading.Thread(target=print_num)\n",
    "thread.start()\n",
    "thread.join()\n",
    "\n",
    "        "
   ]
  },
  {
   "cell_type": "code",
   "execution_count": null,
   "id": "af23d22a-abb1-413d-af86-e32bc1e7edb2",
   "metadata": {},
   "outputs": [],
   "source": [
    "#The __slots__ Attribute\n"
   ]
  },
  {
   "cell_type": "code",
   "execution_count": 20,
   "id": "ab362738-c497-49b2-954d-d98f75ebad82",
   "metadata": {},
   "outputs": [
    {
     "name": "stdout",
     "output_type": "stream",
     "text": [
      "ario2\n",
      "35\n"
     ]
    }
   ],
   "source": [
    "# __slots__ is an attribute you can add to a class to save memory by\n",
    "# preventing the dynamic creation of attributes.\n",
    "class myClass:\n",
    "    lst = []   \n",
    "    __slots__ = ['name', 'age']\n",
    "    def __init__(self, name, age):\n",
    "        self.name = name\n",
    "        self.age = age\n",
    "        \n",
    "\n",
    "cla = myClass('shahram', 35)\n",
    "\n",
    "cla1 = cla\n",
    "\n",
    "cla1.name = 'ario2'\n",
    "cla.lst.append(4)\n",
    "\n",
    "print(cla.name)\n",
    "print(cla.age)\n"
   ]
  },
  {
   "cell_type": "code",
   "execution_count": 22,
   "id": "503039aa-f1bd-4f14-a6c5-71aa1184270d",
   "metadata": {},
   "outputs": [
    {
     "name": "stdout",
     "output_type": "stream",
     "text": [
      "b'SHR!'\n"
     ]
    }
   ],
   "source": [
    "#memoryview Objects\n",
    "data = bytearray(b\"Hello, SHR!\")\n",
    "view = memoryview(data)\n",
    "chunk = view[7:13]\n",
    "print(bytes(chunk)) # Output: b'world!'\n"
   ]
  },
  {
   "cell_type": "code",
   "execution_count": null,
   "id": "18c267f0-c15e-4750-85f7-072ccdd5244f",
   "metadata": {},
   "outputs": [],
   "source": [
    "#The codecs Module\n",
    "# The codecs module provides functions for encoding and decoding data,\n",
    "# including handling various text encodings.\n",
    "\n",
    "import codecs\n",
    "encoded = codecs.encode('text', 'base64')\n",
    "print(encoded) # Output: b'dGV4dA==\\n'"
   ]
  },
  {
   "cell_type": "code",
   "execution_count": 31,
   "id": "e333650f-5155-4f29-a4ce-a452289618cb",
   "metadata": {},
   "outputs": [
    {
     "ename": "AttributeError",
     "evalue": "'myClass2' object has no attribute 'x'",
     "output_type": "error",
     "traceback": [
      "\u001b[1;31m---------------------------------------------------------------------------\u001b[0m",
      "\u001b[1;31mAttributeError\u001b[0m                            Traceback (most recent call last)",
      "Cell \u001b[1;32mIn[31], line 12\u001b[0m\n\u001b[0;32m      9\u001b[0m         \u001b[38;5;28mself\u001b[39m\u001b[38;5;241m.\u001b[39my \u001b[38;5;241m=\u001b[39m \u001b[38;5;241m1\u001b[39m\n\u001b[0;32m     11\u001b[0m b \u001b[38;5;241m=\u001b[39m myClass2()\n\u001b[1;32m---> 12\u001b[0m \u001b[38;5;28mprint\u001b[39m(\u001b[43mb\u001b[49m\u001b[38;5;241;43m.\u001b[39;49m\u001b[43mx\u001b[49m, b\u001b[38;5;241m.\u001b[39my)\n",
      "\u001b[1;31mAttributeError\u001b[0m: 'myClass2' object has no attribute 'x'"
     ]
    }
   ],
   "source": [
    "#************* raise Error\n",
    "\n",
    "class myClass():\n",
    "    list = []\n",
    "    def __init__(self):\n",
    "        self.x = 0\n",
    "\n",
    "class myClass2(myClass):\n",
    "    list = []\n",
    "    def __init__(self):\n",
    "        self.y = 1\n",
    "\n",
    "b = myClass2()\n",
    "print(b.x, b.y)\n",
    "\n",
    "#******************** run finely\n",
    "class myClass():\n",
    "    list = []\n",
    "    x = 0\n",
    "    def __init__(self, x):\n",
    "        self.x = 0\n",
    "\n",
    "class myClass2(myClass):\n",
    "    list = []\n",
    "    def __init__(self):\n",
    "        self.y = 1\n",
    "\n",
    "b = myClass2()\n",
    "print(b.x, b.y)\n"
   ]
  },
  {
   "cell_type": "markdown",
   "id": "4e28910a-b516-470c-8c7d-88aa52cf2681",
   "metadata": {},
   "source": [
    "### **Online question 1**"
   ]
  },
  {
   "cell_type": "code",
   "execution_count": 26,
   "id": "b55ac57a-a104-4030-af75-7a8612c8ed5a",
   "metadata": {},
   "outputs": [
    {
     "name": "stdout",
     "output_type": "stream",
     "text": [
      "shahram ['jahan'] asho ['jahan']\n"
     ]
    }
   ],
   "source": [
    "\n",
    "class myClass:\n",
    "    lst = []   \n",
    "    __slots__ = ['name', 'age']\n",
    "    def __init__(self, name, age):\n",
    "        self.name = name\n",
    "        self.age = age\n",
    "        \n",
    "\n",
    "a = myClass('shahram', 35)\n",
    "b = myClass('asho', 40)\n",
    "\n",
    "# cla1 = cla\n",
    "\n",
    "#when add list (a) added for (b) too\n",
    "a.lst.append('jahan')\n",
    "\n",
    "\n",
    "print(a.name, a.lst, b.name, b.lst)\n",
    "\n"
   ]
  },
  {
   "cell_type": "markdown",
   "id": "ba54f2eb-1a31-42c4-8797-1aa214c32185",
   "metadata": {},
   "source": [
    "### **Online Question 2**"
   ]
  },
  {
   "cell_type": "code",
   "execution_count": 27,
   "id": "8ecba467-4047-45ab-8869-5588e6b053ba",
   "metadata": {},
   "outputs": [
    {
     "name": "stdout",
     "output_type": "stream",
     "text": [
      "[1, 2, 3, 80] a vlaue before copy\n"
     ]
    }
   ],
   "source": [
    "import copy\n",
    "\n",
    "class myclass(object):\n",
    "    pass\n",
    "\n",
    "a = myclass()\n",
    "\n",
    "a.lst = [1,2,3]\n",
    "a.str = \"a vlaue before copy\"\n",
    "\n",
    "b = copy.copy(a)\n",
    "\n",
    "#when add list with append change (a) has affect on (b)\n",
    "a.lst.append(80)\n",
    "a.str=\"b value after copy\"\n",
    "\n",
    "print(b.lst, b.str)"
   ]
  },
  {
   "cell_type": "markdown",
   "id": "ba6de981-b719-4a05-a77a-bd0f99602717",
   "metadata": {},
   "source": [
    "### **Online Question 3**"
   ]
  },
  {
   "cell_type": "code",
   "execution_count": 36,
   "id": "88657b7c-da82-4464-84ee-30a6687aaeea",
   "metadata": {},
   "outputs": [
    {
     "name": "stdout",
     "output_type": "stream",
     "text": [
      "89\n"
     ]
    }
   ],
   "source": [
    "import datetime\n",
    "\n",
    "class Human(object):\n",
    "    name = None\n",
    "    gender = None\n",
    "    birthdate = None\n",
    "\n",
    "    def  __getattr__(self, item):\n",
    "        print(item)\n",
    "        if item == 'age':\n",
    "            return datetime.datetime.now() - self.birthdate\n",
    "        else:\n",
    "            return None\n",
    "\n",
    "    def __getattribute__(self, item):\n",
    "        return object.__getattribute__(self, item)\n",
    "\n",
    "h = Human()\n",
    "h.birthdate = datetime.datetime(2020,4,18)\n",
    "h.age = 89\n",
    "print(h.age)\n"
   ]
  },
  {
   "cell_type": "code",
   "execution_count": null,
   "id": "83a1fec1-25e8-4ecb-80f0-5bcb2e5b56c9",
   "metadata": {},
   "outputs": [],
   "source": [
    "# ***************************************************************************import \n",
    "\n",
    "# does store in memory this command:l = [i for i in xrange(10000)]\n",
    "# does store in memory this command:l = (i for i in xrange(10000))\n",
    "\n",
    "# However, it's important to note that in Python 3, xrange() has been removed, and range() now behaves like the old xrange() in Python 2, \n",
    "# providing an iterable that generates values on-the-fly rather than creating a full list in memory.\n"
   ]
  },
  {
   "cell_type": "code",
   "execution_count": 37,
   "id": "6b1983a0-9350-429b-9934-cafe9d9e5f50",
   "metadata": {},
   "outputs": [],
   "source": [
    "#Set Dict List bytarr are mutable\n",
    "# Immutable types\n",
    "immutable_int = 42\n",
    "immutable_float = 3.14\n",
    "immutable_bool = True\n",
    "immutable_str = \"Hello, World!\"\n",
    "immutable_tuple = (1, 2, 3)\n",
    "immutable_frozenset = frozenset([1, 2, 3])\n",
    "immutable_bytes = b\"example\"\n",
    "\n",
    "# Mutable types\n",
    "mutable_list = [1, 2, 3]\n",
    "mutable_dict = {'key': 'value'}\n",
    "mutable_set = {1, 2, 3}\n",
    "mutable_bytearray = bytearray(b\"mutable\")\n",
    "\n",
    "# NoneType\n",
    "none_type = None\n",
    "\n"
   ]
  },
  {
   "cell_type": "code",
   "execution_count": 40,
   "id": "4c874c4f-fefb-4db3-9bf6-d3ed833f52be",
   "metadata": {},
   "outputs": [
    {
     "name": "stdout",
     "output_type": "stream",
     "text": [
      "female\n"
     ]
    }
   ],
   "source": [
    "class Human(object):\n",
    "\n",
    "    ALLOWED_GENDERS = ['male', 'female']\n",
    "\n",
    "    def __init__(self, name=None, gender=None):\n",
    "        self.name = name\n",
    "        self._gender = gender\n",
    "\n",
    "    @property\n",
    "    def gender(self):\n",
    "        return self._gender\n",
    "\n",
    "    @gender.setter\n",
    "    def gender(self, newvalue):\n",
    "        if newvalue not in self.ALLOWED_GENDERS:\n",
    "            raise ValueError('Invalid value for gender: %s. Should be one of %s.' % (newvalue, \", \".join(self.ALLOWED_GENDERS)))\n",
    "\n",
    "        self._gender = newvalue\n",
    "\n",
    "\n",
    "h = Human()\n",
    "h.name = 'Sweety'\n",
    "h.gender = 'female'\n",
    "\n",
    "print(h.gender)"
   ]
  },
  {
   "cell_type": "code",
   "execution_count": null,
   "id": "533a334c-3034-4c64-beed-1497193254a4",
   "metadata": {},
   "outputs": [],
   "source": [
    "class StockSpanner:\n",
    "\n",
    "    def __init__(self):\n",
    "        self.stack=[]\n",
    "        \n",
    "\n",
    "    def next(self, price: int) -> int:\n",
    "        counter = 1\n",
    "        if self.stack:\n",
    "            print(f\"stack[-1][0]:{self.stack[-1][0]}\")\n",
    "            \n",
    "        while self.stack and self.stack[-1][0] <= price:\n",
    "            counter += self.stack.pop()[1]\n",
    "            print(f\"stack:{self.stack.pop()[1]}\")\n",
    "\n",
    "        self.stack.append((price,counter))\n",
    "        return counter\n",
    "        \n",
    "# Your StockSpanner object will be instantiated and called as such:\n",
    "obj = StockSpanner()\n",
    "\n",
    "param_1 = obj.next(100)\n",
    "print(param_1)\n",
    "\n",
    "param_2 = obj.next(50)\n",
    "print(param_2)\n",
    "\n",
    "param_3 = obj.next(200)\n",
    "print(param_3)        "
   ]
  },
  {
   "cell_type": "code",
   "execution_count": null,
   "id": "46a6d0b4-9664-4dc7-acae-9d61e3719ff0",
   "metadata": {},
   "outputs": [],
   "source": [
    "#updateDic\n",
    "mydic = {\"name\":\"shr\",\"family\":\"ros\"}\n",
    "\n",
    "myUpdic = {\"age\":20 , \"name\":\"arsho\"}\n",
    "\n",
    "myUpdic.update(mydic)\n",
    "\n",
    "print(myUpdic)"
   ]
  },
  {
   "cell_type": "code",
   "execution_count": 1,
   "id": "d3bbcac8-307e-419f-a455-ab2f82b942d8",
   "metadata": {},
   "outputs": [
    {
     "name": "stdout",
     "output_type": "stream",
     "text": [
      " name:shr, family:shro\n"
     ]
    }
   ],
   "source": [
    "#pasing dic as param with value\n",
    "def displaytitle(name, family):\n",
    "    print(f\" name:{name}, family:{family}\")\n",
    "\n",
    "\n",
    "mydic = {\"name\":\"shr\",\"family\":\"shro\"}\n",
    "\n",
    "displaytitle(**mydic)\n"
   ]
  },
  {
   "cell_type": "code",
   "execution_count": 48,
   "id": "3756ada7-46bc-4c82-a199-8bea8ab1ead0",
   "metadata": {},
   "outputs": [
    {
     "name": "stdout",
     "output_type": "stream",
     "text": [
      "[1, 1, 4, 2, 1, 1, 1, 0]\n"
     ]
    }
   ],
   "source": [
    "#while temperatures and temperatures[0][-1] <= \n",
    "temperatures = [73,74,75,71,69,72,76,73]\n",
    "#print(dir(temperatures))\n",
    "#print(temperatures[3:])\n",
    "result=[]\n",
    "\n",
    "\n",
    "for index, itemMst  in enumerate(temperatures):    \n",
    "    #print(itemMst)\n",
    "    cnt = 0\n",
    "    for item in temperatures[index+1:]:\n",
    "        #print(f\" itemMst:{itemMst} item:{item}\")\n",
    "        if item > itemMst:\n",
    "            cnt += 1\n",
    "            break\n",
    "        else:\n",
    "            cnt += 1\n",
    "    result.append(cnt)\n",
    "        \n",
    "   \n",
    "\n",
    "print(result)\n",
    "    \n",
    "\n"
   ]
  },
  {
   "cell_type": "code",
   "execution_count": null,
   "id": "5325c201-ca91-43d5-864a-9689de23fa6c",
   "metadata": {},
   "outputs": [],
   "source": [
    "# Code\n",
    "# Testcase\n",
    "# Test Result\n",
    "# Test Result\n",
    "# 452. Minimum Number of Arrows to Burst Balloons\n",
    "# Medium\n",
    "# Topics\n",
    "# Companies\n",
    "# There are some spherical balloons taped onto a flat wall that represents the XY-plane. The balloons are represented as a 2D integer array points where points[i] = [xstart, xend] denotes a balloon whose horizontal diameter stretches between xstart and xend. You do not know the exact y-coordinates of the balloons.\n",
    "# Arrows can be shot up directly vertically (in the positive y-direction) from different points along the x-axis. A balloon with xstart and xend is burst by an arrow shot at x if xstart <= x <= xend. There is no limit to the number of arrows that can be shot. A shot arrow keeps traveling up infinitely, bursting any balloons in its path.\n",
    "# Given the array points, return the minimum number of arrows that must be shot to burst all balloons.\n",
    "\n",
    "# spells = [5,1,3]\n",
    "# potions = [1,2,3,4,5]\n",
    "# success = 7\n",
    "spells = [3,1,2]\n",
    "potions = [8,5,8]\n",
    "success = 16\n",
    "\n",
    "res = [0] * len(spells)\n",
    "potions.sort()\n",
    "\n",
    "for i in range(len(spells)):\n",
    "    # find the smallest value to reach in spells\n",
    "    needed = success//spells[i] + bool(success % spells[i])\n",
    "\n",
    "    l, r = 0, len(potions) # r should start with len(potions) to give a full range from 0 to len(potions) to l\n",
    "    while l < r:\n",
    "        mid = l + (r - l) // 2\n",
    "        if potions[mid] < needed:\n",
    "            l = mid + 1\n",
    "        else:\n",
    "            r = mid\n",
    "        res[i] = len(potions) - l\n",
    "\n",
    "print(res)\n",
    "\n",
    "\n",
    "# potions.sort() # Sort the potions array\n",
    "# pairs = [0] * len(spells) # Initialize the result array with zeros\n",
    "\n",
    "# for i, spell in enumerate(spells):\n",
    "#     # Find the lower and upper bounds for the binary search\n",
    "#     lower = 0\n",
    "#     upper = len(potions) - 1\n",
    "\n",
    "#     while lower <= upper:\n",
    "#         mid = lower + (upper - lower) // 2\n",
    "#         product = spell * potions[mid]\n",
    "\n",
    "#         if product >= success:\n",
    "#             # If the product is successful, search for a smaller potion\n",
    "#             upper = mid - 1\n",
    "#         else:\n",
    "#             # If the product is not successful, search for a larger potion\n",
    "#             lower = mid + 1\n",
    "\n",
    "#     # The number of successful pairs is the index of the last successful potion + 1\n",
    "#     # If no potion is successful, the index is 0\n",
    "#     pairs[i] = lower + 1\n",
    "\n",
    "# print(pairs)\n",
    "\n",
    "\n"
   ]
  },
  {
   "cell_type": "code",
   "execution_count": 57,
   "id": "97cad036-f76f-4f98-9985-3613aba57e57",
   "metadata": {},
   "outputs": [
    {
     "name": "stdout",
     "output_type": "stream",
     "text": [
      "2\n"
     ]
    }
   ],
   "source": [
    "print(0 + (5 - 0) // 2)"
   ]
  },
  {
   "cell_type": "code",
   "execution_count": null,
   "id": "6c41bf63-1117-4cb2-889c-c9a2ea9ae432",
   "metadata": {},
   "outputs": [],
   "source": [
    "# Input: spells = [5,1,3], potions = [1,2,3,4,5], success = 7\n",
    "# Output: [4,0,3]\n",
    "# Explanation:\n",
    "# - 0th spell: 5 * [1,2,3,4,5] = [5,10,15,20,25]. 4 pairs are successful.\n",
    "# - 1st spell: 1 * [1,2,3,4,5] = [1,2,3,4,5]. 0 pairs are successful.\n",
    "# - 2nd spell: 3 * [1,2,3,4,5] = [3,6,9,12,15]. 3 pairs are successful.\n",
    "# Thus, [4,0,3] is returned.\n",
    "\n",
    "# spells = [5,1,3]\n",
    "# potions = [1,2,3,4,5]\n",
    "# success = 7\n",
    "\n",
    "# potions.sort()\n",
    "# pairs = [0] * len(spells)\n",
    "\n",
    "# for i, spell in enumerate(spells):\n",
    "#      # find the smallest value to reach in spells\n",
    "#     needed = success//spells[i] + bool(success % spells[i])\n",
    "#     print(needed)\n",
    "#     left , right = 0 , len(potions) - 1\n",
    "#     while left <= right:\n",
    "#         mid = left + (right - left) // 2\n",
    "#         if int(spell) * int(potions[mid]) >= success:\n",
    "#            right = mid\n",
    "#         else:\n",
    "#            left = mid+1\n",
    "\n",
    "            \n",
    "#     pairs[i] = len(potions) - left\n",
    "\n",
    "# print(pairs)\n",
    "\n"
   ]
  },
  {
   "cell_type": "code",
   "execution_count": 1,
   "id": "ee5793b4-a763-4331-badb-d1f4e56f263d",
   "metadata": {},
   "outputs": [
    {
     "name": "stdout",
     "output_type": "stream",
     "text": [
      "6\n",
      "16\n",
      "8\n",
      "[2, 0, 2]\n"
     ]
    }
   ],
   "source": [
    "spells = [3,1,2]\n",
    "potions = [8,5,8]\n",
    "success = 16\n",
    "\n",
    "res = [0] * len(spells)\n",
    "potions.sort()\n",
    "\n",
    "for i in range(len(spells)):\n",
    "    # find the smallest value to reach in spells\n",
    "    needed = success//spells[i] + bool(success % spells[i])\n",
    "    print(needed)\n",
    "    l, r = 0, len(potions) # r should start with len(potions) to give a full range from 0 to len(potions) to l\n",
    "    while l < r:\n",
    "        mid = l + (r - l) // 2\n",
    "        if potions[mid] < needed:\n",
    "            l = mid + 1\n",
    "        else:\n",
    "            r = mid\n",
    "        res[i] = len(potions) - l\n",
    "\n",
    "print(res)"
   ]
  },
  {
   "cell_type": "code",
   "execution_count": 11,
   "id": "0aa1b142-bfd1-43f7-bb12-aba2873b80f5",
   "metadata": {},
   "outputs": [
    {
     "name": "stdout",
     "output_type": "stream",
     "text": [
      "mid:2 , int(potions[mid]):3 , int(spell) *:15\n",
      "mid:1 , int(potions[mid]):2 , int(spell) *:10\n",
      "mid:0 , int(potions[mid]):1 , int(spell) *:5\n",
      "len(potions) - left:4\n",
      "mid:2 , int(potions[mid]):3 , int(spell) *:3\n",
      "mid:4 , int(potions[mid]):5 , int(spell) *:5\n",
      "len(potions) - left:0\n",
      "mid:2 , int(potions[mid]):3 , int(spell) *:9\n",
      "mid:1 , int(potions[mid]):2 , int(spell) *:6\n",
      "len(potions) - left:3\n",
      "[4, 0, 3]\n"
     ]
    }
   ],
   "source": [
    "spells = [5,1,3]\n",
    "potions = [1,2,3,4,5]\n",
    "success = 7\n",
    "\n",
    "# spells = [3,1,2]\n",
    "# potions = [8,5,8]\n",
    "# success = 16\n",
    "\n",
    "# Input: spells = [5,1,3], potions = [1,2,3,4,5], success = 7\n",
    "# Output: [4,0,3]\n",
    "# Explanation:\n",
    "# - 0th spell: 5 * [1,2,3,4,5] = [5,10,15,20,25]. 4 pairs are successful.\n",
    "# - 1st spell: 1 * [1,2,3,4,5] = [1,2,3,4,5]. 0 pairs are successful.\n",
    "# - 2nd spell: 3 * [1,2,3,4,5] = [3,6,9,12,15]. 3 pairs are successful.\n",
    "# Thus, [4,0,3] is returned.\n",
    "\n",
    "potions.sort()\n",
    "pairs = [0] * len(spells) \n",
    "\n",
    "for i, spell in enumerate(spells):    \n",
    "    left , right = 0 , len(potions)\n",
    "    while left < right:\n",
    "        mid = left + (right - left) // 2\n",
    "        print(f\"mid:{mid} , int(potions[mid]):{int(potions[mid])} , int(spell) *:{int(spell) * int(potions[mid])}\")        \n",
    "        if int(spell) * int(potions[mid]) >= success:\n",
    "           right = mid\n",
    "        else:\n",
    "           left = mid+1\n",
    "\n",
    "    print(f\"len(potions) - left:{len(potions) - left}\")\n",
    "    pairs[i] = len(potions) - left\n",
    "\n",
    "print(pairs)"
   ]
  },
  {
   "cell_type": "code",
   "execution_count": 55,
   "id": "bfad967d-5f12-4070-b334-dcbb83f7b377",
   "metadata": {},
   "outputs": [
    {
     "name": "stdout",
     "output_type": "stream",
     "text": [
      "5\n",
      "[2, 3, 4, 5]\n"
     ]
    }
   ],
   "source": [
    "points = [[1,2],[2,3],[3,4],[4,5]] \n",
    "#points = [[1,2],[3,4],[5,6],[7,8]] #[[10,16],[2,8],[1,6],[7,12]]\n",
    "# START, END = 0,1\n",
    "# points.sort(key=lambda i: (i[START],i[END]) )\n",
    "# print(points)\n",
    "imax = max(number for subList in points for number in subList)\n",
    "print (imax)\n",
    "result = []\n",
    "cnt = 0\n",
    "#print(points[0:])\n",
    "while cnt <= imax:\n",
    "    for item in points[cnt:]:\n",
    "      #print(f\"cnt:{cnt+1} [{item[0]} , {item[1]}] {item[0]+cnt+1}\")\n",
    "      if item[0] <= item[0]+cnt+1 <= item[1]:          \n",
    "          #if item[0]+cnt+1 not in result:\n",
    "          result.append(item[0]+cnt+1)\n",
    "          #break          \n",
    "    cnt += 1        \n",
    "    \n",
    "unique_items = set(result)\n",
    "# If you need a list:\n",
    "unique_list = list(unique_items)\n",
    "# print(unique_list)\n",
    "print(result)"
   ]
  },
  {
   "cell_type": "code",
   "execution_count": 36,
   "id": "546d3b36-a121-45f2-8339-8c530eeb7969",
   "metadata": {},
   "outputs": [
    {
     "name": "stdout",
     "output_type": "stream",
     "text": [
      "4\n"
     ]
    }
   ],
   "source": [
    "points = [[1,2],[3,4],[5,6],[7,8]]\n",
    "\n",
    "n = len(points)\n",
    "if n<2:\n",
    "    print(n)\n",
    "\n",
    "#sort by start and end point\n",
    "START, END = 0,1\n",
    "points.sort(key=lambda i: (i[START],i[END]) )\n",
    "prev, cur = points[0], None\n",
    "darts = 0\n",
    "\n",
    "for i in range(1, n):\n",
    "    cur = points[i]\n",
    "\n",
    "    if cur[START] <= prev[END]:\n",
    "        #overlap, wait for more overlap to throw dart\n",
    "        prev = [cur[START], min(cur[END],prev[END])]\n",
    "    else:\n",
    "        #no overlap, throw dart at previous\n",
    "        darts += 1\n",
    "        prev = cur\n",
    "\n",
    "#pop the last balloon and return\n",
    "print(darts+1)"
   ]
  },
  {
   "cell_type": "code",
   "execution_count": 30,
   "id": "67b1709e-a5a1-43f9-90c7-e6750d4e0a63",
   "metadata": {},
   "outputs": [
    {
     "name": "stdout",
     "output_type": "stream",
     "text": [
      "world hello\n",
      "world hello\n"
     ]
    }
   ],
   "source": [
    "str = \"  hello world  \"\n",
    "s = str.split()\n",
    "s = list(s)\n",
    "s = reversed(s)\n",
    "\n",
    "print(' '.join(s))\n",
    "\n",
    "arr = str.split(' ')\n",
    "# print(len(arr))\n",
    "# print(s.split(' '))\n",
    "\n",
    "# print(arr[-1:])\n",
    "# print(arr[-2:])\n",
    "result = []\n",
    "i = 1\n",
    "# print(arr[len(arr) - i]) \n",
    "\n",
    "while i <= len(arr):\n",
    "    #print(arr[len(arr) - i]) \n",
    "    if arr[len(arr) - i]:\n",
    "        result.append(arr[len(arr) - i])\n",
    "    i += 1\n",
    "\n",
    "# while arr[-1:]:\n",
    "#     result.append(arr[-1:])\n",
    "#     arr.pop(arr[-1:])\n",
    "#     print(arr)\n",
    "\n",
    "print(' '.join(result))\n"
   ]
  },
  {
   "cell_type": "code",
   "execution_count": 44,
   "id": "58dcdf06-ec87-4dc0-a34a-fc26446795f6",
   "metadata": {},
   "outputs": [
    {
     "name": "stdout",
     "output_type": "stream",
     "text": [
      "4 4\n",
      "[3, 1, 2, 2] [3, 1, 2, 2]\n",
      "[2, 4, 2, 2] [2, 4, 2, 2]\n",
      "[2, 4, 2, 2] [2, 4, 2, 2]\n",
      "[[0, 0], [2, 2], [3, 2]]\n"
     ]
    }
   ],
   "source": [
    "grid0 = [[3,2,1],[1,7,6],[2,7,7]]\n",
    "grid  = [[3,1,2,2],[1,4,4,5],[2,4,2,2],[2,4,2,2]]\n",
    "\n",
    "transposed_array = [[row[i] for row in grid] for i in range(len(grid[0]))]\n",
    "result = []\n",
    "row  = len(grid)\n",
    "col = len(grid[0]) \n",
    "print (row , col )\n",
    "\n",
    "for i , item in enumerate(grid):\n",
    "    for j , subitem in enumerate(transposed_array):\n",
    "        if item == subitem:\n",
    "            result.append([i,j])\n",
    "            print(item, subitem)\n",
    "\n",
    "print(result)\n",
    "\n",
    "\n",
    "\n",
    "\n"
   ]
  },
  {
   "cell_type": "code",
   "execution_count": 39,
   "id": "21bf7ae6-b4dc-42fe-b267-6f54aeb7d1fd",
   "metadata": {},
   "outputs": [
    {
     "name": "stdout",
     "output_type": "stream",
     "text": [
      "[[3, 1, 2], [2, 7, 7], [1, 6, 7]]\n"
     ]
    }
   ],
   "source": [
    "array = [[3,2,1],[1,7,6],[2,7,7]]\n",
    "transposed_array = [[row[i] for row in array] for i in range(len(array[0]))]\n",
    "\n",
    "print(transposed_array)"
   ]
  },
  {
   "cell_type": "code",
   "execution_count": 51,
   "id": "bc88b3b7-a89c-411d-a2ea-a04b414330f0",
   "metadata": {},
   "outputs": [
    {
     "name": "stdout",
     "output_type": "stream",
     "text": [
      "[[3, 1, 2, 2], [1, 4, 4, 4], [2, 4, 2, 2], [2, 5, 2, 2]]\n"
     ]
    }
   ],
   "source": [
    "grid  = [[3,1,2,2],[1,4,4,5],[2,4,2,2],[2,4,2,2]]\n",
    "trans = [ [row[i] for row in grid] for i in range(len(grid[0])) ]\n",
    "print(trans)\n",
    "#row for row in arr for sub in arr"
   ]
  },
  {
   "cell_type": "code",
   "execution_count": 61,
   "id": "9aea4dd7-89a4-4b16-8bcb-97c62ea1fa9b",
   "metadata": {},
   "outputs": [
    {
     "name": "stdout",
     "output_type": "stream",
     "text": [
      "[2, 5]\n"
     ]
    }
   ],
   "source": [
    "original_list  = [2, 5, 2, 2]\n",
    "unique_list = list(dict.fromkeys(original_list))\n",
    "print(unique_list)"
   ]
  },
  {
   "cell_type": "code",
   "execution_count": 76,
   "id": "808cd561-ecc2-4092-a572-b0918df1ec28",
   "metadata": {},
   "outputs": [
    {
     "name": "stdout",
     "output_type": "stream",
     "text": [
      "5\n",
      "[3, 1, 2, 2, 1, 4, 4, 4, 2, 4, 2, 2, 2, 5, 2, 2]\n",
      "[3, 1, 2, 2, 1, 4, 4, 4, 2, 4, 2, 2, 2, 5, 2, 2]\n"
     ]
    }
   ],
   "source": [
    "points  = [[3, 1, 2, 2], [1, 4, 4, 4], [2, 4, 2, 2], [2, 5, 2, 2]]\n",
    "print(max([number for subList in points for number in subList]))\n",
    "\n",
    "print([ number for sublist in points for number in sublist] )\n",
    "\n",
    "\n",
    "#print(list(dict.fromkeys(points)))\n",
    "\n",
    "#[row for sublist in points for row in sublist]\n",
    "\n",
    "new  = [number for subList in points for number in subList]\n",
    "print(new)\n"
   ]
  },
  {
   "cell_type": "code",
   "execution_count": 59,
   "id": "b3237ce5-47d3-411e-85f9-aed8cc4610a8",
   "metadata": {},
   "outputs": [
    {
     "name": "stdout",
     "output_type": "stream",
     "text": [
      "4500\n"
     ]
    }
   ],
   "source": [
    "class Vehicle():\n",
    "\n",
    "    def getBrand(self)-> str:\n",
    "        pass\n",
    "\n",
    "    def getModel(self)-> str:\n",
    "        pass\n",
    "\n",
    "    def getPrice(self)-> int:\n",
    "        pass\n",
    "\n",
    "class MarutiCar(Vehicle):\n",
    "    \n",
    "    def getBrand(self)-> str:\n",
    "        return 'get Maruti brand'\n",
    "    \n",
    "    def getModel(self)-> str:\n",
    "        return 'get  Maruti model'\n",
    "    \n",
    "    def getPrice(self)-> int:\n",
    "        return 1000\n",
    "\n",
    "class BmwCar(Vehicle):\n",
    "    \n",
    "    def getBrand(self)-> str:\n",
    "        return 'get Bmw brand'\n",
    "    \n",
    "    def getModel(self)-> str:\n",
    "        return 'get Bmw model'\n",
    "    \n",
    "    def getPrice(self)-> int:\n",
    "        return 10000\n",
    "\n",
    "class BenzCar(Vehicle):\n",
    "    \n",
    "    def getBrand(self)-> str:\n",
    "        return 'get Benz brand'\n",
    "    \n",
    "    def getModel(self)-> str:\n",
    "        return 'get benz model'\n",
    "    \n",
    "    def getPrice(self)-> int:\n",
    "        return 1500\n",
    "        \n",
    "class Decorator(Vehicle):\n",
    "    \n",
    "    _vehicle: Vehicle = None\n",
    "    \n",
    "    def __init__(self, vehicle:Vehicle)-> None:\n",
    "        self._vehicle  = vehicle\n",
    "\n",
    "    @property\n",
    "    def vehicle(self) -> Vehicle:\n",
    "        return self._vehicle\n",
    "        \n",
    "    def getBrand(self)-> str:\n",
    "        return self._vehicle.getBrand()\n",
    "            \n",
    "    def getModel(self)-> str:\n",
    "        return self._vehicle.getModel()\n",
    "    \n",
    "    def getPrice(self)-> int:\n",
    "        return self._vehicle.getPrice()\n",
    "        \n",
    "\n",
    "class HoliOffer(Decorator):\n",
    "    \n",
    "    def getPrice(self) -> int:\n",
    "        PercentDiscount = 10\n",
    "        return self.vehicle.getPrice() * (100 - PercentDiscount) // 100\n",
    "        \n",
    "class DiwaliOffer(Decorator):\n",
    "    \n",
    "    def getPrice(self) -> int:\n",
    "        PercentDiscount = 50\n",
    "        return self.vehicle.getPrice() * (100 - PercentDiscount) // 100\n",
    "        \n",
    "def client_code(vehicle: Vehicle) -> None:\n",
    "    print(f\"RESULT: {vehicle.getPrice()}\", end=\"\")\n",
    "\n",
    "# simple = BmwCar()\n",
    "# client_code(simple)\n",
    "\n",
    "car = BmwCar()\n",
    "car = HoliOffer(car)\n",
    "car = DiwaliOffer(car)\n",
    "print(car.getPrice())\n",
    "#client_code(car1)\n",
    "\n"
   ]
  },
  {
   "cell_type": "code",
   "execution_count": null,
   "id": "f2c1fd1e-d528-4bcf-bb3a-3046d07a559b",
   "metadata": {},
   "outputs": [],
   "source": [
    "points = [[10,16],[2,8],[1,6],[7,12]]\n",
    "\n",
    "imax = max(number for subList in points for number in subList)\n",
    "print (imax)\n",
    "\n",
    "result = []\n",
    "cnt = 1\n",
    "while cnt < imax:\n",
    "    for i, item in enumerate(points):\n",
    "        if item[0] <= cnt <= item[1]:\n",
    "            result.append(i)\n",
    "\n",
    "\n",
    "print(result)\n"
   ]
  },
  {
   "cell_type": "markdown",
   "id": "c06b5474-4671-4010-9adf-c291dd613e35",
   "metadata": {},
   "source": [
    "**Decorator Sample**"
   ]
  },
  {
   "cell_type": "code",
   "execution_count": 4,
   "id": "c2375517-3b9e-4c62-83ec-d9cf5d17b168",
   "metadata": {},
   "outputs": [
    {
     "name": "stdout",
     "output_type": "stream",
     "text": [
      "Espresso, Mocha $2.19\n",
      "Dark Roast Coffee, Mocha, Mocha, Whip $1.49\n",
      "House Blend Coffee, Soy, Mocha, Whip $1.34\n"
     ]
    }
   ],
   "source": [
    "import abc\n",
    "\n",
    "\n",
    "class Beverage(abc.ABC):\n",
    "    \"\"\"Base class for all beverages\"\"\"\n",
    "\n",
    "    def __init__(self):\n",
    "        self.description = \"Unknown Beverage\"\n",
    "\n",
    "    def get_description(self):\n",
    "        return self.description\n",
    "\n",
    "    @abc.abstractmethod\n",
    "    def cost(self):\n",
    "        raise NotImplementedError\n",
    "\n",
    "\n",
    "class CondimentDecorator(Beverage, abc.ABC):\n",
    "    \"\"\"Base class for all condiments\"\"\"\n",
    "\n",
    "    @abc.abstractmethod\n",
    "    def get_description(self):\n",
    "        raise NotImplementedError\n",
    "\n",
    "\n",
    "class Espresso(Beverage):\n",
    "    def __init__(self):\n",
    "        self.description = \"Espresso\"\n",
    "\n",
    "    def cost(self):\n",
    "        return 1.99\n",
    "\n",
    "\n",
    "class HouseBlend(Beverage):\n",
    "    def __init__(self):\n",
    "        self.description = \"House Blend Coffee\"\n",
    "\n",
    "    def cost(self):\n",
    "        return 0.89\n",
    "\n",
    "\n",
    "class DarkRoast(Beverage):\n",
    "\n",
    "    def __init__(self):\n",
    "        self.description = \"Dark Roast Coffee\"\n",
    "\n",
    "    def cost(self):\n",
    "        return 0.99\n",
    "\n",
    "\n",
    "class Mocha(CondimentDecorator):\n",
    "    def __init__(self, beverage: Beverage):\n",
    "        self.beverage = beverage\n",
    "\n",
    "    def get_description(self):\n",
    "        return self.beverage.get_description() + \", Mocha\"\n",
    "\n",
    "    def cost(self):\n",
    "        return self.beverage.cost() + 0.20\n",
    "\n",
    "\n",
    "class Whip(CondimentDecorator):\n",
    "\n",
    "    def __init__(self, beverage):\n",
    "        self.beverage = beverage\n",
    "\n",
    "    def get_description(self):\n",
    "        return self.beverage.get_description() + \", Whip\"\n",
    "\n",
    "    def cost(self):\n",
    "        return 0.1 + self.beverage.cost()\n",
    "\n",
    "\n",
    "class Soy(CondimentDecorator):\n",
    "\n",
    "    def __init__(self, beverage):\n",
    "        self.beverage = beverage\n",
    "\n",
    "    def get_description(self):\n",
    "        return self.beverage.get_description() + \", Soy\"\n",
    "\n",
    "    def cost(self):\n",
    "        return 0.15 + self.beverage.cost()\n",
    "\n",
    "\n",
    "def star_buzz_coffee():\n",
    "    \"\"\"Test code\"\"\"\n",
    "    beverage = Espresso()\n",
    "    beverage = Mocha(beverage)\n",
    "    print(beverage.get_description() + f\" ${beverage.cost()}\")\n",
    "\n",
    "    beverage2 = DarkRoast()\n",
    "    beverage2 = Mocha(beverage2)\n",
    "    beverage2 = Mocha(beverage2)\n",
    "    beverage2 = Whip(beverage2)\n",
    "    print(beverage2.get_description() + f\" ${beverage2.cost()}\")\n",
    "\n",
    "    beverage3 = HouseBlend()\n",
    "    beverage3 = Soy(beverage3)\n",
    "    beverage3 = Mocha(beverage3)\n",
    "    beverage3 = Whip(beverage3)\n",
    "    print(beverage3.get_description() + f\" ${beverage3.cost()}\")\n",
    "\n",
    "\n",
    "if __name__ == \"__main__\":\n",
    "    star_buzz_coffee()"
   ]
  },
  {
   "cell_type": "markdown",
   "id": "ffc5eb03-fc2a-4cf7-81f4-c241ade24a4d",
   "metadata": {},
   "source": [
    "**Decorator**"
   ]
  },
  {
   "cell_type": "code",
   "execution_count": 72,
   "id": "f47494ed-0798-442b-aa1a-9cd4d227967f",
   "metadata": {},
   "outputs": [
    {
     "name": "stdout",
     "output_type": "stream",
     "text": [
      "1000 Blank Car\n",
      "1210 Blank Car, has CruiseControl, has ABS\n"
     ]
    }
   ],
   "source": [
    "class Car():\n",
    "\n",
    "    def get_desc()-> str:\n",
    "        pass\n",
    "        \n",
    "    def cost()-> int:\n",
    "        pass\n",
    "\n",
    "class CarOptionDecorator(Car):\n",
    "    _car : Car = None\n",
    "\n",
    "    def __init__(self, car:Car)-> None:\n",
    "        self._car = car\n",
    "\n",
    "    @property\n",
    "    def car(self):\n",
    "        return self._car\n",
    "\n",
    "    def get_desc(self)-> str:\n",
    "        return self.get_desc()\n",
    "\n",
    "    def cost(self)-> int:\n",
    "        return self.cost()\n",
    "\n",
    "class CruiseControlOption(CarOptionDecorator):\n",
    "\n",
    "    def get_desc(self):\n",
    "        return self.car.get_desc() + ', has CruiseControl'\n",
    "\n",
    "    def cost(self):\n",
    "        return self.car.cost() + (self.car.cost() * 10 // 100)\n",
    "\n",
    "class ABSOption(CarOptionDecorator):\n",
    "\n",
    "    def get_desc(self):\n",
    "        return self.car.get_desc() + ', has ABS'\n",
    "\n",
    "    def cost(self):\n",
    "        return self.car.cost() + (self.car.cost() * 10 // 100)\n",
    "\n",
    "class FullAirBagOption(CarOptionDecorator):\n",
    "\n",
    "    def get_desc(self):\n",
    "        return self.car.get_desc() + ', has FullAirBag'\n",
    "\n",
    "    def cost(self):\n",
    "        return self.car.cost() + (self.car.cost() * 10 // 100)\n",
    "        \n",
    "class BlankCar(Car):\n",
    "\n",
    "    def get_desc(self)-> str:\n",
    "        return 'Blank Car'\n",
    "        \n",
    "    def cost(self) -> int:\n",
    "        return 1000\n",
    "\n",
    "\n",
    "mycar = BlankCar()\n",
    "print(mycar.cost(), mycar.get_desc())\n",
    "\n",
    "mycar = CruiseControlOption(mycar)\n",
    "mycar = ABSOption(mycar)\n",
    "print(mycar.cost(), mycar.get_desc())\n",
    "\n",
    "\n",
    "    \n",
    "\n"
   ]
  },
  {
   "cell_type": "code",
   "execution_count": 90,
   "id": "088bb00d-618f-48d4-aed5-7983954f459a",
   "metadata": {},
   "outputs": [
    {
     "name": "stdout",
     "output_type": "stream",
     "text": [
      "__main__\n",
      "__main__\n",
      "same\n"
     ]
    }
   ],
   "source": [
    "class SingletonBase(type):\n",
    "    _instances = {}\n",
    "\n",
    "    def __call__(cls, *args, **kwargs):\n",
    "        if cls not in cls._instances:\n",
    "            instance=super().__call__(*args, **kwargs)\n",
    "            cls._instances[cls] = instance\n",
    "        return cls._instances[cls]\n",
    "\n",
    "class singletone(metaclass=SingletonBase):\n",
    "    def myfun(self):\n",
    "        return __name__\n",
    "\n",
    "s1 = singletone()\n",
    "s2 = singletone()\n",
    "\n",
    "print(s1.myfun())\n",
    "print(s2.myfun())\n",
    "\n",
    "\n",
    "if s1 == s2:\n",
    "    print('same')\n",
    "else:\n",
    "    print('diff')"
   ]
  },
  {
   "cell_type": "markdown",
   "id": "dcba5e82-88b9-47d2-a59b-8f658a0f46c1",
   "metadata": {},
   "source": [
    "**Singletone Thread Safe**"
   ]
  },
  {
   "cell_type": "code",
   "execution_count": 98,
   "id": "c2860599-2389-4f1f-bcba-df1219124fa4",
   "metadata": {},
   "outputs": [
    {
     "name": "stdout",
     "output_type": "stream",
     "text": [
      "shr\n",
      "shr\n"
     ]
    }
   ],
   "source": [
    "from threading import Thread, Lock\n",
    "\n",
    "class SingletoneMeta(type):\n",
    "    \n",
    "    _instances = {}\n",
    "    _lock : Lock = Lock()\n",
    "    def __call__(cls, *args, **kwagrs):\n",
    "\n",
    "        with cls._lock:\n",
    "            if cls not in cls._instances:\n",
    "                instance=super().__call__(*args, **kwagrs)\n",
    "                cls._instances[cls] = instance\n",
    "            return cls._instances[cls]\n",
    "\n",
    "class Singletine(metaclass= SingletoneMeta): \n",
    "    value:str=None\n",
    "    \n",
    "    def __init__(self, value:str)-> None:\n",
    "        self.value = value\n",
    "    \n",
    "    def myfunc(self):\n",
    "        return __name__\n",
    "\n",
    "# class testSingletone(value:str)-> None:  \n",
    "def testSingletone(value: str) -> None:\n",
    "    sng = Singletine(value)\n",
    "    print(sng.value)\n",
    "\n",
    "pro1=Thread(target= testSingletone, args=('shr',))\n",
    "pro2=Thread(target= testSingletone, args=('asho',))\n",
    "\n",
    "pro1.start()\n",
    "pro2.start()\n",
    "\n",
    "# s1=Singletine()\n",
    "# s2=Singletine()\n",
    "\n",
    "# if id(s1) == id(s2):\n",
    "#     print('same')\n",
    "# else:\n",
    "#     print('diff')"
   ]
  },
  {
   "cell_type": "markdown",
   "id": "2499fdbd-33ed-4025-b497-de42e70fc90d",
   "metadata": {},
   "source": [
    "**Adapter**"
   ]
  },
  {
   "cell_type": "code",
   "execution_count": 5,
   "id": "a98ac7d4-70d5-46b1-825a-bfc90635fe4d",
   "metadata": {},
   "outputs": [
    {
     "name": "stdout",
     "output_type": "stream",
     "text": [
      "No power\n"
     ]
    }
   ],
   "source": [
    "# Adaptee (source) interface\n",
    "class EuropeanSocketInterface:\n",
    "    def voltage(self): pass    \n",
    "    def live(self): pass\n",
    "    def neutral(self): pass\n",
    "    def earth(self): pass\n",
    "\n",
    "class Socket(EuropeanSocketInterface):\n",
    "    def voltage(self): \n",
    "        return 230\n",
    "        \n",
    "    def live(self):  \n",
    "        return 1\n",
    "        \n",
    "    def neutral(self):  \n",
    "        return -1\n",
    "        \n",
    "    def earth(self):  \n",
    "        return 0\n",
    "\n",
    "# Target interface\n",
    "class USASocketInterface:\n",
    "    def voltage(self): pass    \n",
    "    def live(self): pass\n",
    "    def neutral(self): pass\n",
    "\n",
    "# Adapter\n",
    "class Adapter(USASocketInterface):\n",
    "    _socket: Socket = None\n",
    "    \n",
    "    def __init__(self, socket:Socket)-> None:\n",
    "        self._socket = socket\n",
    "        \n",
    "    def voltage(self): \n",
    "        return 110\n",
    "        \n",
    "    def live(self):  \n",
    "        return self._socket.live()\n",
    "        \n",
    "    def neutral(self):  \n",
    "        return self._socket.neutral()\n",
    "\n",
    "class EletricKettel:\n",
    "    _power = None\n",
    "\n",
    "    def __init__(self, power):\n",
    "        self._power = power\n",
    "\n",
    "    def boil(self):\n",
    "        if self._power.voltage() > 110:\n",
    "            print (\"kettet is fire\")\n",
    "        else:\n",
    "            if self._power.live() == 1 and self._power.neutral ==-1 :\n",
    "                print (\"caffe time\")\n",
    "            else:\n",
    "                print (\"No power\")\n",
    "def main():\n",
    "    socket = Socket()\n",
    "    adapter = Adapter(socket)\n",
    "    kettel = EletricKettel(adapter)\n",
    "    \n",
    "    kettel.boil()\n",
    "\n",
    "\n",
    "main()\n",
    "        \n",
    "\n",
    "    \n",
    "        "
   ]
  },
  {
   "cell_type": "code",
   "execution_count": 110,
   "id": "94d941ef-b375-4e9f-a2fe-d43df15b1e7e",
   "metadata": {},
   "outputs": [
    {
     "name": "stdout",
     "output_type": "stream",
     "text": [
      "this spectial\n",
      "\n",
      "my Adaptee \n",
      "\n",
      "\n",
      "Adapter: (TRANSLATED) my Adaptee \n",
      "\n"
     ]
    }
   ],
   "source": [
    "class Target():\n",
    "\n",
    "    def request(self)-> str:\n",
    "        return 'this spectial'\n",
    "\n",
    "class Adaptee():\n",
    "\n",
    "     def specific_request(self) -> str:\n",
    "        return 'my Adaptee '\n",
    "\n",
    "class Adapter(Target, Adaptee):\n",
    "    \n",
    "    def request(self) -> str:\n",
    "        return f\"Adapter: (TRANSLATED) {self.specific_request()}\"\n",
    "\n",
    "def client(target:'Target')-> None:\n",
    "    print(target.request(), end=\"\")\n",
    "\n",
    "\n",
    "target = Target()\n",
    "client(target)\n",
    "print(\"\\n\")\n",
    "adapte = Adaptee()\n",
    "print(adapte.specific_request())\n",
    "print(\"\\n\")\n",
    "adapter = Adapter()\n",
    "client(adapter)\n",
    "print(\"\\n\")"
   ]
  },
  {
   "cell_type": "code",
   "execution_count": 122,
   "id": "b22c3444-4630-4ff2-8620-c8057f0fb02d",
   "metadata": {},
   "outputs": [
    {
     "name": "stdout",
     "output_type": "stream",
     "text": [
      "bmw Z4\n"
     ]
    }
   ],
   "source": [
    "class Car():\n",
    "    \n",
    "    def getdtl(self, model):\n",
    "        pass\n",
    "\n",
    "class Factory():\n",
    "\n",
    "    def getCar(brand)-> Car:\n",
    "        if brand == 'Bmw':\n",
    "            return BMWCar()\n",
    "\n",
    "        if brand == 'GTI':\n",
    "            return GTICar()\n",
    "\n",
    "class BMWCar(Car):\n",
    "\n",
    "    def getdtl(self, model):\n",
    "        if model == 'Z4':\n",
    "            return 'bmw Z4'\n",
    "        if model == 'M5':\n",
    "            return 'bmw M5'\n",
    "            \n",
    "\n",
    "class GTICar(Car):\n",
    "\n",
    "    def getdtl(self, model):\n",
    "        if model == 'fj':\n",
    "            return 'GTI fj'\n",
    "            \n",
    "        if model == 'start':\n",
    "            return 'GTI start'\n",
    "        \n",
    "car = Factory.getCar('Bmw')\n",
    "model = 'Z4'\n",
    "print(car.getdtl(model))\n",
    "        "
   ]
  },
  {
   "cell_type": "markdown",
   "id": "6ed1409f-79ea-4568-a71c-278914f9fee5",
   "metadata": {},
   "source": [
    "**Factory**"
   ]
  },
  {
   "cell_type": "code",
   "execution_count": 124,
   "id": "b751cc79-76e3-4be2-b223-07df1c700974",
   "metadata": {},
   "outputs": [
    {
     "name": "stdout",
     "output_type": "stream",
     "text": [
      "Dell Labtop\n"
     ]
    }
   ],
   "source": [
    "from __future__ import annotations\n",
    "from abc import ABC, abstractmethod\n",
    "\n",
    "class Labtop(ABC):\n",
    "    @abstractmethod\n",
    "    def display(self) -> str:\n",
    "        pass\n",
    "        \n",
    "class SmartPhone(ABC):\n",
    "    @abstractmethod\n",
    "    def display(self) -> None:\n",
    "        pass\n",
    "\n",
    "# create concrete product labtop\n",
    "class DellLabtop(Labtop):\n",
    "        def display(self):\n",
    "            return 'Dell Labtop'\n",
    "\n",
    "# create concrete product smart phone\n",
    "class IPhoneSmartPhone(SmartPhone):\n",
    "        def display(self):\n",
    "            return 'IPhone smart phone'\n",
    "\n",
    "\n",
    "class DeviceFactory(ABC):\n",
    "\n",
    "    @abstractmethod\n",
    "    def create_product_labtop(self)-> DellLabtop:\n",
    "        pass\n",
    "\n",
    "    @abstractmethod\n",
    "    def create_product_smartphone(self) -> IPhoneSmartPhone:\n",
    "        pass\n",
    "\n",
    "# Concrete Factories\n",
    "class DellLabtopFactory(DeviceFactory):\n",
    "        def create_product_labtop(self)-> DellLabtop:\n",
    "            return DellLabtop()\n",
    "\n",
    "        def create_product_smartphone(self)-> IPhoneSmartPhone:\n",
    "            return None\n",
    "            \n",
    "# Concrete Factories            \n",
    "class IPhoneSmartPhoneFactory(DeviceFactory):\n",
    "        def create_product_labtop(self)-> DellLabtop:\n",
    "            return None\n",
    "\n",
    "        def create_product_smartphone(self)-> IPhoneSmartPhone:\n",
    "            return IPhoneSmartPhone()\n",
    "\n",
    "\n",
    "dellfacy = DellLabtopFactory().create_product_labtop()\n",
    "print(dellfacy.display())\n",
    "    "
   ]
  },
  {
   "cell_type": "markdown",
   "id": "72089625-e271-4442-bcb4-d7ece1e1d6f6",
   "metadata": {},
   "source": [
    "**Strategy**"
   ]
  },
  {
   "cell_type": "code",
   "execution_count": 1,
   "id": "7c0cece7-addf-4cf0-8a51-ff2fedff1fbf",
   "metadata": {},
   "outputs": [
    {
     "name": "stdout",
     "output_type": "stream",
     "text": [
      "150.0\n",
      "110.0\n"
     ]
    }
   ],
   "source": [
    "from abc import ABC, abstractmethod\n",
    "from __future__ import annotations\n",
    "from typing import List\n",
    "\n",
    "class Strategy(ABC):\n",
    "    \n",
    "    @abstractmethod\n",
    "    def calculateProcessingFee(self, amount)-> int:\n",
    "        pass\n",
    "\n",
    "class CreditCardPayment(Strategy):\n",
    "        def calculateProcessingFee(self, amount):\n",
    "            return 0.5 * amount\n",
    "            \n",
    "class DebitCardPayment(Strategy):\n",
    "        def calculateProcessingFee(self, amount):\n",
    "            return 0.1 * amount\n",
    "            \n",
    "class NetBankingPayment(Strategy):\n",
    "        def calculateProcessingFee(self, amount):\n",
    "            return 0.1 * amount\n",
    "\n",
    "class Context():\n",
    "    def __init__(self, strategy: Strategy) -> None:\n",
    "        self._strategy = strategy\n",
    "\n",
    "    @property\n",
    "    def strategy(self) -> Strategy:\n",
    "        return self._strategy\n",
    "\n",
    "    @strategy.setter\n",
    "    def strategy(self, strategy: Strategy) -> None:\n",
    "        self._strategy = strategy\n",
    "        \n",
    "    def ProcessPayment(self, amount) -> None:\n",
    "        return amount + self._strategy.calculateProcessingFee(amount)\n",
    "\n",
    "\n",
    "context = Context(CreditCardPayment())\n",
    "print(context.ProcessPayment(100))\n",
    "\n",
    "context.strategy = NetBankingPayment()\n",
    "print(context.ProcessPayment(100))\n",
    "\n",
    "\n",
    "\n",
    "\n",
    "    \n",
    "    "
   ]
  },
  {
   "cell_type": "markdown",
   "id": "14f229c0-4ffc-4c76-a752-57d2469f33a9",
   "metadata": {},
   "source": [
    "**Flyweight**"
   ]
  },
  {
   "cell_type": "code",
   "execution_count": 7,
   "id": "5287dae9-e644-4d0c-ba8f-0b8d90476f25",
   "metadata": {},
   "outputs": [
    {
     "name": "stdout",
     "output_type": "stream",
     "text": [
      "Serving tea to table  #1 Tea:<__main__.GreenTea object at 0x000002B92128FEB0>\n",
      "Serving tea to table  #2 Tea:<__main__.GreenTea object at 0x000002B92128DBA0>\n",
      "Serving tea to table  #5 Tea:<__main__.GreenTea object at 0x000002B92128F9D0>\n"
     ]
    }
   ],
   "source": [
    "class GreenTea:\n",
    "    pass\n",
    "\n",
    "\n",
    "class TeaMaker:\n",
    "    _availableTea = {}\n",
    "\n",
    "    def make(self, preference):\n",
    "        if not preference in self._availableTea:\n",
    "            self._availableTea[preference] = GreenTea()\n",
    "\n",
    "        return self._availableTea[preference]\n",
    "\n",
    "\n",
    "class TeaShop:\n",
    "    _orders = {}\n",
    "    _teaMaker = None\n",
    "\n",
    "    def __init__(self, teaMaker):\n",
    "        self._teaMaker = teaMaker\n",
    "\n",
    "    def takeOrder(self, teaType, table):\n",
    "        self._orders[table] = self._teaMaker.make(teaType)\n",
    "\n",
    "    def serve(self):\n",
    "        for table, tea in self._orders.items():\n",
    "            print(f\"Serving tea to table  #{str(table)} Tea:{str(tea)}\")\n",
    "\n",
    "\n",
    "# ----------------------------\n",
    "\n",
    "teaMaker = TeaMaker()\n",
    "shop = TeaShop(teaMaker)\n",
    "\n",
    "shop.takeOrder('less sugar', 1)\n",
    "shop.takeOrder('more milk', 2)\n",
    "shop.takeOrder('without sugar', 5)\n",
    "\n",
    "shop.serve()\n",
    "# Serving tea to table# 1\n",
    "# Serving tea to table# 2\n",
    "# Serving tea to table# 5"
   ]
  },
  {
   "cell_type": "code",
   "execution_count": 14,
   "id": "8432ce5d-e7b1-4772-a232-f4c2941b64a8",
   "metadata": {},
   "outputs": [
    {
     "name": "stdout",
     "output_type": "stream",
     "text": [
      "FlyweightFactory: I have 5 flyweights:\n",
      "Camaro2018_Chevrolet_pink\n",
      "C300_Mercedes Benz_black\n",
      "C500_Mercedes Benz_red\n",
      "BMW_M5_red\n",
      "BMW_X6_white\n",
      "\n",
      "Client: Adding a car to database.\n",
      "FlyweightFactory: Reusing existing flyweight.\n",
      "Flyweight: Displaying shared ([\"BMW\", \"M5\", \"red\"]) and unique ([\"CL234IR\", \"James Doe\"]) state.\n",
      "\n",
      "Client: Adding a car to database.\n",
      "FlyweightFactory: Can't find a flyweight, creating new one.\n",
      "Flyweight: Displaying shared ([\"BMW\", \"X1\", \"red\"]) and unique ([\"CL234IR\", \"James Doe\"]) state.\n",
      "\n",
      "FlyweightFactory: I have 6 flyweights:\n",
      "Camaro2018_Chevrolet_pink\n",
      "C300_Mercedes Benz_black\n",
      "C500_Mercedes Benz_red\n",
      "BMW_M5_red\n",
      "BMW_X6_white\n",
      "BMW_X1_red"
     ]
    }
   ],
   "source": [
    "import json\n",
    "from typing import Dict\n",
    "\n",
    "class Flyweight():\n",
    "    \"\"\"\n",
    "    The Flyweight stores a common portion of the state (also called intrinsic\n",
    "    state) that belongs to multiple real business entities. The Flyweight\n",
    "    accepts the rest of the state (extrinsic state, unique for each entity) via\n",
    "    its method parameters.\n",
    "    \"\"\"\n",
    "\n",
    "    def __init__(self, shared_state: str) -> None:\n",
    "        self._shared_state = shared_state\n",
    "\n",
    "    def operation(self, unique_state: str) -> None:\n",
    "        s = json.dumps(self._shared_state)\n",
    "        u = json.dumps(unique_state)\n",
    "        print(f\"Flyweight: Displaying shared ({s}) and unique ({u}) state.\", end=\"\")\n",
    "\n",
    "\n",
    "class FlyweightFactory():\n",
    "    \"\"\"\n",
    "    The Flyweight Factory creates and manages the Flyweight objects. It ensures\n",
    "    that flyweights are shared correctly. When the client requests a flyweight,\n",
    "    the factory either returns an existing instance or creates a new one, if it\n",
    "    doesn't exist yet.\n",
    "    \"\"\"\n",
    "\n",
    "    _flyweights: Dict[str, Flyweight] = {}\n",
    "\n",
    "    def __init__(self, initial_flyweights: Dict) -> None:\n",
    "        for state in initial_flyweights:\n",
    "            self._flyweights[self.get_key(state)] = Flyweight(state)\n",
    "\n",
    "    def get_key(self, state: Dict) -> str:\n",
    "        \"\"\"\n",
    "        Returns a Flyweight's string hash for a given state.\n",
    "        \"\"\"\n",
    "\n",
    "        return \"_\".join(sorted(state))\n",
    "\n",
    "    def get_flyweight(self, shared_state: Dict) -> Flyweight:\n",
    "        \"\"\"\n",
    "        Returns an existing Flyweight with a given state or creates a new one.\n",
    "        \"\"\"\n",
    "\n",
    "        key = self.get_key(shared_state)\n",
    "\n",
    "        if not self._flyweights.get(key):\n",
    "            print(\"FlyweightFactory: Can't find a flyweight, creating new one.\")\n",
    "            self._flyweights[key] = Flyweight(shared_state)\n",
    "        else:\n",
    "            print(\"FlyweightFactory: Reusing existing flyweight.\")\n",
    "\n",
    "        return self._flyweights[key]\n",
    "\n",
    "    def list_flyweights(self) -> None:\n",
    "        count = len(self._flyweights)\n",
    "        print(f\"FlyweightFactory: I have {count} flyweights:\")\n",
    "        print(\"\\n\".join(map(str, self._flyweights.keys())), end=\"\")\n",
    "\n",
    "\n",
    "def add_car_to_police_database(\n",
    "    factory: FlyweightFactory, plates: str, owner: str,\n",
    "    brand: str, model: str, color: str) -> None:\n",
    "    print(\"\\n\\nClient: Adding a car to database.\")\n",
    "    flyweight = factory.get_flyweight([brand, model, color])\n",
    "    # The client code either stores or calculates extrinsic state and passes it\n",
    "    # to the flyweight's methods.\n",
    "    flyweight.operation([plates, owner])\n",
    "\n",
    "\n",
    "factory = FlyweightFactory([\n",
    "        [\"Chevrolet\", \"Camaro2018\", \"pink\"],\n",
    "        [\"Mercedes Benz\", \"C300\", \"black\"],\n",
    "        [\"Mercedes Benz\", \"C500\", \"red\"],\n",
    "        [\"BMW\", \"M5\", \"red\"],\n",
    "        [\"BMW\", \"X6\", \"white\"],\n",
    "    ])\n",
    "\n",
    "factory.list_flyweights()\n",
    "\n",
    "add_car_to_police_database(\n",
    "    factory, \"CL234IR\", \"James Doe\", \"BMW\", \"M5\", \"red\")\n",
    "\n",
    "add_car_to_police_database(\n",
    "    factory, \"CL234IR\", \"James Doe\", \"BMW\", \"X1\", \"red\")\n",
    "\n",
    "print(\"\\n\")\n",
    "\n",
    "factory.list_flyweights()\n"
   ]
  },
  {
   "cell_type": "markdown",
   "id": "96da7405-bf51-47bb-83e9-da2187dc4eda",
   "metadata": {},
   "source": [
    "**Builder**"
   ]
  },
  {
   "cell_type": "code",
   "execution_count": null,
   "id": "406efe58-8de3-48c6-ae6a-4ea143c9020f",
   "metadata": {},
   "outputs": [],
   "source": [
    "class Burger:\n",
    "    _size = None\n",
    "\n",
    "    _cheese = False\n",
    "    _pepperoni = False\n",
    "    _lettuce = False\n",
    "    _tomato = False\n",
    "\n",
    "    def __init__(self, builder):\n",
    "        self._size = builder.size\n",
    "        self._cheese = builder.cheese\n",
    "        self._pepperoni = builder.pepperoni\n",
    "        self._lettuce = builder.lettuce\n",
    "        self._tomato = builder.tomato\n",
    "\n",
    "\n",
    "class BurgerBuilder:\n",
    "    size = None\n",
    "\n",
    "    cheese = False\n",
    "    pepperoni = False\n",
    "    lettuce = False\n",
    "    tomato = False\n",
    "\n",
    "    def __init__(self, size):\n",
    "        self.size = size\n",
    "\n",
    "    def addPepperoni(self):\n",
    "        self.pepperoni = True\n",
    "        return self\n",
    "\n",
    "    def addLettuce(self):\n",
    "        self.lettuce = True\n",
    "        return self\n",
    "\n",
    "    def addCheese(self):\n",
    "        self.cheese = True\n",
    "        return self\n",
    "\n",
    "    def addTomato(self):\n",
    "        self.tomato = True\n",
    "        return self\n",
    "\n",
    "    def build(self):\n",
    "        return Burger(self)\n",
    "\n",
    "\n",
    "# ----------------------------\n",
    "\n",
    "burger = BurgerBuilder(10).addPepperoni().addLettuce().addTomato().build()\n",
    "\n",
    "print(vars(burger))\n"
   ]
  },
  {
   "cell_type": "code",
   "execution_count": 24,
   "id": "8e021377-eb78-40a1-b8d1-d8715a3b65b8",
   "metadata": {},
   "outputs": [
    {
     "name": "stdout",
     "output_type": "stream",
     "text": [
      "Standard basic product: \n",
      "Product parts: BodyType\n",
      "\n",
      "Standard full featured product: \n",
      "Product parts: BodyType, EngineType, SeatType\n",
      "\n",
      "Custom product: \n",
      "Product parts: BodyType, SeatType"
     ]
    }
   ],
   "source": [
    "from __future__ import annotations\n",
    "from abc import ABC, abstractmethod\n",
    "from typing import Any\n",
    "from enum import Enum\n",
    "import time\n",
    "\n",
    "# BodyType=Enum('HatchBack', 'Sedan', 'SUV')\n",
    "# EngineType=Enum('Petrol','Diesal','Hybrid')\n",
    "# SeatType=Enum('Regular','SemiSleeper','Sleeper')\n",
    "\n",
    "class Builder(ABC):\n",
    "\n",
    "    @property\n",
    "    @abstractmethod\n",
    "    def Car(self)-> None:\n",
    "        pass\n",
    "        \n",
    "    def BodyType(self)-> None:\n",
    "        pass\n",
    "        \n",
    "    def EngineType(self)-> None:\n",
    "        pass\n",
    "        \n",
    "    def SeatType(self)-> None:\n",
    "        pass\n",
    "\n",
    "class CarBuilder(Builder):\n",
    "\n",
    "    def __init__(self)-> None:\n",
    "        self.reset()\n",
    "\n",
    "    @property\n",
    "    def Car(self)-> BmwCar:\n",
    "        car = self._car\n",
    "        self.reset()\n",
    "        return car\n",
    "\n",
    "    def BodyType(self)-> None:\n",
    "        self._car.add('BodyType')\n",
    "\n",
    "    def EngineType(self)-> None:\n",
    "        self._car.add('EngineType')\n",
    "\n",
    "    def SeatType(self)-> None:\n",
    "        self._car.add('SeatType')\n",
    "\n",
    "    def reset(self) -> None:\n",
    "        self._car = BmwCar()\n",
    "        \n",
    "class BmwCar():\n",
    "\n",
    "    def __init__(self)-> None:\n",
    "        self.parts =[]\n",
    "\n",
    "    def add(self, part:Any)-> None:\n",
    "        self.parts.append(part)\n",
    "\n",
    "    def list_parts(self)-> None:\n",
    "        print(f\"Product parts: {', '.join(self.parts)}\", end=\"\")\n",
    "\n",
    "\n",
    "class Director:\n",
    "\n",
    "    def __init__(self) -> None:\n",
    "        self._builder = None\n",
    "\n",
    "    @property\n",
    "    def builder(self)-> Builder:\n",
    "        return self._builder\n",
    "\n",
    "    @builder.setter\n",
    "    def builder(self, builder:Builder)-> None:\n",
    "        self._builder = builder\n",
    "\n",
    "    def build_minimal_viable_product(self) -> None:\n",
    "        self.builder.BodyType()\n",
    "\n",
    "    def build_full_featured_product(self) -> None:\n",
    "        self.builder.BodyType()\n",
    "        self.builder.EngineType()\n",
    "        self.builder.SeatType()\n",
    "\n",
    "director = Director()\n",
    "builder = CarBuilder()\n",
    "director.builder = builder\n",
    "\n",
    "print(\"Standard basic product: \")\n",
    "director.build_minimal_viable_product()\n",
    "builder.Car.list_parts()\n",
    "\n",
    "print(\"\\n\")\n",
    "\n",
    "print(\"Standard full featured product: \")\n",
    "director.build_full_featured_product()\n",
    "builder.Car.list_parts()\n",
    "\n",
    "print(\"\\n\")\n",
    "\n",
    "# Remember, the Builder pattern can be used without a Director class.\n",
    "print(\"Custom product: \")\n",
    "builder.BodyType()\n",
    "builder.SeatType()\n",
    "builder.Car.list_parts()\n",
    "\n",
    "\n"
   ]
  },
  {
   "cell_type": "markdown",
   "id": "68924485-3bcc-4e8d-ac2e-755b54169153",
   "metadata": {},
   "source": [
    "**Facade**"
   ]
  },
  {
   "cell_type": "code",
   "execution_count": 7,
   "id": "86e5b60f-9b13-4782-a942-d6a8fd20c256",
   "metadata": {},
   "outputs": [
    {
     "name": "stdout",
     "output_type": "stream",
     "text": [
      "Facade initializes subsystems:\n",
      "Subsystem1: Ready!\n",
      "Subsystem2: Get ready!\n",
      "Facade orders subsystems to perform the action:\n",
      "Subsystem1: Go!\n",
      "Subsystem2: Fire!"
     ]
    }
   ],
   "source": [
    "from __future__ import annotations\n",
    "class Facade:\n",
    "\n",
    "    def __init__(self, subsystem1: Subsystem1, subsystem2: Subsystem2) -> None:\n",
    "        self._subsystem1 = subsystem1 or Subsystem1()\n",
    "        self._subsystem2 = subsystem2 or Subsystem2()\n",
    "\n",
    "    def operation(self)->str:\n",
    "        results = []\n",
    "        results.append(\"Facade initializes subsystems:\")\n",
    "        results.append(self._subsystem1.operation1())\n",
    "        results.append(self._subsystem2.operation1())\n",
    "        results.append(\"Facade orders subsystems to perform the action:\")\n",
    "        results.append(self._subsystem1.operation_n())\n",
    "        results.append(self._subsystem2.operation_z())\n",
    "        return \"\\n\".join(results)        \n",
    "\n",
    "class Subsystem1:\n",
    "    \"\"\"\n",
    "    The Subsystem can accept requests either from the facade or client directly.\n",
    "    In any case, to the Subsystem, the Facade is yet another client, and it's\n",
    "    not a part of the Subsystem.\n",
    "    \"\"\"\n",
    "\n",
    "    def operation1(self) -> str:\n",
    "        return \"Subsystem1: Ready!\"\n",
    "\n",
    "    # ...\n",
    "\n",
    "    def operation_n(self) -> str:\n",
    "        return \"Subsystem1: Go!\"\n",
    "\n",
    "\n",
    "class Subsystem2:\n",
    "    \"\"\"\n",
    "    Some facades can work with multiple subsystems at the same time.\n",
    "    \"\"\"\n",
    "\n",
    "    def operation1(self) -> str:\n",
    "        return \"Subsystem2: Get ready!\"\n",
    "\n",
    "    # ...\n",
    "\n",
    "    def operation_z(self) -> str:\n",
    "        return \"Subsystem2: Fire!\"\n",
    "        \n",
    "def client_code(facade: Facade) -> None:\n",
    "    \"\"\"\n",
    "    The client code works with complex subsystems through a simple interface\n",
    "    provided by the Facade. When a facade manages the lifecycle of the\n",
    "    subsystem, the client might not even know about the existence of the\n",
    "    subsystem. This approach lets you keep the complexity under control.\n",
    "    \"\"\"\n",
    "\n",
    "    print(facade.operation(), end=\"\")\n",
    "\n",
    "\n",
    "if __name__ == \"__main__\":\n",
    "    # The client code may have some of the subsystem's objects already created.\n",
    "    # In this case, it might be worthwhile to initialize the Facade with these\n",
    "    # objects instead of letting the Facade create new instances.\n",
    "    subsystem1 = Subsystem1()\n",
    "    subsystem2 = Subsystem2()\n",
    "    facade = Facade(subsystem1, subsystem2)\n",
    "    client_code(facade)        "
   ]
  },
  {
   "cell_type": "markdown",
   "id": "54b10ea1-ccbd-4de7-8eef-8553b583b23c",
   "metadata": {},
   "source": [
    "**Observer**"
   ]
  },
  {
   "cell_type": "code",
   "execution_count": 11,
   "id": "bb9b1b48-6054-4f42-89dd-8274818351e3",
   "metadata": {},
   "outputs": [
    {
     "name": "stdout",
     "output_type": "stream",
     "text": [
      "Subject: Attached an observer.\n",
      "Subject: Attached an observer.\n",
      "\n",
      "Subject: I'm doing something important.\n",
      "Subject: My state has just changed to: 1\n",
      "Subject: Notifying observers...\n",
      "ConcreteObserverA: Reacted to the event\n",
      "\n",
      "Subject: I'm doing something important.\n",
      "Subject: My state has just changed to: 9\n",
      "Subject: Notifying observers...\n",
      "ConcreteObserverB: Reacted to the event\n",
      "\n",
      "Subject: I'm doing something important.\n",
      "Subject: My state has just changed to: 3\n",
      "Subject: Notifying observers...\n",
      "ConcreteObserverB: Reacted to the event\n"
     ]
    }
   ],
   "source": [
    "from abc import ABC, abstractmethod\n",
    "from __future__ import annotations\n",
    "from abc import ABC, abstractmethod\n",
    "from random import randrange\n",
    "from typing import List\n",
    "\n",
    "class Observer(ABC):\n",
    "\n",
    "    @abstractmethod\n",
    "    def update(self, subject:Subject)-> None:\n",
    "        pass\n",
    "\n",
    "class ConcreteObserverA(Observer):\n",
    "    def update(self, subject:Subject)-> None:\n",
    "        if subject._state < 3:\n",
    "            print(\"ConcreteObserverA: Reacted to the event\")\n",
    "            \n",
    "class ConcreteObserverB(Observer):\n",
    "    def update(self, subject: Subject) -> None:\n",
    "        if subject._state == 0 or subject._state >= 2:\n",
    "            print(\"ConcreteObserverB: Reacted to the event\")\n",
    "\n",
    "\n",
    "class Subject(ABC):\n",
    "    \n",
    "    @abstractmethod\n",
    "    def attach(self, observer:Observer)-> None:        \n",
    "        pass\n",
    "\n",
    "    @abstractmethod\n",
    "    def detach(self, observer:Observer)-> None:        \n",
    "        pass\n",
    "\n",
    "    @abstractmethod\n",
    "    def notify(self)-> None:        \n",
    "        pass\n",
    "\n",
    "class ConcreteSubject(Subject):\n",
    "\n",
    "    _state: int = None\n",
    "\n",
    "    _observers: List[Observer] = []\n",
    "       \n",
    "    def attach(self, observer:Observer)-> None: \n",
    "        print(\"Subject: Attached an observer.\")\n",
    "        self._observers.append(observer)\n",
    "        \n",
    "    def detach(self, observer:Observer)-> None:        \n",
    "        self._observers.remove(observer)\n",
    "        \n",
    "    def notify(self)-> None:     \n",
    "        print(\"Subject: Notifying observers...\")\n",
    "        for observer in self._observers:\n",
    "            observer.update(self)\n",
    "\n",
    "    def some_business_logic(self) -> None:\n",
    "        \n",
    "        print(\"\\nSubject: I'm doing something important.\")\n",
    "        self._state = randrange(0, 10)\n",
    "\n",
    "        print(f\"Subject: My state has just changed to: {self._state}\")\n",
    "        self.notify()\n",
    "\n",
    "subject = ConcreteSubject()\n",
    "\n",
    "observer_a = ConcreteObserverA()\n",
    "subject.attach(observer_a)\n",
    "\n",
    "observer_b = ConcreteObserverB()\n",
    "subject.attach(observer_b)\n",
    "\n",
    "subject.some_business_logic()\n",
    "subject.some_business_logic()\n",
    "\n",
    "subject.detach(observer_a)\n",
    "\n",
    "subject.some_business_logic()\n",
    "\n",
    "    \n",
    "    "
   ]
  },
  {
   "cell_type": "code",
   "execution_count": 1,
   "id": "b0a97662-67ba-4496-ba76-1cb5b4cc1790",
   "metadata": {},
   "outputs": [],
   "source": [
    "def cap(x):\n",
    "    return x.capitalize()\n",
    "\n",
    "def testcap():\n",
    "    assert cap('samp')=='Samp'\n",
    "\n",
    "testcap()\n"
   ]
  },
  {
   "cell_type": "code",
   "execution_count": 31,
   "id": "844b970a-3a9c-410d-92f2-44f6b6119c48",
   "metadata": {},
   "outputs": [
    {
     "name": "stdout",
     "output_type": "stream",
     "text": [
      "<function deleteMiddle at 0x000002BC1C07E560>\n"
     ]
    }
   ],
   "source": [
    "# Intuition\n",
    "# Find the middle node and delete it by updating the link of the preceding node to the node following the found middle node.\n",
    "\n",
    "# Approach\n",
    "# To find the middle node, a technique with slow and fast pointers is used. In order to delete the middle element you need to have a link to the previous one. Thus, when the fast pointer reaches the end of the list, the preceding node will be located immediately before the middle node.\n",
    "\n",
    "# To simplify the operation of the algorithm, let’s add a new node – dummy. It will point to head. This will allow you to work with lists of any length using the same algorithm.\n",
    "# Before searching for the middle node, you need to check that the list consists of more than two elements (fast.next.next), otherwise return None.\n",
    "# Next, we apply the technique of searching for the middle node in a linked list using slow and fast pointers.\n",
    "# After finding the middle node and the node preceding it, the link to the next node of the current middle node is updated at the previous node, thereby the middle node is ignored and deleted.\n",
    "# Complexity\n",
    "# Time complexity: O(n)O(n)O(n)\n",
    "# Space complexity: O(1)O(1)O(1)\n",
    "\n",
    "\n",
    "head =[1,3,4,7,1,2,6]\n",
    "# n = round(len(head) // 2)\n",
    "# print(n)\n",
    "# head.remove(head[n])\n",
    "# print(head)\n",
    "class ListNode:\n",
    "    def __init__(self, val=0, next=None):\n",
    "        self.val = val\n",
    "        self.next = next\n",
    "\n",
    "\n",
    "def deleteMiddle(self, head: head) -> head:\n",
    "    dummy = ListNode(0, head)\n",
    "    slow = dummy\n",
    "    fast = dummy\n",
    "    if not fast.next.next:\n",
    "        return None\n",
    "\n",
    "    while fast.next and fast.next.next:\n",
    "        slow = slow.next\n",
    "        fast = fast.next.next\n",
    "    \n",
    "    middle = slow.next\n",
    "    slow.next = middle.next\n",
    "\n",
    "    return head\n",
    "\n",
    "\n",
    "print(deleteMiddle)\n",
    "    \n",
    "    def deleteMiddle(self, head: Optional[ListNode]) -> Optional[ListNode]:\n",
    "        slow=head\n",
    "        fast=head\n",
    "        if head.next:\n",
    "            \n",
    "            while fast and fast.next:\n",
    "                prev=slow\n",
    "                slow=slow.next\n",
    "                fast=fast.next.next\n",
    "            prev.next=slow.next\n",
    "            return head\n",
    "        else:\n",
    "            return head.next\n",
    "\n"
   ]
  },
  {
   "cell_type": "code",
   "execution_count": 33,
   "id": "ad0a126d-18ca-4e85-89b9-cadd09935790",
   "metadata": {},
   "outputs": [
    {
     "name": "stdout",
     "output_type": "stream",
     "text": [
      "Height of tree is 3\n"
     ]
    }
   ],
   "source": [
    "class Node:\n",
    "\n",
    "    def __init__(self, data):\n",
    "        self.data = data\n",
    "        self.left = None\n",
    "        self.right = None\n",
    "\n",
    "def maxDepth(node):\n",
    "\n",
    "    if node is None:\n",
    "        return 0\n",
    "    \n",
    "    lDepth = maxDepth(node.left)\n",
    "    rDepth = maxDepth(node.right)\n",
    "\n",
    "    if lDepth> rDepth:\n",
    "        return lDepth+1\n",
    "    else:\n",
    "        return rDepth+1\n",
    "\n",
    "\n",
    "root = Node(1)\n",
    "root.left = Node(2)\n",
    "root.right = Node(3)\n",
    "root.left.left = Node(4)\n",
    "root.left.right = Node(5)\n",
    "\n",
    "print (\"Height of tree is %d\" %(maxDepth(root)))\n",
    "\n",
    "\n",
    "\n"
   ]
  },
  {
   "cell_type": "code",
   "execution_count": 68,
   "id": "598707c0-81d5-4845-b12a-d4b590be9b89",
   "metadata": {},
   "outputs": [
    {
     "name": "stdout",
     "output_type": "stream",
     "text": [
      "Height of tree is 3\n"
     ]
    }
   ],
   "source": [
    "class Node:\n",
    "\n",
    "    def __init__(self, data):\n",
    "        self.data = data\n",
    "        self.left = None\n",
    "        self.right = None\n",
    "        \n",
    "def maxDepth2(node):\n",
    "\n",
    "    if node is None:\n",
    "        return 0\n",
    "\n",
    "    lDepth = maxDepth2(node.left)\n",
    "    rDepth = maxDepth2(node.right)\n",
    "\n",
    "    if lDepth> rDepth:\n",
    "        return lDepth+1\n",
    "    else:\n",
    "        return rDepth+1\n",
    "\n",
    "\n",
    "root = Node(1)\n",
    "root.left = Node(2)\n",
    "root.right = Node(3)\n",
    "root.left.left = Node(4)\n",
    "root.left.right = Node(5)\n",
    "\n",
    "print (\"Height of tree is %d\" %(maxDepth2(root)))\n"
   ]
  },
  {
   "cell_type": "code",
   "execution_count": 1,
   "id": "6e33d56e-fcfa-4103-9365-6d2e799a95a4",
   "metadata": {},
   "outputs": [
    {
     "name": "stdout",
     "output_type": "stream",
     "text": [
      "5\n"
     ]
    }
   ],
   "source": [
    "# Binary Search in python\n",
    "def binarySearch(array, x, low, high):\n",
    "    # Repeat until the pointers low and high meet each other\n",
    "    while low <= high:\n",
    "\n",
    "        mid = low + (high - low)//2\n",
    "\n",
    "        if array[mid] == x:\n",
    "            return mid\n",
    "\n",
    "        elif array[mid] < x:\n",
    "            low = mid + 1\n",
    "\n",
    "        else:\n",
    "            high = mid - 1\n",
    "\n",
    "    return -1\n",
    "\n",
    "\n",
    "array = [3, 4, 5, 6, 7, 8, 9]\n",
    "x = 4\n",
    "\n",
    "result = binarySearch(array, x, 0, len(array)-1)\n",
    "\n",
    "if result != -1:\n",
    "    print(\"Element is present at index \" + str(result))\n",
    "else:\n",
    "    print(\"Not found\")\n",
    "\n",
    "# print(binary_search([22,25,28,30,54,100,150,200], 100))\n",
    "\n",
    "def binary_search(data, elem):\n",
    "\n",
    "    low = 0\n",
    "    hight = len(data) - 1\n",
    "    while low <= hight:\n",
    "        mid = low + (hight - low) // 2 \n",
    "        if data[mid] == elem:\n",
    "            return mid\n",
    "        elif data[mid] < elem :\n",
    "            low = mid + 1\n",
    "        else:\n",
    "            hight = mid - 1\n",
    "\n",
    "    return -1\n",
    "\n",
    "print(binary_search([22,25,28,30,54,100,150,200], 100))\n"
   ]
  },
  {
   "cell_type": "code",
   "execution_count": null,
   "id": "ddc6621b-14b6-4ef2-b75d-09c7d6ef9f83",
   "metadata": {},
   "outputs": [],
   "source": []
  },
  {
   "cell_type": "code",
   "execution_count": 3,
   "id": "22d2513a-8404-4e2c-93c0-d09821f21a04",
   "metadata": {},
   "outputs": [
    {
     "name": "stdout",
     "output_type": "stream",
     "text": [
      "5\n"
     ]
    }
   ],
   "source": [
    "def binSearch(data, item):\n",
    "\n",
    "    low = 0\n",
    "    hight = len(data) - 1    \n",
    "    while low <= hight:\n",
    "        mid = low + (hight - low) //2\n",
    "        if data[mid] == item:\n",
    "            return mid\n",
    "        elif  item > data[mid]:\n",
    "            low = mid + 1\n",
    "        else:\n",
    "            hight = mid - 1\n",
    "    return -1\n",
    "\n",
    "print(binSearch([22,25,28,30,54,100,150,200], 100))\n",
    "            "
   ]
  },
  {
   "cell_type": "code",
   "execution_count": 6,
   "id": "819a97de-9d81-41d2-8fa2-95ee4762aab6",
   "metadata": {},
   "outputs": [
    {
     "name": "stdout",
     "output_type": "stream",
     "text": [
      "5\n"
     ]
    }
   ],
   "source": [
    "def binSearchRecusive(data, low, high , item):\n",
    "\n",
    "    if high >= low:\n",
    "        mid = (high + low) // 2\n",
    "    \n",
    "        if data[mid] == item:\n",
    "            return mid\n",
    "    \n",
    "        elif data[mid] > item:\n",
    "            return binSearchRecusive(data, low, mid - 1,item)\n",
    "        else:\n",
    "            return binSearchRecusive(data, mid + 1, high, item)\n",
    "    else:\n",
    "        return -1\n",
    "\n",
    "\n",
    "data = [22,25,28,30,54,100,150,200]\n",
    "print(binSearchRecusive(data,0,len(data)-1,100))\n",
    "    "
   ]
  },
  {
   "cell_type": "code",
   "execution_count": 16,
   "id": "ac59a5f4-b34c-456a-ac98-9c671e3aa2dd",
   "metadata": {},
   "outputs": [
    {
     "name": "stdout",
     "output_type": "stream",
     "text": [
      "ros1\n",
      "ros1\n"
     ]
    }
   ],
   "source": [
    "class a:\n",
    "    # name = None\n",
    "    arr = []\n",
    "    def __init__(self, name):\n",
    "        self.name = name \n",
    "\n",
    "class b:\n",
    "    # name = None\n",
    "    def __init__(self, name):\n",
    "        self.name = name \n",
    "\n",
    "A = a('shr')\n",
    "B = b('shr**')\n",
    "B = A\n",
    "\n",
    "B.name = 'ros1'\n",
    "A.arr.append('shoooo')\n",
    "\n",
    "print(A.name)\n",
    "print(B.name)\n"
   ]
  },
  {
   "cell_type": "code",
   "execution_count": 12,
   "id": "755b4d05-257d-480b-ba72-453671c04a64",
   "metadata": {},
   "outputs": [
    {
     "name": "stdout",
     "output_type": "stream",
     "text": [
      "5\n",
      "6\n"
     ]
    }
   ],
   "source": [
    "nums = [1,1,1,0,0,0,1,1,1,1,0]\n",
    "k = 2\n",
    "hight = len(nums)//2\n",
    "\n",
    "print(hight)\n",
    "\n",
    "def longestOnes(nums, k) -> int:\n",
    "    l = 0\n",
    "    res = 0\n",
    "    for i,num in enumerate(nums):\n",
    "        k -= 1-num\n",
    "        if k < 0:\n",
    "            k += 1-nums[l]\n",
    "            l += 1\n",
    "        else:\n",
    "            res = max(res , i-l+1)\n",
    "    return res\n",
    "\n",
    "print(longestOnes(nums,k))\n"
   ]
  },
  {
   "cell_type": "code",
   "execution_count": 55,
   "id": "1e91e1a1-8316-484f-9c2c-2c1d2676ff3f",
   "metadata": {},
   "outputs": [
    {
     "name": "stdout",
     "output_type": "stream",
     "text": [
      "['l', 'e', 'c', 'o', 'e']\n"
     ]
    }
   ],
   "source": [
    "s = list(\"leet**cod*e\")\n",
    "#s = list(\"erase*****\")\n",
    "# print(type(s))\n",
    "\n",
    "def removeStart(strParam):\n",
    "    for i, str in enumerate(strParam):\n",
    "        if str=='*':\n",
    "            strParam.remove(strParam[i])\n",
    "            strParam.remove(strParam[i-1])            \n",
    "            # strParam=strParam.replace('*', '',1)\n",
    "            # strParam=strParam.replace(s[i-1], '',1)\n",
    "            #print(strParam)            \n",
    "            removeStart(strParam)\n",
    "            \n",
    "            # s = s.removeprefix(str)\n",
    "            #s = s.removeprefix(str[i-1])\n",
    "        \n",
    "    return(strParam)\n",
    "    \n",
    "        \n",
    "    \n",
    "print(removeStart(s))\n"
   ]
  },
  {
   "cell_type": "code",
   "execution_count": 64,
   "id": "e19027c1-51b8-4a44-9b6a-f9c9f4fd04ae",
   "metadata": {},
   "outputs": [
    {
     "name": "stdout",
     "output_type": "stream",
     "text": [
      "APP: None\n",
      "APP: None\n",
      "APP: None\n",
      "APP: None\n",
      "APP: None\n",
      "POP: e\n",
      "POP: s\n",
      "POP: a\n",
      "POP: r\n",
      "POP: e\n",
      "\n"
     ]
    }
   ],
   "source": [
    "def removeStars(l: str) -> str:\n",
    "    s=[]\n",
    "    for i in l:\n",
    "        if i==\"*\":\n",
    "            print('POP:', s.pop())\n",
    "            # s.pop()\n",
    "        else:\n",
    "            print('APP:',s.append(i))\n",
    "            # s.append(i)\n",
    "            \n",
    "    return ''.join(s)\n",
    "\n",
    "#s = \"leet**cod*e\"\n",
    "s = \"erase*****\"\n",
    "\n",
    "print(removeStars(s))"
   ]
  },
  {
   "cell_type": "markdown",
   "id": "8b262378-ab16-4a2a-b689-e1abb13d4657",
   "metadata": {},
   "source": [
    "**Delete Node in a BST**"
   ]
  },
  {
   "cell_type": "code",
   "execution_count": 70,
   "id": "1d2c0f85-f555-4888-919d-0da522fbe577",
   "metadata": {},
   "outputs": [],
   "source": [
    "class TreeNode:\n",
    "    def __init__(self, val=0, left=None, right=None):\n",
    "        self.val = val\n",
    "        self.left = left\n",
    "        self.right = right\n",
    "\n",
    "def smallestDescendant(self, root):\n",
    "    while root.left:\n",
    "        root = root.left\n",
    "    return root\n",
    "\n",
    "def deleteNode(self, root: [], key: int) :\n",
    "        if not root:\n",
    "            return\n",
    "        else:\n",
    "            # Checks for Lesser value\n",
    "            if root.val > key:\n",
    "                root.left = self.deleteNode(root.left, key)\n",
    "            # Checks for Greater value\n",
    "            elif root.val < key:\n",
    "                root.right = self.deleteNode(root.right, key)\n",
    "            # Checks if we have reached the node we want to delete\n",
    "            else:\n",
    "                # First we check if only 1 child node is present\n",
    "                if not root.left:\n",
    "                    root = root.right\n",
    "                elif not root.right:\n",
    "                    root = root.left\n",
    "                else:\n",
    "                # If both the children are present then we find the\n",
    "                # smallest child in the right child and assign it's\n",
    "                # value to node and recursively delete that child \n",
    "                # until we have reach node with 1 child or leaf node\n",
    "                    temp = self.smallestDescendant(root.right)\n",
    "                    root.val = temp.val\n",
    "                    root.right = self.deleteNode(root.right, temp.val)\n",
    "            return root\n",
    "        \n",
    "    \n",
    "    "
   ]
  },
  {
   "cell_type": "code",
   "execution_count": 82,
   "id": "dcb44ff3-02cc-4a8e-942e-6aacdce2aebd",
   "metadata": {},
   "outputs": [
    {
     "name": "stdout",
     "output_type": "stream",
     "text": [
      "4\n"
     ]
    }
   ],
   "source": [
    "import heapq\n",
    "from heapq import heapify, heappop, heappush\n",
    "# data = [3,2,1,5,6,4]\n",
    "data = [3,2,3,1,2,4,5,5,6]\n",
    "k = 4\n",
    "\n",
    "# heapify(data)\n",
    "# print(heappush(data, -2))\n",
    "[heappop(data) for i in range(3)]\n",
    "\n",
    "print(heapq.nlargest(k, data)[k-1])"
   ]
  },
  {
   "cell_type": "code",
   "execution_count": null,
   "id": "a825d7a6-a37f-4925-91a8-4a90a64adf10",
   "metadata": {},
   "outputs": [],
   "source": []
  }
 ],
 "metadata": {
  "kernelspec": {
   "display_name": "Python 3 (ipykernel)",
   "language": "python",
   "name": "python3"
  },
  "language_info": {
   "codemirror_mode": {
    "name": "ipython",
    "version": 3
   },
   "file_extension": ".py",
   "mimetype": "text/x-python",
   "name": "python",
   "nbconvert_exporter": "python",
   "pygments_lexer": "ipython3",
   "version": "3.10.9"
  }
 },
 "nbformat": 4,
 "nbformat_minor": 5
}
