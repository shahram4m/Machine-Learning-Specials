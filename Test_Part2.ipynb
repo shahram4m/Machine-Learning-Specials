{
 "cells": [
  {
   "cell_type": "code",
   "execution_count": 1,
   "id": "ecad5099-5be2-462d-b544-0f748ec7e6a5",
   "metadata": {},
   "outputs": [
    {
     "name": "stdout",
     "output_type": "stream",
     "text": [
      "Module(body=[Assign(targets=[Name(id='a', ctx=Store())], value=BinOp(left=Constant(value=5), op=Add(), right=Constant(value=5)))], type_ignores=[])\n"
     ]
    }
   ],
   "source": [
    "import ast\n",
    "\n",
    "srcCode = 'a = 5+5'\n",
    "parsCode = ast.parse(srcCode)\n",
    "print(ast.dump(parsCode))"
   ]
  },
  {
   "cell_type": "code",
   "execution_count": 1,
   "id": "18fdae07-9b00-4e36-b930-93832f4991a3",
   "metadata": {},
   "outputs": [
    {
     "name": "stdout",
     "output_type": "stream",
     "text": [
      "[1, 2, 3, 4, 5, 6]\n"
     ]
    }
   ],
   "source": [
    "def chain(*itrables):\n",
    "    for iter in itrables:\n",
    "        yield from iter\n",
    "\n",
    "mylist = list[[1,2],[3,4], [5,6]]\n",
    "\n",
    "result  = list(chain([1,2],[3,4], [5,6]))\n",
    "print(result)\n"
   ]
  },
  {
   "cell_type": "code",
   "execution_count": 1,
   "id": "673c539b-f495-471b-9167-c8a0f3deb411",
   "metadata": {},
   "outputs": [
    {
     "name": "stdout",
     "output_type": "stream",
     "text": [
      "[9]\n"
     ]
    }
   ],
   "source": [
    "# heapq Module\n",
    "import heapq\n",
    "from heapq import heapify, heappop, heappush\n",
    "data = [1, 3, 5, 7, 9, 2, 4, 6, 8, 0]\n",
    "heapify(data)\n",
    "heappush(data, -5)\n",
    "[heappop(data) for i in range(3)]\n",
    "\n",
    "#print(heappop(data))\n",
    "print(heapq.nlargest(1, data))\n"
   ]
  },
  {
   "cell_type": "code",
   "execution_count": null,
   "id": "db3120fc-2697-48cf-97a9-6e7720930ba8",
   "metadata": {},
   "outputs": [],
   "source": [
    "#Named Expressions with _\n",
    "print(5+2)\n",
    "#print( _ +3)"
   ]
  },
  {
   "cell_type": "code",
   "execution_count": 1,
   "id": "95259970-6ae1-4a7b-81e8-f04d2a123108",
   "metadata": {},
   "outputs": [
    {
     "name": "stdout",
     "output_type": "stream",
     "text": [
      "0\n",
      "1\n",
      "2\n",
      "3\n",
      "4\n",
      "5\n",
      "6\n",
      "7\n",
      "8\n",
      "9\n"
     ]
    }
   ],
   "source": [
    "import threading \n",
    "\n",
    "def print_num():\n",
    "    for i in range(10):\n",
    "        print(i)\n",
    "\n",
    "thread = threading.Thread(target=print_num)\n",
    "thread.start()\n",
    "thread.join()\n",
    "\n",
    "        "
   ]
  },
  {
   "cell_type": "code",
   "execution_count": null,
   "id": "af23d22a-abb1-413d-af86-e32bc1e7edb2",
   "metadata": {},
   "outputs": [],
   "source": [
    "#The __slots__ Attribute\n"
   ]
  },
  {
   "cell_type": "code",
   "execution_count": 20,
   "id": "ab362738-c497-49b2-954d-d98f75ebad82",
   "metadata": {},
   "outputs": [
    {
     "name": "stdout",
     "output_type": "stream",
     "text": [
      "ario2\n",
      "35\n"
     ]
    }
   ],
   "source": [
    "# __slots__ is an attribute you can add to a class to save memory by\n",
    "# preventing the dynamic creation of attributes.\n",
    "class myClass:\n",
    "    lst = []   \n",
    "    __slots__ = ['name', 'age']\n",
    "    def __init__(self, name, age):\n",
    "        self.name = name\n",
    "        self.age = age\n",
    "        \n",
    "\n",
    "cla = myClass('shahram', 35)\n",
    "\n",
    "cla1 = cla\n",
    "\n",
    "cla1.name = 'ario2'\n",
    "cla.lst.append(4)\n",
    "\n",
    "print(cla.name)\n",
    "print(cla.age)\n"
   ]
  },
  {
   "cell_type": "code",
   "execution_count": 22,
   "id": "503039aa-f1bd-4f14-a6c5-71aa1184270d",
   "metadata": {},
   "outputs": [
    {
     "name": "stdout",
     "output_type": "stream",
     "text": [
      "b'SHR!'\n"
     ]
    }
   ],
   "source": [
    "#memoryview Objects\n",
    "data = bytearray(b\"Hello, SHR!\")\n",
    "view = memoryview(data)\n",
    "chunk = view[7:13]\n",
    "print(bytes(chunk)) # Output: b'world!'\n"
   ]
  },
  {
   "cell_type": "code",
   "execution_count": null,
   "id": "18c267f0-c15e-4750-85f7-072ccdd5244f",
   "metadata": {},
   "outputs": [],
   "source": [
    "#The codecs Module\n",
    "# The codecs module provides functions for encoding and decoding data,\n",
    "# including handling various text encodings.\n",
    "\n",
    "import codecs\n",
    "encoded = codecs.encode('text', 'base64')\n",
    "print(encoded) # Output: b'dGV4dA==\\n'"
   ]
  },
  {
   "cell_type": "code",
   "execution_count": 31,
   "id": "e333650f-5155-4f29-a4ce-a452289618cb",
   "metadata": {},
   "outputs": [
    {
     "ename": "AttributeError",
     "evalue": "'myClass2' object has no attribute 'x'",
     "output_type": "error",
     "traceback": [
      "\u001b[1;31m---------------------------------------------------------------------------\u001b[0m",
      "\u001b[1;31mAttributeError\u001b[0m                            Traceback (most recent call last)",
      "Cell \u001b[1;32mIn[31], line 12\u001b[0m\n\u001b[0;32m      9\u001b[0m         \u001b[38;5;28mself\u001b[39m\u001b[38;5;241m.\u001b[39my \u001b[38;5;241m=\u001b[39m \u001b[38;5;241m1\u001b[39m\n\u001b[0;32m     11\u001b[0m b \u001b[38;5;241m=\u001b[39m myClass2()\n\u001b[1;32m---> 12\u001b[0m \u001b[38;5;28mprint\u001b[39m(\u001b[43mb\u001b[49m\u001b[38;5;241;43m.\u001b[39;49m\u001b[43mx\u001b[49m, b\u001b[38;5;241m.\u001b[39my)\n",
      "\u001b[1;31mAttributeError\u001b[0m: 'myClass2' object has no attribute 'x'"
     ]
    }
   ],
   "source": [
    "#************* raise Error\n",
    "\n",
    "class myClass():\n",
    "    list = []\n",
    "    def __init__(self):\n",
    "        self.x = 0\n",
    "\n",
    "class myClass2(myClass):\n",
    "    list = []\n",
    "    def __init__(self):\n",
    "        self.y = 1\n",
    "\n",
    "b = myClass2()\n",
    "print(b.x, b.y)\n",
    "\n",
    "#******************** run finely\n",
    "class myClass():\n",
    "    list = []\n",
    "    x = 0\n",
    "    def __init__(self, x):\n",
    "        self.x = 0\n",
    "\n",
    "class myClass2(myClass):\n",
    "    list = []\n",
    "    def __init__(self):\n",
    "        self.y = 1\n",
    "\n",
    "b = myClass2()\n",
    "print(b.x, b.y)\n"
   ]
  },
  {
   "cell_type": "markdown",
   "id": "4e28910a-b516-470c-8c7d-88aa52cf2681",
   "metadata": {},
   "source": [
    "### **Online question 1**"
   ]
  },
  {
   "cell_type": "code",
   "execution_count": 26,
   "id": "b55ac57a-a104-4030-af75-7a8612c8ed5a",
   "metadata": {},
   "outputs": [
    {
     "name": "stdout",
     "output_type": "stream",
     "text": [
      "shahram ['jahan'] asho ['jahan']\n"
     ]
    }
   ],
   "source": [
    "\n",
    "class myClass:\n",
    "    lst = []   \n",
    "    __slots__ = ['name', 'age']\n",
    "    def __init__(self, name, age):\n",
    "        self.name = name\n",
    "        self.age = age\n",
    "        \n",
    "\n",
    "a = myClass('shahram', 35)\n",
    "b = myClass('asho', 40)\n",
    "\n",
    "# cla1 = cla\n",
    "\n",
    "#when add list (a) added for (b) too\n",
    "a.lst.append('jahan')\n",
    "\n",
    "\n",
    "print(a.name, a.lst, b.name, b.lst)\n",
    "\n"
   ]
  },
  {
   "cell_type": "markdown",
   "id": "ba54f2eb-1a31-42c4-8797-1aa214c32185",
   "metadata": {},
   "source": [
    "### **Online Question 2**"
   ]
  },
  {
   "cell_type": "code",
   "execution_count": 27,
   "id": "8ecba467-4047-45ab-8869-5588e6b053ba",
   "metadata": {},
   "outputs": [
    {
     "name": "stdout",
     "output_type": "stream",
     "text": [
      "[1, 2, 3, 80] a vlaue before copy\n"
     ]
    }
   ],
   "source": [
    "import copy\n",
    "\n",
    "class myclass(object):\n",
    "    pass\n",
    "\n",
    "a = myclass()\n",
    "\n",
    "a.lst = [1,2,3]\n",
    "a.str = \"a vlaue before copy\"\n",
    "\n",
    "b = copy.copy(a)\n",
    "\n",
    "#when add list with append change (a) has affect on (b)\n",
    "a.lst.append(80)\n",
    "a.str=\"b value after copy\"\n",
    "\n",
    "print(b.lst, b.str)"
   ]
  },
  {
   "cell_type": "markdown",
   "id": "ba6de981-b719-4a05-a77a-bd0f99602717",
   "metadata": {},
   "source": [
    "### **Online Question 3**"
   ]
  },
  {
   "cell_type": "code",
   "execution_count": 36,
   "id": "88657b7c-da82-4464-84ee-30a6687aaeea",
   "metadata": {},
   "outputs": [
    {
     "name": "stdout",
     "output_type": "stream",
     "text": [
      "89\n"
     ]
    }
   ],
   "source": [
    "import datetime\n",
    "\n",
    "class Human(object):\n",
    "    name = None\n",
    "    gender = None\n",
    "    birthdate = None\n",
    "\n",
    "    def  __getattr__(self, item):\n",
    "        print(item)\n",
    "        if item == 'age':\n",
    "            return datetime.datetime.now() - self.birthdate\n",
    "        else:\n",
    "            return None\n",
    "\n",
    "    def __getattribute__(self, item):\n",
    "        return object.__getattribute__(self, item)\n",
    "\n",
    "h = Human()\n",
    "h.birthdate = datetime.datetime(2020,4,18)\n",
    "h.age = 89\n",
    "print(h.age)\n"
   ]
  },
  {
   "cell_type": "code",
   "execution_count": null,
   "id": "83a1fec1-25e8-4ecb-80f0-5bcb2e5b56c9",
   "metadata": {},
   "outputs": [],
   "source": [
    "# ***************************************************************************import \n",
    "\n",
    "# does store in memory this command:l = [i for i in xrange(10000)]\n",
    "# does store in memory this command:l = (i for i in xrange(10000))\n",
    "\n",
    "# However, it's important to note that in Python 3, xrange() has been removed, and range() now behaves like the old xrange() in Python 2, \n",
    "# providing an iterable that generates values on-the-fly rather than creating a full list in memory.\n"
   ]
  },
  {
   "cell_type": "code",
   "execution_count": 37,
   "id": "6b1983a0-9350-429b-9934-cafe9d9e5f50",
   "metadata": {},
   "outputs": [],
   "source": [
    "#Set Dict List bytarr are mutable\n",
    "# Immutable types\n",
    "immutable_int = 42\n",
    "immutable_float = 3.14\n",
    "immutable_bool = True\n",
    "immutable_str = \"Hello, World!\"\n",
    "immutable_tuple = (1, 2, 3)\n",
    "immutable_frozenset = frozenset([1, 2, 3])\n",
    "immutable_bytes = b\"example\"\n",
    "\n",
    "# Mutable types\n",
    "mutable_list = [1, 2, 3]\n",
    "mutable_dict = {'key': 'value'}\n",
    "mutable_set = {1, 2, 3}\n",
    "mutable_bytearray = bytearray(b\"mutable\")\n",
    "\n",
    "# NoneType\n",
    "none_type = None\n",
    "\n"
   ]
  },
  {
   "cell_type": "code",
   "execution_count": 40,
   "id": "4c874c4f-fefb-4db3-9bf6-d3ed833f52be",
   "metadata": {},
   "outputs": [
    {
     "name": "stdout",
     "output_type": "stream",
     "text": [
      "female\n"
     ]
    }
   ],
   "source": [
    "class Human(object):\n",
    "\n",
    "    ALLOWED_GENDERS = ['male', 'female']\n",
    "\n",
    "    def __init__(self, name=None, gender=None):\n",
    "        self.name = name\n",
    "        self._gender = gender\n",
    "\n",
    "    @property\n",
    "    def gender(self):\n",
    "        return self._gender\n",
    "\n",
    "    @gender.setter\n",
    "    def gender(self, newvalue):\n",
    "        if newvalue not in self.ALLOWED_GENDERS:\n",
    "            raise ValueError('Invalid value for gender: %s. Should be one of %s.' % (newvalue, \", \".join(self.ALLOWED_GENDERS)))\n",
    "\n",
    "        self._gender = newvalue\n",
    "\n",
    "\n",
    "h = Human()\n",
    "h.name = 'Sweety'\n",
    "h.gender = 'female'\n",
    "\n",
    "print(h.gender)"
   ]
  },
  {
   "cell_type": "code",
   "execution_count": 48,
   "id": "3756ada7-46bc-4c82-a199-8bea8ab1ead0",
   "metadata": {},
   "outputs": [
    {
     "name": "stdout",
     "output_type": "stream",
     "text": [
      "[1, 1, 4, 2, 1, 1, 1, 0]\n"
     ]
    }
   ],
   "source": [
    "#while temperatures and temperatures[0][-1] <= \n",
    "temperatures = [73,74,75,71,69,72,76,73]\n",
    "#print(dir(temperatures))\n",
    "#print(temperatures[3:])\n",
    "result=[]\n",
    "\n",
    "\n",
    "for index, itemMst  in enumerate(temperatures):    \n",
    "    #print(itemMst)\n",
    "    cnt = 0\n",
    "    for item in temperatures[index+1:]:\n",
    "        #print(f\" itemMst:{itemMst} item:{item}\")\n",
    "        if item > itemMst:\n",
    "            cnt += 1\n",
    "            break\n",
    "        else:\n",
    "            cnt += 1\n",
    "    result.append(cnt)\n",
    "        \n",
    "   \n",
    "\n",
    "print(result)\n",
    "    \n"
   ]
  },
  {
   "cell_type": "code",
   "execution_count": null,
   "id": "5325c201-ca91-43d5-864a-9689de23fa6c",
   "metadata": {},
   "outputs": [],
   "source": [
    "# spells = [5,1,3]\n",
    "# potions = [1,2,3,4,5]\n",
    "# success = 7\n",
    "spells = [3,1,2]\n",
    "potions = [8,5,8]\n",
    "success = 16\n",
    "\n",
    "res = [0] * len(spells)\n",
    "potions.sort()\n",
    "\n",
    "for i in range(len(spells)):\n",
    "    # find the smallest value to reach in spells\n",
    "    needed = success//spells[i] + bool(success % spells[i])\n",
    "\n",
    "    l, r = 0, len(potions) # r should start with len(potions) to give a full range from 0 to len(potions) to l\n",
    "    while l < r:\n",
    "        mid = l + (r - l) // 2\n",
    "        if potions[mid] < needed:\n",
    "            l = mid + 1\n",
    "        else:\n",
    "            r = mid\n",
    "        res[i] = len(potions) - l\n",
    "\n",
    "print(res)\n",
    "\n",
    "\n",
    "# potions.sort() # Sort the potions array\n",
    "# pairs = [0] * len(spells) # Initialize the result array with zeros\n",
    "\n",
    "# for i, spell in enumerate(spells):\n",
    "#     # Find the lower and upper bounds for the binary search\n",
    "#     lower = 0\n",
    "#     upper = len(potions) - 1\n",
    "\n",
    "#     while lower <= upper:\n",
    "#         mid = lower + (upper - lower) // 2\n",
    "#         product = spell * potions[mid]\n",
    "\n",
    "#         if product >= success:\n",
    "#             # If the product is successful, search for a smaller potion\n",
    "#             upper = mid - 1\n",
    "#         else:\n",
    "#             # If the product is not successful, search for a larger potion\n",
    "#             lower = mid + 1\n",
    "\n",
    "#     # The number of successful pairs is the index of the last successful potion + 1\n",
    "#     # If no potion is successful, the index is 0\n",
    "#     pairs[i] = lower + 1\n",
    "\n",
    "# print(pairs)\n",
    "\n",
    "\n"
   ]
  },
  {
   "cell_type": "code",
   "execution_count": 57,
   "id": "97cad036-f76f-4f98-9985-3613aba57e57",
   "metadata": {},
   "outputs": [
    {
     "name": "stdout",
     "output_type": "stream",
     "text": [
      "2\n"
     ]
    }
   ],
   "source": [
    "print(0 + (5 - 0) // 2)"
   ]
  },
  {
   "cell_type": "code",
   "execution_count": null,
   "id": "6c41bf63-1117-4cb2-889c-c9a2ea9ae432",
   "metadata": {},
   "outputs": [],
   "source": [
    "# Input: spells = [5,1,3], potions = [1,2,3,4,5], success = 7\n",
    "# Output: [4,0,3]\n",
    "# Explanation:\n",
    "# - 0th spell: 5 * [1,2,3,4,5] = [5,10,15,20,25]. 4 pairs are successful.\n",
    "# - 1st spell: 1 * [1,2,3,4,5] = [1,2,3,4,5]. 0 pairs are successful.\n",
    "# - 2nd spell: 3 * [1,2,3,4,5] = [3,6,9,12,15]. 3 pairs are successful.\n",
    "# Thus, [4,0,3] is returned.\n",
    "\n",
    "# spells = [5,1,3]\n",
    "# potions = [1,2,3,4,5]\n",
    "# success = 7\n",
    "\n",
    "# potions.sort()\n",
    "# pairs = [0] * len(spells)\n",
    "\n",
    "# for i, spell in enumerate(spells):\n",
    "#      # find the smallest value to reach in spells\n",
    "#     needed = success//spells[i] + bool(success % spells[i])\n",
    "#     print(needed)\n",
    "#     left , right = 0 , len(potions) - 1\n",
    "#     while left <= right:\n",
    "#         mid = left + (right - left) // 2\n",
    "#         if int(spell) * int(potions[mid]) >= success:\n",
    "#            right = mid\n",
    "#         else:\n",
    "#            left = mid+1\n",
    "\n",
    "            \n",
    "#     pairs[i] = len(potions) - left\n",
    "\n",
    "# print(pairs)\n",
    "\n"
   ]
  },
  {
   "cell_type": "code",
   "execution_count": 1,
   "id": "ee5793b4-a763-4331-badb-d1f4e56f263d",
   "metadata": {},
   "outputs": [
    {
     "name": "stdout",
     "output_type": "stream",
     "text": [
      "6\n",
      "16\n",
      "8\n",
      "[2, 0, 2]\n"
     ]
    }
   ],
   "source": [
    "spells = [3,1,2]\n",
    "potions = [8,5,8]\n",
    "success = 16\n",
    "\n",
    "res = [0] * len(spells)\n",
    "potions.sort()\n",
    "\n",
    "for i in range(len(spells)):\n",
    "    # find the smallest value to reach in spells\n",
    "    needed = success//spells[i] + bool(success % spells[i])\n",
    "    print(needed)\n",
    "    l, r = 0, len(potions) # r should start with len(potions) to give a full range from 0 to len(potions) to l\n",
    "    while l < r:\n",
    "        mid = l + (r - l) // 2\n",
    "        if potions[mid] < needed:\n",
    "            l = mid + 1\n",
    "        else:\n",
    "            r = mid\n",
    "        res[i] = len(potions) - l\n",
    "\n",
    "print(res)"
   ]
  },
  {
   "cell_type": "code",
   "execution_count": 11,
   "id": "0aa1b142-bfd1-43f7-bb12-aba2873b80f5",
   "metadata": {},
   "outputs": [
    {
     "name": "stdout",
     "output_type": "stream",
     "text": [
      "mid:2 , int(potions[mid]):3 , int(spell) *:15\n",
      "mid:1 , int(potions[mid]):2 , int(spell) *:10\n",
      "mid:0 , int(potions[mid]):1 , int(spell) *:5\n",
      "len(potions) - left:4\n",
      "mid:2 , int(potions[mid]):3 , int(spell) *:3\n",
      "mid:4 , int(potions[mid]):5 , int(spell) *:5\n",
      "len(potions) - left:0\n",
      "mid:2 , int(potions[mid]):3 , int(spell) *:9\n",
      "mid:1 , int(potions[mid]):2 , int(spell) *:6\n",
      "len(potions) - left:3\n",
      "[4, 0, 3]\n"
     ]
    }
   ],
   "source": [
    "spells = [5,1,3]\n",
    "potions = [1,2,3,4,5]\n",
    "success = 7\n",
    "\n",
    "# spells = [3,1,2]\n",
    "# potions = [8,5,8]\n",
    "# success = 16\n",
    "\n",
    "# Input: spells = [5,1,3], potions = [1,2,3,4,5], success = 7\n",
    "# Output: [4,0,3]\n",
    "# Explanation:\n",
    "# - 0th spell: 5 * [1,2,3,4,5] = [5,10,15,20,25]. 4 pairs are successful.\n",
    "# - 1st spell: 1 * [1,2,3,4,5] = [1,2,3,4,5]. 0 pairs are successful.\n",
    "# - 2nd spell: 3 * [1,2,3,4,5] = [3,6,9,12,15]. 3 pairs are successful.\n",
    "# Thus, [4,0,3] is returned.\n",
    "\n",
    "potions.sort()\n",
    "pairs = [0] * len(spells) \n",
    "\n",
    "for i, spell in enumerate(spells):    \n",
    "    left , right = 0 , len(potions)\n",
    "    while left < right:\n",
    "        mid = left + (right - left) // 2\n",
    "        print(f\"mid:{mid} , int(potions[mid]):{int(potions[mid])} , int(spell) *:{int(spell) * int(potions[mid])}\")        \n",
    "        if int(spell) * int(potions[mid]) >= success:\n",
    "           right = mid\n",
    "        else:\n",
    "           left = mid+1\n",
    "\n",
    "    print(f\"len(potions) - left:{len(potions) - left}\")\n",
    "    pairs[i] = len(potions) - left\n",
    "\n",
    "print(pairs)"
   ]
  },
  {
   "cell_type": "code",
   "execution_count": null,
   "id": "bfad967d-5f12-4070-b334-dcbb83f7b377",
   "metadata": {},
   "outputs": [],
   "source": []
  }
 ],
 "metadata": {
  "kernelspec": {
   "display_name": "Python 3 (ipykernel)",
   "language": "python",
   "name": "python3"
  },
  "language_info": {
   "codemirror_mode": {
    "name": "ipython",
    "version": 3
   },
   "file_extension": ".py",
   "mimetype": "text/x-python",
   "name": "python",
   "nbconvert_exporter": "python",
   "pygments_lexer": "ipython3",
   "version": "3.10.9"
  }
 },
 "nbformat": 4,
 "nbformat_minor": 5
}
