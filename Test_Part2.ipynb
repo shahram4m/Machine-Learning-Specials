{
 "cells": [
  {
   "cell_type": "code",
   "execution_count": 1,
   "id": "ecad5099-5be2-462d-b544-0f748ec7e6a5",
   "metadata": {},
   "outputs": [
    {
     "name": "stdout",
     "output_type": "stream",
     "text": [
      "Module(body=[Assign(targets=[Name(id='a', ctx=Store())], value=BinOp(left=Constant(value=5), op=Add(), right=Constant(value=5)))], type_ignores=[])\n"
     ]
    }
   ],
   "source": [
    "import ast\n",
    "\n",
    "srcCode = 'a = 5+5'\n",
    "parsCode = ast.parse(srcCode)\n",
    "print(ast.dump(parsCode))"
   ]
  },
  {
   "cell_type": "code",
   "execution_count": 1,
   "id": "18fdae07-9b00-4e36-b930-93832f4991a3",
   "metadata": {},
   "outputs": [
    {
     "name": "stdout",
     "output_type": "stream",
     "text": [
      "[1, 2, 3, 4, 5, 6]\n"
     ]
    }
   ],
   "source": [
    "def chain(*itrables):\n",
    "    for iter in itrables:\n",
    "        yield from iter\n",
    "\n",
    "mylist = list[[1,2],[3,4], [5,6]]\n",
    "\n",
    "result  = list(chain([1,2],[3,4], [5,6]))\n",
    "print(result)\n"
   ]
  },
  {
   "cell_type": "code",
   "execution_count": 1,
   "id": "673c539b-f495-471b-9167-c8a0f3deb411",
   "metadata": {},
   "outputs": [
    {
     "name": "stdout",
     "output_type": "stream",
     "text": [
      "[9]\n"
     ]
    }
   ],
   "source": [
    "# heapq Module\n",
    "import heapq\n",
    "from heapq import heapify, heappop, heappush\n",
    "data = [1, 3, 5, 7, 9, 2, 4, 6, 8, 0]\n",
    "heapify(data)\n",
    "heappush(data, -5)\n",
    "[heappop(data) for i in range(3)]\n",
    "\n",
    "#print(heappop(data))\n",
    "print(heapq.nlargest(1, data))\n"
   ]
  },
  {
   "cell_type": "code",
   "execution_count": null,
   "id": "db3120fc-2697-48cf-97a9-6e7720930ba8",
   "metadata": {},
   "outputs": [],
   "source": [
    "#Named Expressions with _\n",
    "print(5+2)\n",
    "#print( _ +3)"
   ]
  },
  {
   "cell_type": "code",
   "execution_count": 1,
   "id": "95259970-6ae1-4a7b-81e8-f04d2a123108",
   "metadata": {},
   "outputs": [
    {
     "name": "stdout",
     "output_type": "stream",
     "text": [
      "0\n",
      "1\n",
      "2\n",
      "3\n",
      "4\n",
      "5\n",
      "6\n",
      "7\n",
      "8\n",
      "9\n"
     ]
    }
   ],
   "source": [
    "import threading \n",
    "\n",
    "def print_num():\n",
    "    for i in range(10):\n",
    "        print(i)\n",
    "\n",
    "thread = threading.Thread(target=print_num)\n",
    "thread.start()\n",
    "thread.join()\n",
    "\n",
    "        "
   ]
  },
  {
   "cell_type": "code",
   "execution_count": null,
   "id": "af23d22a-abb1-413d-af86-e32bc1e7edb2",
   "metadata": {},
   "outputs": [],
   "source": [
    "#The __slots__ Attribute\n"
   ]
  },
  {
   "cell_type": "code",
   "execution_count": 20,
   "id": "ab362738-c497-49b2-954d-d98f75ebad82",
   "metadata": {},
   "outputs": [
    {
     "name": "stdout",
     "output_type": "stream",
     "text": [
      "ario2\n",
      "35\n"
     ]
    }
   ],
   "source": [
    "# __slots__ is an attribute you can add to a class to save memory by\n",
    "# preventing the dynamic creation of attributes.\n",
    "class myClass:\n",
    "    lst = []   \n",
    "    __slots__ = ['name', 'age']\n",
    "    def __init__(self, name, age):\n",
    "        self.name = name\n",
    "        self.age = age\n",
    "        \n",
    "\n",
    "cla = myClass('shahram', 35)\n",
    "\n",
    "cla1 = cla\n",
    "\n",
    "cla1.name = 'ario2'\n",
    "cla.lst.append(4)\n",
    "\n",
    "print(cla.name)\n",
    "print(cla.age)\n"
   ]
  },
  {
   "cell_type": "code",
   "execution_count": 22,
   "id": "503039aa-f1bd-4f14-a6c5-71aa1184270d",
   "metadata": {},
   "outputs": [
    {
     "name": "stdout",
     "output_type": "stream",
     "text": [
      "b'SHR!'\n"
     ]
    }
   ],
   "source": [
    "#memoryview Objects\n",
    "data = bytearray(b\"Hello, SHR!\")\n",
    "view = memoryview(data)\n",
    "chunk = view[7:13]\n",
    "print(bytes(chunk)) # Output: b'world!'\n"
   ]
  },
  {
   "cell_type": "code",
   "execution_count": null,
   "id": "18c267f0-c15e-4750-85f7-072ccdd5244f",
   "metadata": {},
   "outputs": [],
   "source": [
    "#The codecs Module\n",
    "# The codecs module provides functions for encoding and decoding data,\n",
    "# including handling various text encodings.\n",
    "\n",
    "import codecs\n",
    "encoded = codecs.encode('text', 'base64')\n",
    "print(encoded) # Output: b'dGV4dA==\\n'"
   ]
  },
  {
   "cell_type": "code",
   "execution_count": 31,
   "id": "e333650f-5155-4f29-a4ce-a452289618cb",
   "metadata": {},
   "outputs": [
    {
     "ename": "AttributeError",
     "evalue": "'myClass2' object has no attribute 'x'",
     "output_type": "error",
     "traceback": [
      "\u001b[1;31m---------------------------------------------------------------------------\u001b[0m",
      "\u001b[1;31mAttributeError\u001b[0m                            Traceback (most recent call last)",
      "Cell \u001b[1;32mIn[31], line 12\u001b[0m\n\u001b[0;32m      9\u001b[0m         \u001b[38;5;28mself\u001b[39m\u001b[38;5;241m.\u001b[39my \u001b[38;5;241m=\u001b[39m \u001b[38;5;241m1\u001b[39m\n\u001b[0;32m     11\u001b[0m b \u001b[38;5;241m=\u001b[39m myClass2()\n\u001b[1;32m---> 12\u001b[0m \u001b[38;5;28mprint\u001b[39m(\u001b[43mb\u001b[49m\u001b[38;5;241;43m.\u001b[39;49m\u001b[43mx\u001b[49m, b\u001b[38;5;241m.\u001b[39my)\n",
      "\u001b[1;31mAttributeError\u001b[0m: 'myClass2' object has no attribute 'x'"
     ]
    }
   ],
   "source": [
    "#************* raise Error\n",
    "\n",
    "class myClass():\n",
    "    list = []\n",
    "    def __init__(self):\n",
    "        self.x = 0\n",
    "\n",
    "class myClass2(myClass):\n",
    "    list = []\n",
    "    def __init__(self):\n",
    "        self.y = 1\n",
    "\n",
    "b = myClass2()\n",
    "print(b.x, b.y)\n",
    "\n",
    "#******************** run finely\n",
    "class myClass():\n",
    "    list = []\n",
    "    x = 0\n",
    "    def __init__(self, x):\n",
    "        self.x = 0\n",
    "\n",
    "class myClass2(myClass):\n",
    "    list = []\n",
    "    def __init__(self):\n",
    "        self.y = 1\n",
    "\n",
    "b = myClass2()\n",
    "print(b.x, b.y)\n"
   ]
  },
  {
   "cell_type": "markdown",
   "id": "4e28910a-b516-470c-8c7d-88aa52cf2681",
   "metadata": {},
   "source": [
    "### **Online question 1**"
   ]
  },
  {
   "cell_type": "code",
   "execution_count": 26,
   "id": "b55ac57a-a104-4030-af75-7a8612c8ed5a",
   "metadata": {},
   "outputs": [
    {
     "name": "stdout",
     "output_type": "stream",
     "text": [
      "shahram ['jahan'] asho ['jahan']\n"
     ]
    }
   ],
   "source": [
    "\n",
    "class myClass:\n",
    "    lst = []   \n",
    "    __slots__ = ['name', 'age']\n",
    "    def __init__(self, name, age):\n",
    "        self.name = name\n",
    "        self.age = age\n",
    "        \n",
    "\n",
    "a = myClass('shahram', 35)\n",
    "b = myClass('asho', 40)\n",
    "\n",
    "# cla1 = cla\n",
    "\n",
    "#when add list (a) added for (b) too\n",
    "a.lst.append('jahan')\n",
    "\n",
    "\n",
    "print(a.name, a.lst, b.name, b.lst)\n",
    "\n"
   ]
  },
  {
   "cell_type": "markdown",
   "id": "ba54f2eb-1a31-42c4-8797-1aa214c32185",
   "metadata": {},
   "source": [
    "### **Online Question 2**"
   ]
  },
  {
   "cell_type": "code",
   "execution_count": 27,
   "id": "8ecba467-4047-45ab-8869-5588e6b053ba",
   "metadata": {},
   "outputs": [
    {
     "name": "stdout",
     "output_type": "stream",
     "text": [
      "[1, 2, 3, 80] a vlaue before copy\n"
     ]
    }
   ],
   "source": [
    "import copy\n",
    "\n",
    "class myclass(object):\n",
    "    pass\n",
    "\n",
    "a = myclass()\n",
    "\n",
    "a.lst = [1,2,3]\n",
    "a.str = \"a vlaue before copy\"\n",
    "\n",
    "b = copy.copy(a)\n",
    "\n",
    "#when add list with append change (a) has affect on (b)\n",
    "a.lst.append(80)\n",
    "a.str=\"b value after copy\"\n",
    "\n",
    "print(b.lst, b.str)"
   ]
  },
  {
   "cell_type": "markdown",
   "id": "ba6de981-b719-4a05-a77a-bd0f99602717",
   "metadata": {},
   "source": [
    "### **Online Question 3**"
   ]
  },
  {
   "cell_type": "code",
   "execution_count": 36,
   "id": "88657b7c-da82-4464-84ee-30a6687aaeea",
   "metadata": {},
   "outputs": [
    {
     "name": "stdout",
     "output_type": "stream",
     "text": [
      "89\n"
     ]
    }
   ],
   "source": [
    "import datetime\n",
    "\n",
    "class Human(object):\n",
    "    name = None\n",
    "    gender = None\n",
    "    birthdate = None\n",
    "\n",
    "    def  __getattr__(self, item):\n",
    "        print(item)\n",
    "        if item == 'age':\n",
    "            return datetime.datetime.now() - self.birthdate\n",
    "        else:\n",
    "            return None\n",
    "\n",
    "    def __getattribute__(self, item):\n",
    "        return object.__getattribute__(self, item)\n",
    "\n",
    "h = Human()\n",
    "h.birthdate = datetime.datetime(2020,4,18)\n",
    "h.age = 89\n",
    "print(h.age)\n"
   ]
  },
  {
   "cell_type": "code",
   "execution_count": null,
   "id": "83a1fec1-25e8-4ecb-80f0-5bcb2e5b56c9",
   "metadata": {},
   "outputs": [],
   "source": [
    "# ***************************************************************************import \n",
    "\n",
    "# does store in memory this command:l = [i for i in xrange(10000)]\n",
    "# does store in memory this command:l = (i for i in xrange(10000))\n",
    "\n",
    "# However, it's important to note that in Python 3, xrange() has been removed, and range() now behaves like the old xrange() in Python 2, \n",
    "# providing an iterable that generates values on-the-fly rather than creating a full list in memory.\n"
   ]
  },
  {
   "cell_type": "code",
   "execution_count": 37,
   "id": "6b1983a0-9350-429b-9934-cafe9d9e5f50",
   "metadata": {},
   "outputs": [],
   "source": [
    "#Set Dict List bytarr are mutable\n",
    "# Immutable types\n",
    "immutable_int = 42\n",
    "immutable_float = 3.14\n",
    "immutable_bool = True\n",
    "immutable_str = \"Hello, World!\"\n",
    "immutable_tuple = (1, 2, 3)\n",
    "immutable_frozenset = frozenset([1, 2, 3])\n",
    "immutable_bytes = b\"example\"\n",
    "\n",
    "# Mutable types\n",
    "mutable_list = [1, 2, 3]\n",
    "mutable_dict = {'key': 'value'}\n",
    "mutable_set = {1, 2, 3}\n",
    "mutable_bytearray = bytearray(b\"mutable\")\n",
    "\n",
    "# NoneType\n",
    "none_type = None\n",
    "\n"
   ]
  },
  {
   "cell_type": "code",
   "execution_count": 40,
   "id": "4c874c4f-fefb-4db3-9bf6-d3ed833f52be",
   "metadata": {},
   "outputs": [
    {
     "name": "stdout",
     "output_type": "stream",
     "text": [
      "female\n"
     ]
    }
   ],
   "source": [
    "class Human(object):\n",
    "\n",
    "    ALLOWED_GENDERS = ['male', 'female']\n",
    "\n",
    "    def __init__(self, name=None, gender=None):\n",
    "        self.name = name\n",
    "        self._gender = gender\n",
    "\n",
    "    @property\n",
    "    def gender(self):\n",
    "        return self._gender\n",
    "\n",
    "    @gender.setter\n",
    "    def gender(self, newvalue):\n",
    "        if newvalue not in self.ALLOWED_GENDERS:\n",
    "            raise ValueError('Invalid value for gender: %s. Should be one of %s.' % (newvalue, \", \".join(self.ALLOWED_GENDERS)))\n",
    "\n",
    "        self._gender = newvalue\n",
    "\n",
    "\n",
    "h = Human()\n",
    "h.name = 'Sweety'\n",
    "h.gender = 'female'\n",
    "\n",
    "print(h.gender)"
   ]
  },
  {
   "cell_type": "code",
   "execution_count": null,
   "id": "533a334c-3034-4c64-beed-1497193254a4",
   "metadata": {},
   "outputs": [],
   "source": [
    "class StockSpanner:\n",
    "\n",
    "    def __init__(self):\n",
    "        self.stack=[]\n",
    "        \n",
    "\n",
    "    def next(self, price: int) -> int:\n",
    "        counter = 1\n",
    "        if self.stack:\n",
    "            print(f\"stack[-1][0]:{self.stack[-1][0]}\")\n",
    "            \n",
    "        while self.stack and self.stack[-1][0] <= price:\n",
    "            counter += self.stack.pop()[1]\n",
    "            print(f\"stack:{self.stack.pop()[1]}\")\n",
    "\n",
    "        self.stack.append((price,counter))\n",
    "        return counter\n",
    "        \n",
    "# Your StockSpanner object will be instantiated and called as such:\n",
    "obj = StockSpanner()\n",
    "\n",
    "param_1 = obj.next(100)\n",
    "print(param_1)\n",
    "\n",
    "param_2 = obj.next(50)\n",
    "print(param_2)\n",
    "\n",
    "param_3 = obj.next(200)\n",
    "print(param_3)        "
   ]
  },
  {
   "cell_type": "code",
   "execution_count": null,
   "id": "46a6d0b4-9664-4dc7-acae-9d61e3719ff0",
   "metadata": {},
   "outputs": [],
   "source": [
    "#updateDic\n",
    "mydic = {\"name\":\"shr\",\"family\":\"ros\"}\n",
    "\n",
    "myUpdic = {\"age\":20 , \"name\":\"arsho\"}\n",
    "\n",
    "myUpdic.update(mydic)\n",
    "\n",
    "print(myUpdic)"
   ]
  },
  {
   "cell_type": "code",
   "execution_count": 1,
   "id": "d3bbcac8-307e-419f-a455-ab2f82b942d8",
   "metadata": {},
   "outputs": [
    {
     "name": "stdout",
     "output_type": "stream",
     "text": [
      " name:shr, family:shro\n"
     ]
    }
   ],
   "source": [
    "#pasing dic as param with value\n",
    "def displaytitle(name, family):\n",
    "    print(f\" name:{name}, family:{family}\")\n",
    "\n",
    "\n",
    "mydic = {\"name\":\"shr\",\"family\":\"shro\"}\n",
    "\n",
    "displaytitle(**mydic)\n"
   ]
  },
  {
   "cell_type": "code",
   "execution_count": 48,
   "id": "3756ada7-46bc-4c82-a199-8bea8ab1ead0",
   "metadata": {},
   "outputs": [
    {
     "name": "stdout",
     "output_type": "stream",
     "text": [
      "[1, 1, 4, 2, 1, 1, 1, 0]\n"
     ]
    }
   ],
   "source": [
    "#while temperatures and temperatures[0][-1] <= \n",
    "temperatures = [73,74,75,71,69,72,76,73]\n",
    "#print(dir(temperatures))\n",
    "#print(temperatures[3:])\n",
    "result=[]\n",
    "\n",
    "\n",
    "for index, itemMst  in enumerate(temperatures):    \n",
    "    #print(itemMst)\n",
    "    cnt = 0\n",
    "    for item in temperatures[index+1:]:\n",
    "        #print(f\" itemMst:{itemMst} item:{item}\")\n",
    "        if item > itemMst:\n",
    "            cnt += 1\n",
    "            break\n",
    "        else:\n",
    "            cnt += 1\n",
    "    result.append(cnt)\n",
    "        \n",
    "   \n",
    "\n",
    "print(result)\n",
    "    \n"
   ]
  },
  {
   "cell_type": "code",
   "execution_count": null,
   "id": "5325c201-ca91-43d5-864a-9689de23fa6c",
   "metadata": {},
   "outputs": [],
   "source": [
    "# spells = [5,1,3]\n",
    "# potions = [1,2,3,4,5]\n",
    "# success = 7\n",
    "spells = [3,1,2]\n",
    "potions = [8,5,8]\n",
    "success = 16\n",
    "\n",
    "res = [0] * len(spells)\n",
    "potions.sort()\n",
    "\n",
    "for i in range(len(spells)):\n",
    "    # find the smallest value to reach in spells\n",
    "    needed = success//spells[i] + bool(success % spells[i])\n",
    "\n",
    "    l, r = 0, len(potions) # r should start with len(potions) to give a full range from 0 to len(potions) to l\n",
    "    while l < r:\n",
    "        mid = l + (r - l) // 2\n",
    "        if potions[mid] < needed:\n",
    "            l = mid + 1\n",
    "        else:\n",
    "            r = mid\n",
    "        res[i] = len(potions) - l\n",
    "\n",
    "print(res)\n",
    "\n",
    "\n",
    "# potions.sort() # Sort the potions array\n",
    "# pairs = [0] * len(spells) # Initialize the result array with zeros\n",
    "\n",
    "# for i, spell in enumerate(spells):\n",
    "#     # Find the lower and upper bounds for the binary search\n",
    "#     lower = 0\n",
    "#     upper = len(potions) - 1\n",
    "\n",
    "#     while lower <= upper:\n",
    "#         mid = lower + (upper - lower) // 2\n",
    "#         product = spell * potions[mid]\n",
    "\n",
    "#         if product >= success:\n",
    "#             # If the product is successful, search for a smaller potion\n",
    "#             upper = mid - 1\n",
    "#         else:\n",
    "#             # If the product is not successful, search for a larger potion\n",
    "#             lower = mid + 1\n",
    "\n",
    "#     # The number of successful pairs is the index of the last successful potion + 1\n",
    "#     # If no potion is successful, the index is 0\n",
    "#     pairs[i] = lower + 1\n",
    "\n",
    "# print(pairs)\n",
    "\n",
    "\n"
   ]
  },
  {
   "cell_type": "code",
   "execution_count": 57,
   "id": "97cad036-f76f-4f98-9985-3613aba57e57",
   "metadata": {},
   "outputs": [
    {
     "name": "stdout",
     "output_type": "stream",
     "text": [
      "2\n"
     ]
    }
   ],
   "source": [
    "print(0 + (5 - 0) // 2)"
   ]
  },
  {
   "cell_type": "code",
   "execution_count": null,
   "id": "6c41bf63-1117-4cb2-889c-c9a2ea9ae432",
   "metadata": {},
   "outputs": [],
   "source": [
    "# Input: spells = [5,1,3], potions = [1,2,3,4,5], success = 7\n",
    "# Output: [4,0,3]\n",
    "# Explanation:\n",
    "# - 0th spell: 5 * [1,2,3,4,5] = [5,10,15,20,25]. 4 pairs are successful.\n",
    "# - 1st spell: 1 * [1,2,3,4,5] = [1,2,3,4,5]. 0 pairs are successful.\n",
    "# - 2nd spell: 3 * [1,2,3,4,5] = [3,6,9,12,15]. 3 pairs are successful.\n",
    "# Thus, [4,0,3] is returned.\n",
    "\n",
    "# spells = [5,1,3]\n",
    "# potions = [1,2,3,4,5]\n",
    "# success = 7\n",
    "\n",
    "# potions.sort()\n",
    "# pairs = [0] * len(spells)\n",
    "\n",
    "# for i, spell in enumerate(spells):\n",
    "#      # find the smallest value to reach in spells\n",
    "#     needed = success//spells[i] + bool(success % spells[i])\n",
    "#     print(needed)\n",
    "#     left , right = 0 , len(potions) - 1\n",
    "#     while left <= right:\n",
    "#         mid = left + (right - left) // 2\n",
    "#         if int(spell) * int(potions[mid]) >= success:\n",
    "#            right = mid\n",
    "#         else:\n",
    "#            left = mid+1\n",
    "\n",
    "            \n",
    "#     pairs[i] = len(potions) - left\n",
    "\n",
    "# print(pairs)\n",
    "\n"
   ]
  },
  {
   "cell_type": "code",
   "execution_count": 1,
   "id": "ee5793b4-a763-4331-badb-d1f4e56f263d",
   "metadata": {},
   "outputs": [
    {
     "name": "stdout",
     "output_type": "stream",
     "text": [
      "6\n",
      "16\n",
      "8\n",
      "[2, 0, 2]\n"
     ]
    }
   ],
   "source": [
    "spells = [3,1,2]\n",
    "potions = [8,5,8]\n",
    "success = 16\n",
    "\n",
    "res = [0] * len(spells)\n",
    "potions.sort()\n",
    "\n",
    "for i in range(len(spells)):\n",
    "    # find the smallest value to reach in spells\n",
    "    needed = success//spells[i] + bool(success % spells[i])\n",
    "    print(needed)\n",
    "    l, r = 0, len(potions) # r should start with len(potions) to give a full range from 0 to len(potions) to l\n",
    "    while l < r:\n",
    "        mid = l + (r - l) // 2\n",
    "        if potions[mid] < needed:\n",
    "            l = mid + 1\n",
    "        else:\n",
    "            r = mid\n",
    "        res[i] = len(potions) - l\n",
    "\n",
    "print(res)"
   ]
  },
  {
   "cell_type": "code",
   "execution_count": 11,
   "id": "0aa1b142-bfd1-43f7-bb12-aba2873b80f5",
   "metadata": {},
   "outputs": [
    {
     "name": "stdout",
     "output_type": "stream",
     "text": [
      "mid:2 , int(potions[mid]):3 , int(spell) *:15\n",
      "mid:1 , int(potions[mid]):2 , int(spell) *:10\n",
      "mid:0 , int(potions[mid]):1 , int(spell) *:5\n",
      "len(potions) - left:4\n",
      "mid:2 , int(potions[mid]):3 , int(spell) *:3\n",
      "mid:4 , int(potions[mid]):5 , int(spell) *:5\n",
      "len(potions) - left:0\n",
      "mid:2 , int(potions[mid]):3 , int(spell) *:9\n",
      "mid:1 , int(potions[mid]):2 , int(spell) *:6\n",
      "len(potions) - left:3\n",
      "[4, 0, 3]\n"
     ]
    }
   ],
   "source": [
    "spells = [5,1,3]\n",
    "potions = [1,2,3,4,5]\n",
    "success = 7\n",
    "\n",
    "# spells = [3,1,2]\n",
    "# potions = [8,5,8]\n",
    "# success = 16\n",
    "\n",
    "# Input: spells = [5,1,3], potions = [1,2,3,4,5], success = 7\n",
    "# Output: [4,0,3]\n",
    "# Explanation:\n",
    "# - 0th spell: 5 * [1,2,3,4,5] = [5,10,15,20,25]. 4 pairs are successful.\n",
    "# - 1st spell: 1 * [1,2,3,4,5] = [1,2,3,4,5]. 0 pairs are successful.\n",
    "# - 2nd spell: 3 * [1,2,3,4,5] = [3,6,9,12,15]. 3 pairs are successful.\n",
    "# Thus, [4,0,3] is returned.\n",
    "\n",
    "potions.sort()\n",
    "pairs = [0] * len(spells) \n",
    "\n",
    "for i, spell in enumerate(spells):    \n",
    "    left , right = 0 , len(potions)\n",
    "    while left < right:\n",
    "        mid = left + (right - left) // 2\n",
    "        print(f\"mid:{mid} , int(potions[mid]):{int(potions[mid])} , int(spell) *:{int(spell) * int(potions[mid])}\")        \n",
    "        if int(spell) * int(potions[mid]) >= success:\n",
    "           right = mid\n",
    "        else:\n",
    "           left = mid+1\n",
    "\n",
    "    print(f\"len(potions) - left:{len(potions) - left}\")\n",
    "    pairs[i] = len(potions) - left\n",
    "\n",
    "print(pairs)"
   ]
  },
  {
   "cell_type": "code",
   "execution_count": 55,
   "id": "bfad967d-5f12-4070-b334-dcbb83f7b377",
   "metadata": {},
   "outputs": [
    {
     "name": "stdout",
     "output_type": "stream",
     "text": [
      "5\n",
      "[2, 3, 4, 5]\n"
     ]
    }
   ],
   "source": [
    "points = [[1,2],[2,3],[3,4],[4,5]] \n",
    "#points = [[1,2],[3,4],[5,6],[7,8]] #[[10,16],[2,8],[1,6],[7,12]]\n",
    "# START, END = 0,1\n",
    "# points.sort(key=lambda i: (i[START],i[END]) )\n",
    "# print(points)\n",
    "imax = max(number for subList in points for number in subList)\n",
    "print (imax)\n",
    "result = []\n",
    "cnt = 0\n",
    "#print(points[0:])\n",
    "while cnt <= imax:\n",
    "    for item in points[cnt:]:\n",
    "      #print(f\"cnt:{cnt+1} [{item[0]} , {item[1]}] {item[0]+cnt+1}\")\n",
    "      if item[0] <= item[0]+cnt+1 <= item[1]:          \n",
    "          #if item[0]+cnt+1 not in result:\n",
    "          result.append(item[0]+cnt+1)\n",
    "          #break          \n",
    "    cnt += 1        \n",
    "    \n",
    "unique_items = set(result)\n",
    "# If you need a list:\n",
    "unique_list = list(unique_items)\n",
    "# print(unique_list)\n",
    "print(result)"
   ]
  },
  {
   "cell_type": "code",
   "execution_count": 36,
   "id": "546d3b36-a121-45f2-8339-8c530eeb7969",
   "metadata": {},
   "outputs": [
    {
     "name": "stdout",
     "output_type": "stream",
     "text": [
      "4\n"
     ]
    }
   ],
   "source": [
    "points = [[1,2],[3,4],[5,6],[7,8]]\n",
    "\n",
    "n = len(points)\n",
    "if n<2:\n",
    "    print(n)\n",
    "\n",
    "#sort by start and end point\n",
    "START, END = 0,1\n",
    "points.sort(key=lambda i: (i[START],i[END]) )\n",
    "prev, cur = points[0], None\n",
    "darts = 0\n",
    "\n",
    "for i in range(1, n):\n",
    "    cur = points[i]\n",
    "\n",
    "    if cur[START] <= prev[END]:\n",
    "        #overlap, wait for more overlap to throw dart\n",
    "        prev = [cur[START], min(cur[END],prev[END])]\n",
    "    else:\n",
    "        #no overlap, throw dart at previous\n",
    "        darts += 1\n",
    "        prev = cur\n",
    "\n",
    "#pop the last balloon and return\n",
    "print(darts+1)"
   ]
  },
  {
   "cell_type": "code",
   "execution_count": 30,
   "id": "67b1709e-a5a1-43f9-90c7-e6750d4e0a63",
   "metadata": {},
   "outputs": [
    {
     "name": "stdout",
     "output_type": "stream",
     "text": [
      "world hello\n",
      "world hello\n"
     ]
    }
   ],
   "source": [
    "str = \"  hello world  \"\n",
    "s = str.split()\n",
    "s = list(s)\n",
    "s = reversed(s)\n",
    "\n",
    "print(' '.join(s))\n",
    "\n",
    "arr = str.split(' ')\n",
    "# print(len(arr))\n",
    "# print(s.split(' '))\n",
    "\n",
    "# print(arr[-1:])\n",
    "# print(arr[-2:])\n",
    "result = []\n",
    "i = 1\n",
    "# print(arr[len(arr) - i]) \n",
    "\n",
    "while i <= len(arr):\n",
    "    #print(arr[len(arr) - i]) \n",
    "    if arr[len(arr) - i]:\n",
    "        result.append(arr[len(arr) - i])\n",
    "    i += 1\n",
    "\n",
    "# while arr[-1:]:\n",
    "#     result.append(arr[-1:])\n",
    "#     arr.pop(arr[-1:])\n",
    "#     print(arr)\n",
    "\n",
    "print(' '.join(result))\n"
   ]
  },
  {
   "cell_type": "code",
   "execution_count": 44,
   "id": "58dcdf06-ec87-4dc0-a34a-fc26446795f6",
   "metadata": {},
   "outputs": [
    {
     "name": "stdout",
     "output_type": "stream",
     "text": [
      "4 4\n",
      "[3, 1, 2, 2] [3, 1, 2, 2]\n",
      "[2, 4, 2, 2] [2, 4, 2, 2]\n",
      "[2, 4, 2, 2] [2, 4, 2, 2]\n",
      "[[0, 0], [2, 2], [3, 2]]\n"
     ]
    }
   ],
   "source": [
    "grid0 = [[3,2,1],[1,7,6],[2,7,7]]\n",
    "grid  = [[3,1,2,2],[1,4,4,5],[2,4,2,2],[2,4,2,2]]\n",
    "\n",
    "transposed_array = [[row[i] for row in grid] for i in range(len(grid[0]))]\n",
    "result = []\n",
    "row  = len(grid)\n",
    "col = len(grid[0]) \n",
    "print (row , col )\n",
    "\n",
    "for i , item in enumerate(grid):\n",
    "    for j , subitem in enumerate(transposed_array):\n",
    "        if item == subitem:\n",
    "            result.append([i,j])\n",
    "            print(item, subitem)\n",
    "\n",
    "print(result)\n",
    "\n",
    "\n",
    "\n",
    "\n"
   ]
  },
  {
   "cell_type": "code",
   "execution_count": 39,
   "id": "21bf7ae6-b4dc-42fe-b267-6f54aeb7d1fd",
   "metadata": {},
   "outputs": [
    {
     "name": "stdout",
     "output_type": "stream",
     "text": [
      "[[3, 1, 2], [2, 7, 7], [1, 6, 7]]\n"
     ]
    }
   ],
   "source": [
    "array = [[3,2,1],[1,7,6],[2,7,7]]\n",
    "transposed_array = [[row[i] for row in array] for i in range(len(array[0]))]\n",
    "\n",
    "print(transposed_array)"
   ]
  },
  {
   "cell_type": "code",
   "execution_count": 51,
   "id": "bc88b3b7-a89c-411d-a2ea-a04b414330f0",
   "metadata": {},
   "outputs": [
    {
     "name": "stdout",
     "output_type": "stream",
     "text": [
      "[[3, 1, 2, 2], [1, 4, 4, 4], [2, 4, 2, 2], [2, 5, 2, 2]]\n"
     ]
    }
   ],
   "source": [
    "grid  = [[3,1,2,2],[1,4,4,5],[2,4,2,2],[2,4,2,2]]\n",
    "trans = [ [row[i] for row in grid] for i in range(len(grid[0])) ]\n",
    "print(trans)\n",
    "#row for row in arr for sub in arr"
   ]
  },
  {
   "cell_type": "code",
   "execution_count": 61,
   "id": "9aea4dd7-89a4-4b16-8bcb-97c62ea1fa9b",
   "metadata": {},
   "outputs": [
    {
     "name": "stdout",
     "output_type": "stream",
     "text": [
      "[2, 5]\n"
     ]
    }
   ],
   "source": [
    "original_list  = [2, 5, 2, 2]\n",
    "unique_list = list(dict.fromkeys(original_list))\n",
    "print(unique_list)"
   ]
  },
  {
   "cell_type": "code",
   "execution_count": 76,
   "id": "808cd561-ecc2-4092-a572-b0918df1ec28",
   "metadata": {},
   "outputs": [
    {
     "name": "stdout",
     "output_type": "stream",
     "text": [
      "5\n",
      "[3, 1, 2, 2, 1, 4, 4, 4, 2, 4, 2, 2, 2, 5, 2, 2]\n",
      "[3, 1, 2, 2, 1, 4, 4, 4, 2, 4, 2, 2, 2, 5, 2, 2]\n"
     ]
    }
   ],
   "source": [
    "points  = [[3, 1, 2, 2], [1, 4, 4, 4], [2, 4, 2, 2], [2, 5, 2, 2]]\n",
    "print(max([number for subList in points for number in subList]))\n",
    "\n",
    "print([ number for sublist in points for number in sublist] )\n",
    "\n",
    "\n",
    "#print(list(dict.fromkeys(points)))\n",
    "\n",
    "#[row for sublist in points for row in sublist]\n",
    "\n",
    "new  = [number for subList in points for number in subList]\n",
    "print(new)\n"
   ]
  },
  {
   "cell_type": "code",
   "execution_count": 59,
   "id": "b3237ce5-47d3-411e-85f9-aed8cc4610a8",
   "metadata": {},
   "outputs": [
    {
     "name": "stdout",
     "output_type": "stream",
     "text": [
      "4500\n"
     ]
    }
   ],
   "source": [
    "class Vehicle():\n",
    "\n",
    "    def getBrand(self)-> str:\n",
    "        pass\n",
    "\n",
    "    def getModel(self)-> str:\n",
    "        pass\n",
    "\n",
    "    def getPrice(self)-> int:\n",
    "        pass\n",
    "\n",
    "class MarutiCar(Vehicle):\n",
    "    \n",
    "    def getBrand(self)-> str:\n",
    "        return 'get Maruti brand'\n",
    "    \n",
    "    def getModel(self)-> str:\n",
    "        return 'get  Maruti model'\n",
    "    \n",
    "    def getPrice(self)-> int:\n",
    "        return 1000\n",
    "\n",
    "class BmwCar(Vehicle):\n",
    "    \n",
    "    def getBrand(self)-> str:\n",
    "        return 'get Bmw brand'\n",
    "    \n",
    "    def getModel(self)-> str:\n",
    "        return 'get Bmw model'\n",
    "    \n",
    "    def getPrice(self)-> int:\n",
    "        return 10000\n",
    "\n",
    "class BenzCar(Vehicle):\n",
    "    \n",
    "    def getBrand(self)-> str:\n",
    "        return 'get Benz brand'\n",
    "    \n",
    "    def getModel(self)-> str:\n",
    "        return 'get benz model'\n",
    "    \n",
    "    def getPrice(self)-> int:\n",
    "        return 1500\n",
    "        \n",
    "class Decorator(Vehicle):\n",
    "    \n",
    "    _vehicle: Vehicle = None\n",
    "    \n",
    "    def __init__(self, vehicle:Vehicle)-> None:\n",
    "        self._vehicle  = vehicle\n",
    "\n",
    "    @property\n",
    "    def vehicle(self) -> Vehicle:\n",
    "        return self._vehicle\n",
    "        \n",
    "    def getBrand(self)-> str:\n",
    "        return self._vehicle.getBrand()\n",
    "            \n",
    "    def getModel(self)-> str:\n",
    "        return self._vehicle.getModel()\n",
    "    \n",
    "    def getPrice(self)-> int:\n",
    "        return self._vehicle.getPrice()\n",
    "        \n",
    "\n",
    "class HoliOffer(Decorator):\n",
    "    \n",
    "    def getPrice(self) -> int:\n",
    "        PercentDiscount = 10\n",
    "        return self.vehicle.getPrice() * (100 - PercentDiscount) // 100\n",
    "        \n",
    "class DiwaliOffer(Decorator):\n",
    "    \n",
    "    def getPrice(self) -> int:\n",
    "        PercentDiscount = 50\n",
    "        return self.vehicle.getPrice() * (100 - PercentDiscount) // 100\n",
    "        \n",
    "def client_code(vehicle: Vehicle) -> None:\n",
    "    print(f\"RESULT: {vehicle.getPrice()}\", end=\"\")\n",
    "\n",
    "# simple = BmwCar()\n",
    "# client_code(simple)\n",
    "\n",
    "car = BmwCar()\n",
    "car = HoliOffer(car)\n",
    "car = DiwaliOffer(car)\n",
    "print(car.getPrice())\n",
    "#client_code(car1)\n",
    "\n"
   ]
  },
  {
   "cell_type": "code",
   "execution_count": null,
   "id": "f2c1fd1e-d528-4bcf-bb3a-3046d07a559b",
   "metadata": {},
   "outputs": [],
   "source": [
    "points = [[10,16],[2,8],[1,6],[7,12]]\n",
    "\n",
    "imax = max(number for subList in points for number in subList)\n",
    "print (imax)\n",
    "\n",
    "result = []\n",
    "cnt = 1\n",
    "while cnt < imax:\n",
    "    for i, item in enumerate(points):\n",
    "        if item[0] <= cnt <= item[1]:\n",
    "            result.append(i)\n",
    "\n",
    "\n",
    "print(result)\n"
   ]
  },
  {
   "cell_type": "code",
   "execution_count": 4,
   "id": "c2375517-3b9e-4c62-83ec-d9cf5d17b168",
   "metadata": {},
   "outputs": [
    {
     "name": "stdout",
     "output_type": "stream",
     "text": [
      "Espresso, Mocha $2.19\n",
      "Dark Roast Coffee, Mocha, Mocha, Whip $1.49\n",
      "House Blend Coffee, Soy, Mocha, Whip $1.34\n"
     ]
    }
   ],
   "source": [
    "import abc\n",
    "\n",
    "\n",
    "class Beverage(abc.ABC):\n",
    "    \"\"\"Base class for all beverages\"\"\"\n",
    "\n",
    "    def __init__(self):\n",
    "        self.description = \"Unknown Beverage\"\n",
    "\n",
    "    def get_description(self):\n",
    "        return self.description\n",
    "\n",
    "    @abc.abstractmethod\n",
    "    def cost(self):\n",
    "        raise NotImplementedError\n",
    "\n",
    "\n",
    "class CondimentDecorator(Beverage, abc.ABC):\n",
    "    \"\"\"Base class for all condiments\"\"\"\n",
    "\n",
    "    @abc.abstractmethod\n",
    "    def get_description(self):\n",
    "        raise NotImplementedError\n",
    "\n",
    "\n",
    "class Espresso(Beverage):\n",
    "    def __init__(self):\n",
    "        self.description = \"Espresso\"\n",
    "\n",
    "    def cost(self):\n",
    "        return 1.99\n",
    "\n",
    "\n",
    "class HouseBlend(Beverage):\n",
    "    def __init__(self):\n",
    "        self.description = \"House Blend Coffee\"\n",
    "\n",
    "    def cost(self):\n",
    "        return 0.89\n",
    "\n",
    "\n",
    "class DarkRoast(Beverage):\n",
    "\n",
    "    def __init__(self):\n",
    "        self.description = \"Dark Roast Coffee\"\n",
    "\n",
    "    def cost(self):\n",
    "        return 0.99\n",
    "\n",
    "\n",
    "class Mocha(CondimentDecorator):\n",
    "    def __init__(self, beverage: Beverage):\n",
    "        self.beverage = beverage\n",
    "\n",
    "    def get_description(self):\n",
    "        return self.beverage.get_description() + \", Mocha\"\n",
    "\n",
    "    def cost(self):\n",
    "        return self.beverage.cost() + 0.20\n",
    "\n",
    "\n",
    "class Whip(CondimentDecorator):\n",
    "\n",
    "    def __init__(self, beverage):\n",
    "        self.beverage = beverage\n",
    "\n",
    "    def get_description(self):\n",
    "        return self.beverage.get_description() + \", Whip\"\n",
    "\n",
    "    def cost(self):\n",
    "        return 0.1 + self.beverage.cost()\n",
    "\n",
    "\n",
    "class Soy(CondimentDecorator):\n",
    "\n",
    "    def __init__(self, beverage):\n",
    "        self.beverage = beverage\n",
    "\n",
    "    def get_description(self):\n",
    "        return self.beverage.get_description() + \", Soy\"\n",
    "\n",
    "    def cost(self):\n",
    "        return 0.15 + self.beverage.cost()\n",
    "\n",
    "\n",
    "def star_buzz_coffee():\n",
    "    \"\"\"Test code\"\"\"\n",
    "    beverage = Espresso()\n",
    "    beverage = Mocha(beverage)\n",
    "    print(beverage.get_description() + f\" ${beverage.cost()}\")\n",
    "\n",
    "    beverage2 = DarkRoast()\n",
    "    beverage2 = Mocha(beverage2)\n",
    "    beverage2 = Mocha(beverage2)\n",
    "    beverage2 = Whip(beverage2)\n",
    "    print(beverage2.get_description() + f\" ${beverage2.cost()}\")\n",
    "\n",
    "    beverage3 = HouseBlend()\n",
    "    beverage3 = Soy(beverage3)\n",
    "    beverage3 = Mocha(beverage3)\n",
    "    beverage3 = Whip(beverage3)\n",
    "    print(beverage3.get_description() + f\" ${beverage3.cost()}\")\n",
    "\n",
    "\n",
    "if __name__ == \"__main__\":\n",
    "    star_buzz_coffee()"
   ]
  },
  {
   "cell_type": "code",
   "execution_count": 72,
   "id": "f47494ed-0798-442b-aa1a-9cd4d227967f",
   "metadata": {},
   "outputs": [
    {
     "name": "stdout",
     "output_type": "stream",
     "text": [
      "1000 Blank Car\n",
      "1210 Blank Car, has CruiseControl, has ABS\n"
     ]
    }
   ],
   "source": [
    "class Car():\n",
    "\n",
    "    def get_desc()-> str:\n",
    "        pass\n",
    "        \n",
    "    def cost()-> int:\n",
    "        pass\n",
    "\n",
    "class CarOptionDecorator(Car):\n",
    "    _car : Car = None\n",
    "\n",
    "    def __init__(self, car:Car)-> None:\n",
    "        self._car = car\n",
    "\n",
    "    @property\n",
    "    def car(self):\n",
    "        return self._car\n",
    "\n",
    "    def get_desc(self)-> str:\n",
    "        return self.get_desc()\n",
    "\n",
    "    def cost(self)-> int:\n",
    "        return self.cost()\n",
    "\n",
    "class CruiseControlOption(CarOptionDecorator):\n",
    "\n",
    "    def get_desc(self):\n",
    "        return self.car.get_desc() + ', has CruiseControl'\n",
    "\n",
    "    def cost(self):\n",
    "        return self.car.cost() + (self.car.cost() * 10 // 100)\n",
    "\n",
    "class ABSOption(CarOptionDecorator):\n",
    "\n",
    "    def get_desc(self):\n",
    "        return self.car.get_desc() + ', has ABS'\n",
    "\n",
    "    def cost(self):\n",
    "        return self.car.cost() + (self.car.cost() * 10 // 100)\n",
    "\n",
    "class FullAirBagOption(CarOptionDecorator):\n",
    "\n",
    "    def get_desc(self):\n",
    "        return self.car.get_desc() + ', has FullAirBag'\n",
    "\n",
    "    def cost(self):\n",
    "        return self.car.cost() + (self.car.cost() * 10 // 100)\n",
    "        \n",
    "class BlankCar(Car):\n",
    "\n",
    "    def get_desc(self)-> str:\n",
    "        return 'Blank Car'\n",
    "        \n",
    "    def cost(self) -> int:\n",
    "        return 1000\n",
    "\n",
    "\n",
    "mycar = BlankCar()\n",
    "print(mycar.cost(), mycar.get_desc())\n",
    "\n",
    "mycar = CruiseControlOption(mycar)\n",
    "mycar = ABSOption(mycar)\n",
    "print(mycar.cost(), mycar.get_desc())\n",
    "\n",
    "\n",
    "    \n",
    "\n"
   ]
  },
  {
   "cell_type": "code",
   "execution_count": 90,
   "id": "088bb00d-618f-48d4-aed5-7983954f459a",
   "metadata": {},
   "outputs": [
    {
     "name": "stdout",
     "output_type": "stream",
     "text": [
      "__main__\n",
      "__main__\n",
      "same\n"
     ]
    }
   ],
   "source": [
    "class SingletonBase(type):\n",
    "    _instances = {}\n",
    "\n",
    "    def __call__(cls, *args, **kwargs):\n",
    "        if cls not in cls._instances:\n",
    "            instance=super().__call__(*args, **kwargs)\n",
    "            cls._instances[cls] = instance\n",
    "        return cls._instances[cls]\n",
    "\n",
    "class singletone(metaclass=SingletonBase):\n",
    "    def myfun(self):\n",
    "        return __name__\n",
    "\n",
    "s1 = singletone()\n",
    "s2 = singletone()\n",
    "\n",
    "print(s1.myfun())\n",
    "print(s2.myfun())\n",
    "\n",
    "\n",
    "if s1 == s2:\n",
    "    print('same')\n",
    "else:\n",
    "    print('diff')"
   ]
  },
  {
   "cell_type": "code",
   "execution_count": 98,
   "id": "c2860599-2389-4f1f-bcba-df1219124fa4",
   "metadata": {},
   "outputs": [
    {
     "name": "stdout",
     "output_type": "stream",
     "text": [
      "shr\n",
      "shr\n"
     ]
    }
   ],
   "source": [
    "from threading import Thread, Lock\n",
    "\n",
    "class SingletoneMeta(type):\n",
    "    \n",
    "    _instances = {}\n",
    "    _lock : Lock = Lock()\n",
    "    def __call__(cls, *args, **kwagrs):\n",
    "\n",
    "        with cls._lock:\n",
    "            if cls not in cls._instances:\n",
    "                instance=super().__call__(*args, **kwagrs)\n",
    "                cls._instances[cls] = instance\n",
    "            return cls._instances[cls]\n",
    "\n",
    "class Singletine(metaclass= SingletoneMeta): \n",
    "    value:str=None\n",
    "    \n",
    "    def __init__(self, value:str)-> None:\n",
    "        self.value = value\n",
    "    \n",
    "    def myfunc(self):\n",
    "        return __name__\n",
    "\n",
    "# class testSingletone(value:str)-> None:  \n",
    "def testSingletone(value: str) -> None:\n",
    "    sng = Singletine(value)\n",
    "    print(sng.value)\n",
    "\n",
    "pro1=Thread(target= testSingletone, args=('shr',))\n",
    "pro2=Thread(target= testSingletone, args=('asho',))\n",
    "\n",
    "pro1.start()\n",
    "pro2.start()\n",
    "\n",
    "# s1=Singletine()\n",
    "# s2=Singletine()\n",
    "\n",
    "# if id(s1) == id(s2):\n",
    "#     print('same')\n",
    "# else:\n",
    "#     print('diff')"
   ]
  },
  {
   "cell_type": "code",
   "execution_count": 110,
   "id": "94d941ef-b375-4e9f-a2fe-d43df15b1e7e",
   "metadata": {},
   "outputs": [
    {
     "name": "stdout",
     "output_type": "stream",
     "text": [
      "this spectial\n",
      "\n",
      "my Adaptee \n",
      "\n",
      "\n",
      "Adapter: (TRANSLATED) my Adaptee \n",
      "\n"
     ]
    }
   ],
   "source": [
    "class Target():\n",
    "\n",
    "    def request(self)-> str:\n",
    "        return 'this spectial'\n",
    "\n",
    "class Adaptee():\n",
    "\n",
    "     def specific_request(self) -> str:\n",
    "        return 'my Adaptee '\n",
    "\n",
    "class Adapter(Target, Adaptee):\n",
    "    \n",
    "    def request(self) -> str:\n",
    "        return f\"Adapter: (TRANSLATED) {self.specific_request()}\"\n",
    "\n",
    "def client(target:'Target')-> None:\n",
    "    print(target.request(), end=\"\")\n",
    "\n",
    "\n",
    "target = Target()\n",
    "client(target)\n",
    "print(\"\\n\")\n",
    "adapte = Adaptee()\n",
    "print(adapte.specific_request())\n",
    "print(\"\\n\")\n",
    "adapter = Adapter()\n",
    "client(adapter)\n",
    "print(\"\\n\")"
   ]
  },
  {
   "cell_type": "code",
   "execution_count": 122,
   "id": "b22c3444-4630-4ff2-8620-c8057f0fb02d",
   "metadata": {},
   "outputs": [
    {
     "name": "stdout",
     "output_type": "stream",
     "text": [
      "bmw Z4\n"
     ]
    }
   ],
   "source": [
    "class Car():\n",
    "    \n",
    "    def getdtl(self, model):\n",
    "        pass\n",
    "\n",
    "class Factory():\n",
    "\n",
    "    def getCar(brand)-> Car:\n",
    "        if brand == 'Bmw':\n",
    "            return BMWCar()\n",
    "\n",
    "        if brand == 'GTI':\n",
    "            return GTICar()\n",
    "\n",
    "class BMWCar(Car):\n",
    "\n",
    "    def getdtl(self, model):\n",
    "        if model == 'Z4':\n",
    "            return 'bmw Z4'\n",
    "        if model == 'M5':\n",
    "            return 'bmw M5'\n",
    "            \n",
    "\n",
    "class GTICar(Car):\n",
    "\n",
    "    def getdtl(self, model):\n",
    "        if model == 'fj':\n",
    "            return 'GTI fj'\n",
    "            \n",
    "        if model == 'start':\n",
    "            return 'GTI start'\n",
    "        \n",
    "car = Factory.getCar('Bmw')\n",
    "model = 'Z4'\n",
    "print(car.getdtl(model))\n",
    "        "
   ]
  },
  {
   "cell_type": "code",
   "execution_count": 124,
   "id": "b751cc79-76e3-4be2-b223-07df1c700974",
   "metadata": {},
   "outputs": [
    {
     "name": "stdout",
     "output_type": "stream",
     "text": [
      "Dell Labtop\n"
     ]
    }
   ],
   "source": [
    "from __future__ import annotations\n",
    "from abc import ABC, abstractmethod\n",
    "\n",
    "class Labtop(ABC):\n",
    "    @abstractmethod\n",
    "    def display(self) -> str:\n",
    "        pass\n",
    "        \n",
    "class SmartPhone(ABC):\n",
    "    @abstractmethod\n",
    "    def display(self) -> None:\n",
    "        pass\n",
    "\n",
    "# create concrete product labtop\n",
    "class DellLabtop(Labtop):\n",
    "        def display(self):\n",
    "            return 'Dell Labtop'\n",
    "\n",
    "# create concrete product smart phone\n",
    "class IPhoneSmartPhone(SmartPhone):\n",
    "        def display(self):\n",
    "            return 'IPhone smart phone'\n",
    "\n",
    "\n",
    "class DeviceFactory(ABC):\n",
    "\n",
    "    @abstractmethod\n",
    "    def create_product_labtop(self)-> DellLabtop:\n",
    "        pass\n",
    "\n",
    "    @abstractmethod\n",
    "    def create_product_smartphone(self) -> IPhoneSmartPhone:\n",
    "        pass\n",
    "\n",
    "# Concrete Factories\n",
    "class DellLabtopFactory(DeviceFactory):\n",
    "        def create_product_labtop(self)-> DellLabtop:\n",
    "            return DellLabtop()\n",
    "\n",
    "        def create_product_smartphone(self)-> IPhoneSmartPhone:\n",
    "            return None\n",
    "            \n",
    "# Concrete Factories            \n",
    "class IPhoneSmartPhoneFactory(DeviceFactory):\n",
    "        def create_product_labtop(self)-> DellLabtop:\n",
    "            return None\n",
    "\n",
    "        def create_product_smartphone(self)-> IPhoneSmartPhone:\n",
    "            return IPhoneSmartPhone()\n",
    "\n",
    "\n",
    "dellfacy = DellLabtopFactory().create_product_labtop()\n",
    "print(dellfacy.display())\n",
    "    "
   ]
  },
  {
   "cell_type": "code",
   "execution_count": 141,
   "id": "7c0cece7-addf-4cf0-8a51-ff2fedff1fbf",
   "metadata": {},
   "outputs": [
    {
     "name": "stdout",
     "output_type": "stream",
     "text": [
      "150.0\n",
      "110.0\n"
     ]
    }
   ],
   "source": [
    "from abc import ABC, abstractmethod\n",
    "from __future__ import annotations\n",
    "from typing import List\n",
    "\n",
    "class Strategy(ABC):\n",
    "    \n",
    "    @abstractmethod\n",
    "    def calculateProcessingFee(self, amount)-> int:\n",
    "        pass\n",
    "\n",
    "class CreditCardPayment(PaymentMethodStartegy):\n",
    "        def calculateProcessingFee(self, amount):\n",
    "            return 0.5 * amount\n",
    "            \n",
    "class DebitCardPayment(PaymentMethodStartegy):\n",
    "        def calculateProcessingFee(self, amount):\n",
    "            return 0.1 * amount\n",
    "            \n",
    "class NetBankingPayment(PaymentMethodStartegy):\n",
    "        def calculateProcessingFee(self, amount):\n",
    "            return 0.1 * amount\n",
    "\n",
    "class Context():\n",
    "    def __init__(self, strategy: Strategy) -> None:\n",
    "        self._strategy = strategy\n",
    "\n",
    "    @property\n",
    "    def strategy(self) -> Strategy:\n",
    "        return self._strategy\n",
    "\n",
    "    @strategy.setter\n",
    "    def strategy(self, strategy: Strategy) -> None:\n",
    "        self._strategy = strategy\n",
    "        \n",
    "    def ProcessPayment(self, amount) -> None:\n",
    "        return amount + self._strategy.calculateProcessingFee(amount)\n",
    "\n",
    "\n",
    "context = Context(CreditCardPayment())\n",
    "print(context.ProcessPayment(100))\n",
    "\n",
    "context.strategy = NetBankingPayment()\n",
    "print(context.ProcessPayment(100))\n",
    "\n",
    "\n",
    "\n",
    "\n",
    "    \n",
    "    "
   ]
  },
  {
   "cell_type": "code",
   "execution_count": null,
   "id": "5287dae9-e644-4d0c-ba8f-0b8d90476f25",
   "metadata": {},
   "outputs": [],
   "source": []
  }
 ],
 "metadata": {
  "kernelspec": {
   "display_name": "Python 3 (ipykernel)",
   "language": "python",
   "name": "python3"
  },
  "language_info": {
   "codemirror_mode": {
    "name": "ipython",
    "version": 3
   },
   "file_extension": ".py",
   "mimetype": "text/x-python",
   "name": "python",
   "nbconvert_exporter": "python",
   "pygments_lexer": "ipython3",
   "version": "3.11.4"
  }
 },
 "nbformat": 4,
 "nbformat_minor": 5
}
