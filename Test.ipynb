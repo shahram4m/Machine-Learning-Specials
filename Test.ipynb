{
 "cells": [
  {
   "cell_type": "code",
   "execution_count": null,
   "id": "805e2c66-6893-49e9-94ec-1818d35d2709",
   "metadata": {
    "ExecuteTime": {
     "end_time": "2023-09-09T16:20:12.701435Z",
     "start_time": "2023-09-09T16:20:12.685846Z"
    }
   },
   "outputs": [],
   "source": [
    "x = [1, 2, 3]\n",
    "y = x\n",
    "x = x * 2\n",
    "print(y)"
   ]
  },
  {
   "cell_type": "code",
   "execution_count": null,
   "id": "4eb5d525",
   "metadata": {
    "ExecuteTime": {
     "end_time": "2023-09-10T09:21:22.244627Z",
     "start_time": "2023-09-10T09:21:22.232688Z"
    },
    "collapsed": false,
    "jupyter": {
     "outputs_hidden": false
    }
   },
   "outputs": [],
   "source": [
    "def my_func(a, b):\n",
    "    return a / b\n",
    "\n",
    "result = my_func(5, 2)\n",
    "print(result)"
   ]
  },
  {
   "cell_type": "code",
   "execution_count": null,
   "id": "f62f55a7",
   "metadata": {
    "ExecuteTime": {
     "end_time": "2023-09-13T07:58:40.286439Z",
     "start_time": "2023-09-13T07:58:40.267415Z"
    },
    "collapsed": false,
    "jupyter": {
     "outputs_hidden": false
    }
   },
   "outputs": [],
   "source": [
    "my_set = {1, 2, 3, 4, 5}\n",
    "my_set.discard(3)\n",
    "print(my_set)"
   ]
  },
  {
   "cell_type": "code",
   "execution_count": null,
   "id": "52c1b232",
   "metadata": {
    "collapsed": false,
    "jupyter": {
     "outputs_hidden": false
    }
   },
   "outputs": [],
   "source": [
    "# Import the necessaries libraries\n",
    "import plotly.offline as pyo\n",
    "import plotly.graph_objs as go\n",
    "# Set notebook mode to work in offline\n",
    "pyo.init_notebook_mode()\n",
    "# Create traces\n",
    "trace0 = go.Scatter(\n",
    "    x=[1, 2, 3, 4],\n",
    "    y=[10, 15, 13, 17]\n",
    ")\n",
    "trace1 = go.Scatter(\n",
    "    x=[1, 2, 3, 4],\n",
    "    y=[16, 5, 11, 9]\n",
    ")\n",
    "# Fill out data with our traces\n",
    "data = [trace0, trace1]\n",
    "# Plot it and save as basic-line.html\n",
    "pyo.iplot(data, filename = 'basic-line')"
   ]
  },
  {
   "cell_type": "code",
   "execution_count": null,
   "id": "4b853c73-3cc3-4e7f-8e56-73afd4ad9ddf",
   "metadata": {},
   "outputs": [],
   "source": [
    "def func1():\n",
    "    print('func1')\n",
    "\n",
    "def func2():\n",
    "    print('func2')\n",
    "\n",
    "def func3():\n",
    "    print('func3')\n",
    "number = 2\n",
    "\n",
    "func_map = {1:func1, 2:func2}\n",
    "\n",
    "func_map.get(number, func3)()\n"
   ]
  },
  {
   "cell_type": "code",
   "execution_count": null,
   "id": "a8325d49-db73-4a1f-b8c1-c735bb65eea3",
   "metadata": {},
   "outputs": [],
   "source": [
    "fruits  = ['a', 'b', 'c', 'd']\n",
    "for index, fruites in enumerate(fruits):\n",
    "    print(f\"index:{index} fruites:{fruites}\" )"
   ]
  },
  {
   "cell_type": "code",
   "execution_count": 6,
   "id": "4279ecee-f10a-4588-88a2-56c688917b12",
   "metadata": {},
   "outputs": [
    {
     "name": "stdout",
     "output_type": "stream",
     "text": [
      "ali shali ['go'] ['Shahram']\n"
     ]
    }
   ],
   "source": [
    "class aClass():\n",
    "    arr = []\n",
    "    def __init__(self, name, a):\n",
    "        self.name = name\n",
    "        self.arr = a\n",
    "        \n",
    "a = aClass('ali', [\"go\"])\n",
    "b = aClass('shali', [])\n",
    "b.arr.append('Shahram')\n",
    "\n",
    "print(a.name, b.name, a.arr, b.arr)\n"
   ]
  },
  {
   "cell_type": "code",
   "execution_count": null,
   "id": "f0ec2ebe-cad5-4823-9ab4-9aacfff5ab28",
   "metadata": {},
   "outputs": [],
   "source": []
  }
 ],
 "metadata": {
  "kernelspec": {
   "display_name": "Python 3 (ipykernel)",
   "language": "python",
   "name": "python3"
  },
  "language_info": {
   "codemirror_mode": {
    "name": "ipython",
    "version": 3
   },
   "file_extension": ".py",
   "mimetype": "text/x-python",
   "name": "python",
   "nbconvert_exporter": "python",
   "pygments_lexer": "ipython3",
   "version": "3.10.9"
  }
 },
 "nbformat": 4,
 "nbformat_minor": 5
}
