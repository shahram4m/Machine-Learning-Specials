{
 "cells": [
  {
   "cell_type": "code",
   "execution_count": 2,
   "id": "e22dd62b-20a5-4784-86f1-c6e1eaed86d0",
   "metadata": {},
   "outputs": [
    {
     "name": "stdout",
     "output_type": "stream",
     "text": [
      "['spam', 'not_spam', 'not_spam', 'not_spam', 'not_spam', 'not_spam', 'not_spam', 'not_spam', 'not_spam', 'not_spam', 'not_spam', 'not_spam', 'not_spam', 'not_spam', 'not_spam', 'not_spam', 'not_spam', 'not_spam', 'not_spam', 'not_spam', 'not_spam', 'not_spam', 'not_spam', 'not_spam', 'not_spam', 'not_spam', 'not_spam', 'not_spam', 'not_spam', 'not_spam', 'not_spam']\n"
     ]
    }
   ],
   "source": [
    "# import os \n",
    "# import re \n",
    "import collections\n",
    "   \n",
    "def getSpamEmails(subjects, spam_words):\n",
    "    spam_set = set(word.lower() for word in spam_words)\n",
    "    result= []    \n",
    "    for index, item in enumerate(subjects):        \n",
    "        subject_words = item.lower().split()\n",
    "        word_count = collections.Counter(subject_words)\n",
    "        spam_word_count = sum(word_count[word] for word in spam_set)\n",
    "        if spam_word_count >= 2:\n",
    "            result.append('spam')\n",
    "        else:\n",
    "            result.append('not_spam')\n",
    "\n",
    "    return result\n",
    "\n",
    "\n",
    "\n",
    "subjects = [\"gwnpnzijd gwnpnzijd gwnpnzijd gwnpnzijd gwnpnzijd gwnpnzijd gwnpnzijd gwnpnzijd gwnpnzijd\",\n",
    "    \"alcgxovldqfzaor\", \"hdigyojknvi\", \"ztpcmxlvovafh\", \"phvshyfiqqtqbxjj\", \"qngqjhwkcexec\", \"dkmzakbzrkjwqdy\",\n",
    "    \"gwnpnzijd\", \"gwnpnzijd\", \"gwnpnzijd\", \"gwnpnzijd\", \"gwnpnzijd\", \"gwnpnzijd\", \"gwnpnzijd\", \"gwnpnzijd\", \"gwnpnzijd\",\n",
    "    \"ssjoatryxmbwxbw\", \"xnagmaygz\", \"fnzpqftobtaotua\", \"xmwvzllkujidh\", \"kzwzcltgqngguft\", \"ahalwvjwqncksiz\",\n",
    "    \"gwnpnzijd\", \"gwnpnzijd\", \"gwnpnzijd\", \"gwnpnzijd\", \"gwnpnzijd\", \"gwnpnzijd\", \"gwnpnzijd\", \"gwnpnzijd\", \"gwnpnzijd\"] \n",
    "spam_words = [\"free\", \"monry\", \"win\", \"millions\", \"Gwnpnzijd\"]\n",
    "\n",
    "print(getSpamEmails(subjects, spam_words))\n"
   ]
  },
  {
   "cell_type": "code",
   "execution_count": 9,
   "id": "60c4fe08-9013-4e51-98e7-a1c45445cffd",
   "metadata": {},
   "outputs": [
    {
     "name": "stdout",
     "output_type": "stream",
     "text": [
      "3\n"
     ]
    }
   ],
   "source": [
    "def largest_square(samples):\n",
    "    if not samples or not samples[0]:\n",
    "        return 0\n",
    "\n",
    "    rows = len(samples)\n",
    "    cols = len(samples[0])\n",
    "    max_side = 0\n",
    "\n",
    "    dp = [[0] * cols for _ in range(rows)]\n",
    "\n",
    "    for i in range(rows):\n",
    "        for j in range(cols):\n",
    "            if samples[i][j] == 1:\n",
    "                if i == 0 or j == 0:\n",
    "                    dp[i][j] = 1\n",
    "                else:\n",
    "                    dp[i][j] = min(dp[i - 1][j], dp[i][j - 1], dp[i - 1][j - 1]) + 1\n",
    "                    \n",
    "                max_side = max(max_side, dp[i][j])\n",
    "\n",
    "    return max_side\n",
    "\n",
    "input =[[1,1,1,1,1], [1,1,1,0,0],[1,1,1,0,0], [1,1,1,0,0],[1,1,1,1,1]]\n",
    "\n",
    "print(largest_square(input))\n"
   ]
  },
  {
   "cell_type": "code",
   "execution_count": 6,
   "id": "674edd06-d66c-4b36-ab9e-e6e1969aa878",
   "metadata": {},
   "outputs": [
    {
     "name": "stdout",
     "output_type": "stream",
     "text": [
      "True\n",
      "True\n",
      "True\n"
     ]
    }
   ],
   "source": [
    "def isValidBST(preOrder):\n",
    "    def checkBST(start, end):\n",
    "        if start > end:\n",
    "            return True\n",
    "        \n",
    "        nodeIndex = start\n",
    "\n",
    "        while nodeIndex <= end and preOrder[nodeIndex]!= \"node\":\n",
    "            nodeIndex += 1\n",
    "            \n",
    "        if nodeIndex < end and preOrder[nodeIndex] == \"node\":\n",
    "            leftSubTreeStart = start + 1\n",
    "            leftSubTreeEnd = nodeIndex - 1\n",
    "            if not checkBST(leftSubTreeStart, leftSubTreeEnd):\n",
    "                return False\n",
    "    \n",
    "        rightSubTreeStart = nodeIndex + 1\n",
    "        rightSubTreeEnd = end\n",
    "        if rightSubTreeStart <= rightSubTreeEnd and preOrder[rightSubTreeStart] == \"noc\":\n",
    "            if not checkBST(rightSubTreeStart, rightSubTreeEnd):\n",
    "                return False\n",
    "        \n",
    "        return True\n",
    "\n",
    "    rootValue = preOrder[0]\n",
    "    \n",
    "    if preOrder.count(\"node\")!= preOrder.count(\"noc\"):\n",
    "        return False\n",
    "    \n",
    "    return checkBST(1, len(preOrder) - 1)\n",
    "\n",
    "# Test cases\n",
    "print(isValidBST(\"1 3 2\"))  # Expected: Yes\n",
    "print(isValidBST(\"2 1 3\"))  # Expected: Yes\n",
    "print(isValidBST(\"3 4 5 1 2\"))  # Expected: No\n",
    "\n",
    "\n",
    "\n",
    "\n"
   ]
  },
  {
   "cell_type": "code",
   "execution_count": 7,
   "id": "14b611d1-f77c-433a-a9ec-c6dab5e6ce3a",
   "metadata": {},
   "outputs": [
    {
     "name": "stdout",
     "output_type": "stream",
     "text": [
      "True\n",
      "True\n"
     ]
    }
   ],
   "source": [
    "def isValidBST(preOrder):\n",
    "    def checkBST(start, end):\n",
    "        if start > end:\n",
    "            return True\n",
    "        \n",
    "        nodeIndex = start\n",
    "        while nodeIndex <= end and preOrder[nodeIndex]!= \"node\":\n",
    "            nodeIndex += 1\n",
    "        \n",
    "        if nodeIndex < end and preOrder[nodeIndex] == \"node\":\n",
    "            leftSubTreeStart = start + 1\n",
    "            leftSubTreeEnd = nodeIndex - 1\n",
    "            if not checkBST(leftSubTreeStart, leftSubTreeEnd):\n",
    "                return False\n",
    "        \n",
    "        rightSubTreeStart = nodeIndex + 1\n",
    "        rightSubTreeEnd = end\n",
    "        if rightSubTreeStart <= rightSubTreeEnd and preOrder[rightSubTreeStart] == \"noc\":\n",
    "            if not checkBST(rightSubTreeStart, rightSubTreeEnd):\n",
    "                return False\n",
    "        \n",
    "        return True\n",
    "    \n",
    "    rootValue = preOrder[0]\n",
    "    if preOrder.count(\"node\")!= preOrder.count(\"noc\"):\n",
    "        return False\n",
    "    \n",
    "    return checkBST(1, len(preOrder) - 1)\n",
    "\n",
    "# Test cases\n",
    "print(isValidBST(\"3 4 5 1 2\"))  # Expected: No\n",
    "print(isValidBST(\"1 3 4 2\"))   # Expected: No"
   ]
  },
  {
   "cell_type": "code",
   "execution_count": 10,
   "id": "79a675d2-c8b4-4277-ac3f-4cb03e47a034",
   "metadata": {},
   "outputs": [
    {
     "name": "stdout",
     "output_type": "stream",
     "text": [
      "Yes\n",
      "Yes\n",
      "No\n",
      "No\n"
     ]
    }
   ],
   "source": [
    "def isValidBST(preorder):\n",
    "    stack = []\n",
    "    root = float('-inf')\n",
    "    \n",
    "    for value in map(int, preorder.split()):\n",
    "        if value < root:\n",
    "            return \"No\"\n",
    "    \n",
    "        while stack and stack[-1] < value:\n",
    "            root = stack.pop()    \n",
    "        stack.append(value)    \n",
    "    return \"Yes\"\n",
    "\n",
    "# Test cases\n",
    "print(isValidBST(\"1 3 2\"))  # Expected: Yes\n",
    "print(isValidBST(\"2 1 3\"))  # Expected: Yes\n",
    "print(isValidBST(\"3 4 5 1 2\"))  # Expected: No\n",
    "print(isValidBST(\"1 3 4 2\"))  # Expected: No\n"
   ]
  },
  {
   "cell_type": "code",
   "execution_count": 11,
   "id": "180818f7-915e-418b-846a-cecb05031f60",
   "metadata": {},
   "outputs": [
    {
     "ename": "TypeError",
     "evalue": "'<' not supported between instances of 'str' and 'float'",
     "output_type": "error",
     "traceback": [
      "\u001b[1;31m---------------------------------------------------------------------------\u001b[0m",
      "\u001b[1;31mTypeError\u001b[0m                                 Traceback (most recent call last)",
      "Cell \u001b[1;32mIn[11], line 23\u001b[0m\n\u001b[0;32m     21\u001b[0m preorder1 \u001b[38;5;241m=\u001b[39m \u001b[38;5;124m\"\u001b[39m\u001b[38;5;124m3 4 5 1 2\u001b[39m\u001b[38;5;124m\"\u001b[39m\n\u001b[0;32m     22\u001b[0m preorder2 \u001b[38;5;241m=\u001b[39m \u001b[38;5;124m\"\u001b[39m\u001b[38;5;124m1 3 4 2\u001b[39m\u001b[38;5;124m\"\u001b[39m\n\u001b[1;32m---> 23\u001b[0m \u001b[38;5;28mprint\u001b[39m(\u001b[43misValidBST\u001b[49m\u001b[43m(\u001b[49m\u001b[43mpreorder1\u001b[49m\u001b[43m)\u001b[49m)\n\u001b[0;32m     24\u001b[0m \u001b[38;5;28mprint\u001b[39m(isValidBST(preorder2))\n",
      "Cell \u001b[1;32mIn[11], line 8\u001b[0m, in \u001b[0;36misValidBST\u001b[1;34m(preorder)\u001b[0m\n\u001b[0;32m      5\u001b[0m \u001b[38;5;66;03m# Traverse the preorder list\u001b[39;00m\n\u001b[0;32m      6\u001b[0m \u001b[38;5;28;01mfor\u001b[39;00m val \u001b[38;5;129;01min\u001b[39;00m preorder:\n\u001b[0;32m      7\u001b[0m     \u001b[38;5;66;03m# If the current value is less than the maximum value, it violates the BST property\u001b[39;00m\n\u001b[1;32m----> 8\u001b[0m     \u001b[38;5;28;01mif\u001b[39;00m \u001b[43mval\u001b[49m\u001b[43m \u001b[49m\u001b[38;5;241;43m<\u001b[39;49m\u001b[43m \u001b[49m\u001b[43mmax_val\u001b[49m:\n\u001b[0;32m      9\u001b[0m         \u001b[38;5;28;01mreturn\u001b[39;00m \u001b[38;5;124m\"\u001b[39m\u001b[38;5;124mNO\u001b[39m\u001b[38;5;124m\"\u001b[39m\n\u001b[0;32m     11\u001b[0m     \u001b[38;5;66;03m# Remove elements from the stack which are smaller than the current value\u001b[39;00m\n",
      "\u001b[1;31mTypeError\u001b[0m: '<' not supported between instances of 'str' and 'float'"
     ]
    }
   ],
   "source": [
    "def isValidBST(preorder):\n",
    "    stack = []\n",
    "    max_val = float('-inf')\n",
    "\n",
    "    # Traverse the preorder list\n",
    "    for val in preorder:\n",
    "        # If the current value is less than the maximum value, it violates the BST property\n",
    "        if val < max_val:\n",
    "            return \"NO\"\n",
    "\n",
    "        # Remove elements from the stack which are smaller than the current value\n",
    "        while stack and stack[-1] < val:\n",
    "            max_val = stack.pop()\n",
    "\n",
    "        # Push the current value to the stack\n",
    "        stack.append(val)\n",
    "\n",
    "    return \"YES\"\n",
    "\n",
    "# Testing:\n",
    "preorder1 = \"3 4 5 1 2\"\n",
    "preorder2 = \"1 3 4 2\"\n",
    "print(isValidBST(preorder1))\n",
    "print(isValidBST(preorder2))"
   ]
  },
  {
   "cell_type": "code",
   "execution_count": null,
   "id": "8385381b-f611-4f5d-b1b1-8be436065945",
   "metadata": {},
   "outputs": [],
   "source": []
  }
 ],
 "metadata": {
  "kernelspec": {
   "display_name": "Python 3 (ipykernel)",
   "language": "python",
   "name": "python3"
  },
  "language_info": {
   "codemirror_mode": {
    "name": "ipython",
    "version": 3
   },
   "file_extension": ".py",
   "mimetype": "text/x-python",
   "name": "python",
   "nbconvert_exporter": "python",
   "pygments_lexer": "ipython3",
   "version": "3.10.9"
  }
 },
 "nbformat": 4,
 "nbformat_minor": 5
}
