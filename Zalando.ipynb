{
 "cells": [
  {
   "cell_type": "code",
   "execution_count": 8,
   "id": "b60c18a9-ce48-463f-81ca-8a15fe6bd66c",
   "metadata": {},
   "outputs": [
    {
     "name": "stdout",
     "output_type": "stream",
     "text": [
      "hi\n"
     ]
    }
   ],
   "source": [
    "print('hi')"
   ]
  },
  {
   "cell_type": "code",
   "execution_count": 34,
   "id": "a804cdce-60c7-4a72-82ea-27cd46a92b83",
   "metadata": {},
   "outputs": [],
   "source": [
    "#from collections import Counter, Sort\n",
    "def quicksort(arr):\n",
    "    if len(arr) <= 1:\n",
    "        return arr\n",
    "    else:\n",
    "        pivot = arr[0]\n",
    "        left = [x for x in arr[1:] if x < pivot]\n",
    "        right = [x for x in arr[1:] if x >= pivot]        \n",
    "        return quicksort(left) + [pivot] + quicksort(right)\n",
    "def solution(A):\n",
    "    arr = list(filter(lambda x: x > 0, A))\n",
    "    if not len(arr):\n",
    "        return 1\n",
    "    sorted_arr = quicksort(arr)\n",
    "    for index, item in enumerate(sorted_arr):\n",
    "        if not item + 1 in sorted_arr:\n",
    "            return item + 1"
   ]
  },
  {
   "cell_type": "code",
   "execution_count": 35,
   "id": "0f8d4d43-445c-4545-bc31-3f6369a7ec3a",
   "metadata": {},
   "outputs": [
    {
     "data": {
      "text/plain": [
       "5"
      ]
     },
     "execution_count": 35,
     "metadata": {},
     "output_type": "execute_result"
    }
   ],
   "source": [
    "solution([1,2,1,3,4,6])\n"
   ]
  },
  {
   "cell_type": "code",
   "execution_count": 36,
   "id": "b6c922f2-1198-4341-9145-977484793552",
   "metadata": {},
   "outputs": [
    {
     "name": "stdout",
     "output_type": "stream",
     "text": [
      "7\n"
     ]
    }
   ],
   "source": [
    "x = 15\n",
    "y = 2\n",
    "\n",
    "print(x // y)"
   ]
  },
  {
   "cell_type": "code",
   "execution_count": 56,
   "id": "11f992d3-57b8-407a-9ae4-9c1dbfae5ef8",
   "metadata": {},
   "outputs": [
    {
     "name": "stdout",
     "output_type": "stream",
     "text": [
      "\n"
     ]
    }
   ],
   "source": [
    "# you can write to stdout for debugging purposes, e.g.\n",
    "# print(\"this is a debug message\")\n",
    "import re\n",
    "\n",
    "def solution(S):\n",
    "    # Implement your solution here\n",
    "    regex = r\"AB|BA|CD|DC\"    \n",
    "    #return re.sub(regex, \"\", S, 250000)    \n",
    "    PervResult = S\n",
    "    while True:        \n",
    "        result = re.sub(regex, \"\", PervResult, 1)    \n",
    "        if PervResult == result:\n",
    "            return result\n",
    "        else:\n",
    "            PervResult = result\n",
    "\n",
    "\n",
    "\n",
    "print(solution('CABABD'))"
   ]
  },
  {
   "cell_type": "code",
   "execution_count": 59,
   "id": "e8e880b5-15fc-4128-8685-272ae7a685cb",
   "metadata": {},
   "outputs": [
    {
     "name": "stdout",
     "output_type": "stream",
     "text": [
      "Not possible to create a valid string with the given inputs\n",
      "AAABBBAB\n",
      "Not possible to create a valid string with the given inputs\n",
      "AAABBBAB\n"
     ]
    }
   ],
   "source": [
    "def construct_string(AA, AB, BB):\n",
    "    # Calculate the total number of A's and B's\n",
    "    total_A = 2 * AA + AB  # Each AA contributes 2 A's, each AB contributes 1 A\n",
    "    total_B = 2 * BB + AB  # Each BB contributes 2 B's, each AB contributes 1 B\n",
    "    \n",
    "    # Check if it's possible to create a valid string\n",
    "    if abs(total_A - total_B) > AB:\n",
    "        return \"Not possible to create a valid string with the given inputs\"\n",
    "\n",
    "    result = []\n",
    "    \n",
    "    # We alternate appending substrings based on the counts provided\n",
    "    while AA > 0 or AB > 0 or BB > 0:\n",
    "        if AA > 0:\n",
    "            result.append(\"AA\")\n",
    "            AA -= 1\n",
    "            total_A -= 2\n",
    "        if AB > 0:\n",
    "            result.append(\"AB\")\n",
    "            AB -= 1\n",
    "            total_A -= 1\n",
    "            total_B -= 1\n",
    "        if BB > 0:\n",
    "            result.append(\"BB\")\n",
    "            BB -= 1\n",
    "            total_B -= 2\n",
    "\n",
    "    # Merge the result into a single string\n",
    "    return ''.join(result)\n",
    "\n",
    "# Example usage:\n",
    "print(construct_string(5, 0, 2))  # Output: \"AABBAABBAA\"\n",
    "print(construct_string(1, 2, 1))  # Output: One of the valid combinations like \"ABABABBA\"\n",
    "\n",
    "# Testing with provided inputs\n",
    "print(construct_string(5, 0, 2))  # Expected: \"AABBAABBAA\"\n",
    "print(construct_string(1, 2, 1))  # Expected: \"ABABABBA\" or any valid combination\n"
   ]
  },
  {
   "cell_type": "code",
   "execution_count": 65,
   "id": "57026266-9f6d-4e0e-8013-95d518ce18d3",
   "metadata": {},
   "outputs": [
    {
     "name": "stdout",
     "output_type": "stream",
     "text": [
      "AABBAABBAA\n",
      "AABBABAB\n",
      "ABAB\n",
      "BB\n"
     ]
    }
   ],
   "source": [
    "def solution(AA, AB, BB):\n",
    "    result = []   \n",
    "    while AA > 0 or AB > 0 or BB > 0:\n",
    "        if len(result) >= 2 and result[-1] == result[-2]:\n",
    "            if result[-1] == \"AA\":\n",
    "                if BB > 0:\n",
    "                    result.append(\"BB\")\n",
    "                    BB -= 1\n",
    "                elif AB > 0:\n",
    "                    result.append(\"AB\")\n",
    "                    AB -= 1\n",
    "                else:\n",
    "                    break\n",
    "            elif result[-1] == \"BB\":\n",
    "                if AA > 0:\n",
    "                    result.append(\"AA\")\n",
    "                    AA -= 1\n",
    "                elif AB > 0:\n",
    "                    result.append(\"AB\")\n",
    "                    AB -= 1\n",
    "                else:\n",
    "                    break\n",
    "        else:\n",
    "            if AA >= BB:\n",
    "                if AA > 0:\n",
    "                    result.append(\"AA\")\n",
    "                    AA -= 1\n",
    "                elif AB > 0:\n",
    "                    result.append(\"AB\")\n",
    "                    AB -= 1\n",
    "                elif BB > 0:\n",
    "                    result.append(\"BB\")\n",
    "                    BB -= 1\n",
    "            else:\n",
    "                if BB > 0:\n",
    "                    result.append(\"BB\")\n",
    "                    BB -= 1\n",
    "                elif AB > 0:\n",
    "                    result.append(\"AB\")\n",
    "                    AB -= 1\n",
    "                elif AA > 0:\n",
    "                    result.append(\"AA\")\n",
    "                    AA -= 1\n",
    "                    \n",
    "    resultString = ''.join(result)    \n",
    "    i = 0\n",
    "    while i < len(resultString) - 2:\n",
    "        if resultString[i:i+3] == \"AAA\":\n",
    "            resultString = resultString[:i+2] + resultString[i+3:]\n",
    "        elif resultString[i:i+3] == \"BBB\":\n",
    "            resultString = resultString[:i+2] + resultString[i+3:]\n",
    "        else:\n",
    "            i += 1\n",
    "    \n",
    "    return resultString\n",
    "\n",
    "# Test cases\n",
    "print(solution(5, 0, 2))  # \"AABBAABBAA\" or similar valid string\n",
    "print(solution(1, 2, 1))  # \"BBABABAA\" or similar valid string\n",
    "print(solution(0, 2, 0))  # \"ABAB\"\n",
    "print(solution(0, 0, 10)) # \"BBBBBBBBBB\"\n"
   ]
  },
  {
   "cell_type": "code",
   "execution_count": null,
   "id": "6cbbe2ad-93ba-45ec-b209-73974117081c",
   "metadata": {},
   "outputs": [],
   "source": []
  }
 ],
 "metadata": {
  "kernelspec": {
   "display_name": "Python 3 (ipykernel)",
   "language": "python",
   "name": "python3"
  },
  "language_info": {
   "codemirror_mode": {
    "name": "ipython",
    "version": 3
   },
   "file_extension": ".py",
   "mimetype": "text/x-python",
   "name": "python",
   "nbconvert_exporter": "python",
   "pygments_lexer": "ipython3",
   "version": "3.10.9"
  }
 },
 "nbformat": 4,
 "nbformat_minor": 5
}
