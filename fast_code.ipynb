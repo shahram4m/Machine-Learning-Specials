{
 "cells": [
  {
   "cell_type": "code",
   "execution_count": 1,
   "id": "42531248-b869-4528-be3c-521ce796206a",
   "metadata": {},
   "outputs": [
    {
     "name": "stdout",
     "output_type": "stream",
     "text": [
      "[1, 2, 3, 4]\n"
     ]
    }
   ],
   "source": [
    "numbers = [1, 2, 2, 3, 3, 3, 4, 4, 4, 4]\n",
    "uniq_num = (list(set(numbers)))\n",
    "print(uniq_num)"
   ]
  },
  {
   "cell_type": "code",
   "execution_count": 2,
   "id": "6b88aac7-caca-496c-9487-4b392f3e5c72",
   "metadata": {},
   "outputs": [
    {
     "name": "stdout",
     "output_type": "stream",
     "text": [
      "[1, True]\n"
     ]
    }
   ],
   "source": [
    "data = [0, 1, False, True, \"\", \"hello\", None]\n",
    "filterData = list(filter(lambda x : x ==1 ,data))\n",
    "print(filterData)"
   ]
  },
  {
   "cell_type": "code",
   "execution_count": null,
   "id": "26a95531-8e00-4927-808e-e90b1e7fb72e",
   "metadata": {},
   "outputs": [],
   "source": [
    "numbers = [1, 2, 3, 4, 5]\n",
    "evens = list(filter(lambda x: x % 2 == 0, numbers))\n",
    "squared = list(map(lambda x: x ** 2, numbers))\n"
   ]
  },
  {
   "cell_type": "code",
   "execution_count": 3,
   "id": "443c6085-fc37-4144-aec9-0ff2c8c16525",
   "metadata": {},
   "outputs": [
    {
     "name": "stdout",
     "output_type": "stream",
     "text": [
      "[{'name': 'Bob', 'age': 25}, {'name': 'Alice', 'age': 30}, {'name': 'Charlie', 'age': 35}]\n"
     ]
    }
   ],
   "source": [
    "#sorted func\n",
    "people = [{'name': 'Alice', 'age': 30},\n",
    "            {'name': 'Bob', 'age': 25},\n",
    "            {'name': 'Charlie', 'age': 35}]\n",
    "\n",
    "oldestPerson = sorted(people, key=lambda x : x['age'])\n",
    "print(oldestPerson)"
   ]
  },
  {
   "cell_type": "code",
   "execution_count": 5,
   "id": "e0f2a546-e5d8-49bb-a757-6ef7e6c681f8",
   "metadata": {},
   "outputs": [
    {
     "name": "stdout",
     "output_type": "stream",
     "text": [
      "['cherry']\n"
     ]
    }
   ],
   "source": [
    "import random \n",
    "choices = ['apple', 'banana', 'cherry', 'bluebery']\n",
    "print(random.choices(choices))"
   ]
  },
  {
   "cell_type": "code",
   "execution_count": 10,
   "id": "01a8342c-753c-4d41-826b-84f8d640a983",
   "metadata": {},
   "outputs": [
    {
     "name": "stdout",
     "output_type": "stream",
     "text": [
      "exec time:0.1204683999530971\n",
      "4\n",
      "exec time:1.9600032828748226e-05\n"
     ]
    }
   ],
   "source": [
    "import timeit \n",
    "\n",
    "def myfc():\n",
    "    return {x: x**2 for x in range(1, 10000)}\n",
    "\n",
    "exec_time = timeit.timeit(myfc, number=100)\n",
    "exec_time2 = timeit.timeit(lambda:myfc, number=1)\n",
    "\n",
    "print(f\"exec time:{exec_time}\")\n",
    "\n",
    "\n",
    "import heapq\n",
    "from heapq import heapify, heappop, heappush\n",
    "def findklagest():\n",
    "    # data = [3,2,1,5,6,4]\n",
    "    data = [3,2,3,1,2,4,5,5,6]\n",
    "    k = 4\n",
    "    \n",
    "    # heapify(data)\n",
    "    # print(heappush(data, -2))\n",
    "    [heappop(data) for i in range(3)]\n",
    "    \n",
    "    print(heapq.nlargest(k, data)[k-1])\n",
    "\n",
    "exec_time = timeit.timeit(findklagest, number=1)\n",
    "print(f\"exec time:{exec_time}\")\n",
    "\n",
    "# print(heapq.nsmallest(k, data)[k-1])\n",
    "\n"
   ]
  },
  {
   "cell_type": "code",
   "execution_count": 13,
   "id": "2cfc9964-3538-488b-8957-b2596e6823ad",
   "metadata": {},
   "outputs": [
    {
     "name": "stdout",
     "output_type": "stream",
     "text": [
      "exec time:4.240003181621432e-05\n"
     ]
    }
   ],
   "source": [
    "import asyncio\n",
    "    async def print_numbers():\n",
    "        for i in range(5):\n",
    "            print(i)\n",
    "            await asyncio.sleep(1)\n",
    "            \n",
    "asyncio.run(print_numbers())"
   ]
  },
  {
   "cell_type": "code",
   "execution_count": 14,
   "id": "89cfc4cf-1433-4e77-9625-8fad12da53a1",
   "metadata": {},
   "outputs": [
    {
     "name": "stdout",
     "output_type": "stream",
     "text": [
      "call n:1 time:2024-03-12 22:38:20.060578\n",
      "call n:2 time:2024-03-12 22:38:20.064566\n",
      "call n:3 time:2024-03-12 22:38:20.064566\n",
      "[2, 4, 6]\n"
     ]
    }
   ],
   "source": [
    "import datetime\n",
    "from concurrent.futures import ThreadPoolExecutor\n",
    "def task(n):\n",
    "    print(f\"call n:{n} time:{datetime.datetime.now()}\")\n",
    "    return n * 2\n",
    "with ThreadPoolExecutor() as executor:\n",
    "    result = executor.map(task, [1,2,3])\n",
    "    print(list(result))"
   ]
  },
  {
   "cell_type": "code",
   "execution_count": 15,
   "id": "6fc7d812-94b1-40da-a4d4-a71d87f28d19",
   "metadata": {},
   "outputs": [
    {
     "name": "stdout",
     "output_type": "stream",
     "text": [
      "100\n"
     ]
    }
   ],
   "source": [
    "from concurrent.futures import ThreadPoolExecutor\n",
    "def squr(n):\n",
    "    return n*n\n",
    "with ThreadPoolExecutor() as executor:\n",
    "    result = executor.submit(squr, 10)\n",
    "    print(result.result())"
   ]
  },
  {
   "cell_type": "code",
   "execution_count": 19,
   "id": "798e3730-7f32-4b1b-817e-145109c3a4ec",
   "metadata": {},
   "outputs": [],
   "source": [
    "from concurrent.futures import ProcessPoolExecutor\n",
    "def multiply(n):\n",
    "    return n * 2\n",
    "with ProcessPoolExecutor() as executor:\n",
    "    results = list(executor.map(multiply, [1, 2, 3]))\n",
    "    print(results) # Output: [2, 4, 6]"
   ]
  },
  {
   "cell_type": "code",
   "execution_count": null,
   "id": "375d0352-94b0-4f5c-a65b-555dcd56fd1d",
   "metadata": {},
   "outputs": [],
   "source": [
    "#GIL (Global Interpreter Lock)\n",
    "# The GIL can impact code like this:\n",
    "from threading import Thread\n",
    "def count_up_to(n):\n",
    "    count = 0\n",
    "    while count < n:\n",
    "        count += 1\n",
    "            \n",
    "threads = [Thread(target=count_up_to, args=(100000000,)) for _ in range(2)]\n",
    "for t in threads:\n",
    "    t.start()\n",
    "for t in threads:\n",
    "    t.join()\n",
    "# The performance may not scale linearly with the number of threads due to the GIL"
   ]
  },
  {
   "cell_type": "code",
   "execution_count": null,
   "id": "a1dc9a7b-772b-4cf7-aa7a-fdb2211a1d75",
   "metadata": {},
   "outputs": [],
   "source": [
    "#Parallel Computing\n",
    "from multiprocessing import Pool\n",
    "\n",
    "def squ(n):\n",
    "    return n*n\n",
    "\n",
    "num = [2,5,9,8,6]\n",
    "with Pool() as pool:\n",
    "    result = pool.map(squ, num)\n",
    "print(result)"
   ]
  },
  {
   "cell_type": "code",
   "execution_count": null,
   "id": "81175212-eff6-403e-afc7-f5c9e3550ac4",
   "metadata": {},
   "outputs": [],
   "source": [
    "#Multithreading\n",
    "# Multithreading involves running multiple threads concurrently within a\n",
    "# single process. This allows for efficient execution of tasks,\n",
    "# particularly for I/O-bound or high-level structured network code.\n",
    "\n",
    "import threading\n",
    "def print_numbers():\n",
    "for i in range(10):\n",
    "    print(i)\n",
    "    \n",
    "thread1 = threading.Thread(target=print_numbers)\n",
    "thread2 = threading.Thread(target=print_numbers)\n",
    "    \n",
    "thread1.start()\n",
    "thread2.start()\n",
    "thread1.join()\n",
    "thread2.join()"
   ]
  },
  {
   "cell_type": "code",
   "execution_count": null,
   "id": "df5f40c8-0370-4273-abf2-ff14391f7b22",
   "metadata": {},
   "outputs": [],
   "source": [
    "#Multiprocessing\n",
    "\n",
    "from multiProcess import Proess \n",
    "def printNum(n):\n",
    "    for i in range(n):\n",
    "        pritn(i)\n",
    "        \n",
    "process1 = Process(target=printNum, args=(10))\n",
    "process2 = Process(target=printNum, arges=(10))\n",
    "process1.start()\n",
    "process2.start()\n",
    "process1.join()\n",
    "process2.join()\n"
   ]
  },
  {
   "cell_type": "code",
   "execution_count": null,
   "id": "793472e2-4ab2-4f00-b005-6bfe19c89b1e",
   "metadata": {},
   "outputs": [],
   "source": [
    "name='John Smith'\n",
    "print(name[:5] + name[5:])"
   ]
  },
  {
   "cell_type": "code",
   "execution_count": null,
   "id": "01a2a0c1-9dc3-4f0e-81f5-3e14d9f238c5",
   "metadata": {},
   "outputs": [],
   "source": [
    "#updateDic\n",
    "mydic = {\"name\":\"shr\",\"family\":\"ros\"}\n",
    "\n",
    "myUpdic = {\"age\":20 , \"name\":\"arsho\"}\n",
    "\n",
    "myUpdic.update(mydic)\n",
    "\n",
    "print(myUpdic)"
   ]
  },
  {
   "cell_type": "code",
   "execution_count": 20,
   "id": "b1c727bf-29bb-4df9-bfef-6e79991db4dc",
   "metadata": {},
   "outputs": [
    {
     "name": "stdout",
     "output_type": "stream",
     "text": [
      "[[3, 1, 2, 2], [1, 4, 4, 4], [2, 4, 2, 2], [2, 5, 2, 2]]\n"
     ]
    }
   ],
   "source": [
    "grid  = [[3,1,2,2],[1,4,4,5],[2,4,2,2],[2,4,2,2]]\n",
    "transposed_array = [[row[i] for row in grid] for i in range(len(grid[0]))]\n",
    "print(transposed_array)"
   ]
  },
  {
   "cell_type": "code",
   "execution_count": null,
   "id": "15d747c4-1b2d-43ad-90b1-a6e4e49f49af",
   "metadata": {},
   "outputs": [],
   "source": [
    "# unique_list\n",
    "original_list  = [2, 5, 2, 2]\n",
    "unique_list = list(dict.fromkeys(original_list))\n",
    "print(unique_list)"
   ]
  }
 ],
 "metadata": {
  "kernelspec": {
   "display_name": "Python 3 (ipykernel)",
   "language": "python",
   "name": "python3"
  },
  "language_info": {
   "codemirror_mode": {
    "name": "ipython",
    "version": 3
   },
   "file_extension": ".py",
   "mimetype": "text/x-python",
   "name": "python",
   "nbconvert_exporter": "python",
   "pygments_lexer": "ipython3",
   "version": "3.11.4"
  }
 },
 "nbformat": 4,
 "nbformat_minor": 5
}
